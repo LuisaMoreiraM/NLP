{
 "cells": [
  {
   "cell_type": "markdown",
   "id": "c06b3bcf",
   "metadata": {},
   "source": [
    "# UNIÓN DE TABLAS - BUSQUEDA MANUAL\n",
    "El objetivo de este archivo es continuar con la busqueda del nombre INCI que es la que aparecerá en los productos. \n",
    "Partimos de la base de que tenemos una lista de disruptores endocrinos, pero dichos disruptores pueden ser sustancias o ingredientes utilizadas para la elaboración de:\n",
    "- productos cosméticos.\n",
    "- pesticidas\n",
    "- fungicidas\n",
    "- productos de limpieza\n",
    "- y un largo etc...\n",
    "\n",
    "El cruce con la base de datos de sustancias activas de pesticidas no ha sido suficiente.\n",
    "\n",
    "Para nuestra búsqueda de nombres INCI vamos a realizar los siguientes pasos:\n",
    "\n",
    "1. Unión nuevamente de la tabla de disruptores limpia de pesticidas **\"disruptores_clean\"** con la tabla que tienen los nombres de las etiquetas **\"disruptores_etiqueta\"**, para poder filtrar las que faltan por rellenar.\n",
    "2. Busqueda manual de nombres INCI en varias fuentes que no disponen ni de API ni de archivos para hacer merges\n",
    "3. Tratamiento y exportación de listado final para tratarlo con NLP\n",
    "\n",
    "La primera unión -> **disruptores_clean** y **disruptores_etiqueta**: \n",
    "\n",
    "* Se harán por las claves: CAS no. y EC no.\n",
    "* Objetivo: Unir para quitar de diruptores_clean los que ya tienen etiqueta y con ello hacer búsqueda manual.\n"
   ]
  },
  {
   "cell_type": "markdown",
   "id": "e24519f4",
   "metadata": {},
   "source": [
    "## 1. Importamos librerias"
   ]
  },
  {
   "cell_type": "code",
   "execution_count": 1,
   "id": "f470d13f",
   "metadata": {},
   "outputs": [],
   "source": [
    "import pandas as pd\n",
    "import numpy as np"
   ]
  },
  {
   "cell_type": "markdown",
   "id": "797f5014",
   "metadata": {},
   "source": [
    "## 2. Lectura de datos de \"disrupores_clean\" y \"disruptores_etiqueta\""
   ]
  },
  {
   "cell_type": "code",
   "execution_count": 2,
   "id": "23366d5e",
   "metadata": {},
   "outputs": [
    {
     "name": "stdout",
     "output_type": "stream",
     "text": [
      "<class 'pandas.core.frame.DataFrame'>\n",
      "RangeIndex: 292 entries, 0 to 291\n",
      "Data columns (total 6 columns):\n",
      " #   Column            Non-Null Count  Dtype  \n",
      "---  ------            --------------  -----  \n",
      " 0   Name_Edlist_Echa  292 non-null    object \n",
      " 1   Fuente_original   292 non-null    object \n",
      " 2   Appears on lists  236 non-null    object \n",
      " 3   Health effects    236 non-null    float64\n",
      " 4   CAS Number        279 non-null    object \n",
      " 5   EC Number         247 non-null    object \n",
      "dtypes: float64(1), object(5)\n",
      "memory usage: 13.8+ KB\n"
     ]
    }
   ],
   "source": [
    "# leemos datasets de disrupores_clean\n",
    "disruptores_clean = pd.read_parquet(\"../../data/processed/notebooks/disruptores_clean.parquet\")\n",
    "disruptores_clean.info()"
   ]
  },
  {
   "cell_type": "code",
   "execution_count": 3,
   "id": "37c54215",
   "metadata": {},
   "outputs": [
    {
     "name": "stdout",
     "output_type": "stream",
     "text": [
      "<class 'pandas.core.frame.DataFrame'>\n",
      "RangeIndex: 36 entries, 0 to 35\n",
      "Data columns (total 9 columns):\n",
      " #   Column                Non-Null Count  Dtype  \n",
      "---  ------                --------------  -----  \n",
      " 0   Name_Edlist_Echa      36 non-null     object \n",
      " 1   Name_Chemical_Cosing  36 non-null     object \n",
      " 2   Fuente_original       36 non-null     object \n",
      " 3   Anexo_cosIng          36 non-null     object \n",
      " 4   Appears on lists      26 non-null     object \n",
      " 5   Health effects        26 non-null     float64\n",
      " 6   CAS Number            36 non-null     object \n",
      " 7   EC Number             36 non-null     object \n",
      " 8   nombre_etiqueta       36 non-null     object \n",
      "dtypes: float64(1), object(8)\n",
      "memory usage: 2.7+ KB\n"
     ]
    }
   ],
   "source": [
    "# leemos datasets de disrupores_etiqueta\n",
    "disruptores_etiqueta = pd.read_parquet(\"../../data/processed/notebooks/disruptores_etiqueta.parquet\")\n",
    "disruptores_etiqueta.info()"
   ]
  },
  {
   "cell_type": "markdown",
   "id": "f1acb054",
   "metadata": {},
   "source": [
    "## 2. Disruptores sin nombre INCI"
   ]
  },
  {
   "cell_type": "code",
   "execution_count": 4,
   "id": "f44b0cf8",
   "metadata": {},
   "outputs": [
    {
     "data": {
      "text/html": [
       "<div>\n",
       "<style scoped>\n",
       "    .dataframe tbody tr th:only-of-type {\n",
       "        vertical-align: middle;\n",
       "    }\n",
       "\n",
       "    .dataframe tbody tr th {\n",
       "        vertical-align: top;\n",
       "    }\n",
       "\n",
       "    .dataframe thead th {\n",
       "        text-align: right;\n",
       "    }\n",
       "</style>\n",
       "<table border=\"1\" class=\"dataframe\">\n",
       "  <thead>\n",
       "    <tr style=\"text-align: right;\">\n",
       "      <th></th>\n",
       "      <th>Name_Edlist_Echa</th>\n",
       "      <th>Fuente_original</th>\n",
       "      <th>Appears on lists</th>\n",
       "      <th>Health effects</th>\n",
       "      <th>CAS Number</th>\n",
       "      <th>EC Number</th>\n",
       "    </tr>\n",
       "  </thead>\n",
       "  <tbody>\n",
       "    <tr>\n",
       "      <th>0</th>\n",
       "      <td>2-tert-butyl-4-methoxyphenol (BHA)</td>\n",
       "      <td>Edlist_2</td>\n",
       "      <td>List II</td>\n",
       "      <td>1.0</td>\n",
       "      <td>121-00-6</td>\n",
       "      <td>204-442-7</td>\n",
       "    </tr>\n",
       "    <tr>\n",
       "      <th>1</th>\n",
       "      <td>2-tert-butyl-4-methoxyphenol (BHA)</td>\n",
       "      <td>Edlist_2</td>\n",
       "      <td>List II</td>\n",
       "      <td>1.0</td>\n",
       "      <td>121-00-6</td>\n",
       "      <td>246-563-8</td>\n",
       "    </tr>\n",
       "    <tr>\n",
       "      <th>2</th>\n",
       "      <td>Lithium salts (lithium chloride, lithium carbo...</td>\n",
       "      <td>Edlist_3</td>\n",
       "      <td>List III</td>\n",
       "      <td>1.0</td>\n",
       "      <td>1310-65-2</td>\n",
       "      <td>209-062-5</td>\n",
       "    </tr>\n",
       "    <tr>\n",
       "      <th>3</th>\n",
       "      <td>Lithium salts (lithium chloride, lithium carbo...</td>\n",
       "      <td>Edlist_3</td>\n",
       "      <td>List III</td>\n",
       "      <td>1.0</td>\n",
       "      <td>1310-65-2</td>\n",
       "      <td>215-183-4</td>\n",
       "    </tr>\n",
       "    <tr>\n",
       "      <th>4</th>\n",
       "      <td>Lithium salts (lithium chloride, lithium carbo...</td>\n",
       "      <td>Edlist_3</td>\n",
       "      <td>List III</td>\n",
       "      <td>1.0</td>\n",
       "      <td>1310-65-2</td>\n",
       "      <td>231-212-3</td>\n",
       "    </tr>\n",
       "  </tbody>\n",
       "</table>\n",
       "</div>"
      ],
      "text/plain": [
       "                                    Name_Edlist_Echa Fuente_original  \\\n",
       "0                 2-tert-butyl-4-methoxyphenol (BHA)        Edlist_2   \n",
       "1                 2-tert-butyl-4-methoxyphenol (BHA)        Edlist_2   \n",
       "2  Lithium salts (lithium chloride, lithium carbo...        Edlist_3   \n",
       "3  Lithium salts (lithium chloride, lithium carbo...        Edlist_3   \n",
       "4  Lithium salts (lithium chloride, lithium carbo...        Edlist_3   \n",
       "\n",
       "  Appears on lists  Health effects  CAS Number   EC Number  \n",
       "0          List II             1.0    121-00-6   204-442-7  \n",
       "1          List II             1.0    121-00-6   246-563-8  \n",
       "2         List III             1.0   1310-65-2   209-062-5  \n",
       "3         List III             1.0   1310-65-2   215-183-4  \n",
       "4         List III             1.0   1310-65-2   231-212-3  "
      ]
     },
     "execution_count": 4,
     "metadata": {},
     "output_type": "execute_result"
    }
   ],
   "source": [
    "# consultamos duplicados\n",
    "duplicados = disruptores_clean[disruptores_clean.duplicated(subset='Name_Edlist_Echa', keep=False)].sort_values(by=['CAS Number']) \n",
    "duplicados.head()"
   ]
  },
  {
   "cell_type": "markdown",
   "id": "0e8d459a",
   "metadata": {},
   "source": [
    "No podemos eliminar duplicados por la combinación que hay entre CAS Number y EC Number. Es mejor manterner para tener más posibilidades de encontrar el nombre de la etiqueta en otra base de datos."
   ]
  },
  {
   "cell_type": "code",
   "execution_count": 5,
   "id": "eea81ab6",
   "metadata": {},
   "outputs": [
    {
     "name": "stdout",
     "output_type": "stream",
     "text": [
      "<class 'pandas.core.frame.DataFrame'>\n",
      "RangeIndex: 298 entries, 0 to 297\n",
      "Data columns (total 9 columns):\n",
      " #   Column                Non-Null Count  Dtype  \n",
      "---  ------                --------------  -----  \n",
      " 0   Name_Edlist_Echa      298 non-null    object \n",
      " 1   Fuente_original       298 non-null    object \n",
      " 2   Appears on lists      241 non-null    object \n",
      " 3   Health effects        241 non-null    float64\n",
      " 4   CAS Number            285 non-null    object \n",
      " 5   EC Number             253 non-null    object \n",
      " 6   Name_Chemical_Cosing  36 non-null     object \n",
      " 7   nombre_etiqueta       36 non-null     object \n",
      " 8   Anexo_cosIng          36 non-null     object \n",
      "dtypes: float64(1), object(8)\n",
      "memory usage: 21.1+ KB\n"
     ]
    }
   ],
   "source": [
    "# Hacemos merge entre disrupores_clean y disrupores_etiqueta\n",
    "disruptores_provisional = disruptores_clean.merge(disruptores_etiqueta[[ 'CAS Number', 'EC Number','Name_Chemical_Cosing', 'nombre_etiqueta',  'Anexo_cosIng']], on=['CAS Number', 'EC Number'], how='left' )\n",
    "\n",
    "disruptores_provisional.info()"
   ]
  },
  {
   "cell_type": "code",
   "execution_count": 6,
   "id": "9c84e1f5",
   "metadata": {},
   "outputs": [
    {
     "data": {
      "text/plain": [
       "36"
      ]
     },
     "execution_count": 6,
     "metadata": {},
     "output_type": "execute_result"
    }
   ],
   "source": [
    "disruptores_provisional['nombre_etiqueta'].nunique(dropna=True)"
   ]
  },
  {
   "cell_type": "code",
   "execution_count": 7,
   "id": "61510277",
   "metadata": {},
   "outputs": [
    {
     "data": {
      "text/plain": [
       "Name_Edlist_Echa    257\n",
       "dtype: int64"
      ]
     },
     "execution_count": 7,
     "metadata": {},
     "output_type": "execute_result"
    }
   ],
   "source": [
    "disruptores_provisional[['Name_Edlist_Echa']].nunique(dropna=True)"
   ]
  },
  {
   "cell_type": "markdown",
   "id": "b9b38c6e",
   "metadata": {},
   "source": [
    "Como vemos la variable 'Name_Edlist_Echa' que venía sin nulos antes de la unión tiene 257 registros únicos de los cuales hay 36 registros únicos del 'nombre_etiqueta'.\n",
    "Por lo que después del filtrado deberían quedar 257-36 = 221 registros sin nombre de etiqueta (eliminando duplicados obviamente)"
   ]
  },
  {
   "cell_type": "code",
   "execution_count": 8,
   "id": "5b302b14",
   "metadata": {},
   "outputs": [
    {
     "data": {
      "text/plain": [
       "Name_Edlist_Echa        41\n",
       "Fuente_original         41\n",
       "Appears on lists        38\n",
       "Health effects          38\n",
       "CAS Number              40\n",
       "EC Number               38\n",
       "Name_Chemical_Cosing     6\n",
       "nombre_etiqueta          6\n",
       "Anexo_cosIng             6\n",
       "dtype: int64"
      ]
     },
     "execution_count": 8,
     "metadata": {},
     "output_type": "execute_result"
    }
   ],
   "source": [
    "# consultamos duplicados sin tener en cuenta el primer registro, es decir los que vamos a eliminar\n",
    "duplicados = disruptores_provisional[disruptores_provisional.duplicated(subset=['Name_Edlist_Echa' ], keep='first')].sort_values(by=['nombre_etiqueta', 'Name_Chemical_Cosing']) \n",
    "duplicados.count()"
   ]
  },
  {
   "cell_type": "markdown",
   "id": "824f6f35",
   "metadata": {},
   "source": [
    "298 registros totales - 257 únicos = 41 duplicados. "
   ]
  },
  {
   "cell_type": "code",
   "execution_count": 9,
   "id": "049de39a",
   "metadata": {},
   "outputs": [],
   "source": [
    "disruptores_provisional = disruptores_provisional.drop_duplicates(subset=['Name_Edlist_Echa'], keep='first')"
   ]
  },
  {
   "cell_type": "code",
   "execution_count": 10,
   "id": "503f09e0",
   "metadata": {},
   "outputs": [
    {
     "name": "stdout",
     "output_type": "stream",
     "text": [
      "<class 'pandas.core.frame.DataFrame'>\n",
      "Index: 257 entries, 0 to 297\n",
      "Data columns (total 9 columns):\n",
      " #   Column                Non-Null Count  Dtype  \n",
      "---  ------                --------------  -----  \n",
      " 0   Name_Edlist_Echa      257 non-null    object \n",
      " 1   Fuente_original       257 non-null    object \n",
      " 2   Appears on lists      203 non-null    object \n",
      " 3   Health effects        203 non-null    float64\n",
      " 4   CAS Number            245 non-null    object \n",
      " 5   EC Number             215 non-null    object \n",
      " 6   Name_Chemical_Cosing  30 non-null     object \n",
      " 7   nombre_etiqueta       30 non-null     object \n",
      " 8   Anexo_cosIng          30 non-null     object \n",
      "dtypes: float64(1), object(8)\n",
      "memory usage: 20.1+ KB\n"
     ]
    }
   ],
   "source": [
    "disruptores_provisional.info()"
   ]
  },
  {
   "cell_type": "markdown",
   "id": "4efb3c22",
   "metadata": {},
   "source": [
    "Ahora en vez de eliminar 36 registros se van a eliminar 30, por tanto obtendremos un dataframe de 257-30 = 227"
   ]
  },
  {
   "cell_type": "code",
   "execution_count": 11,
   "id": "ce776940",
   "metadata": {},
   "outputs": [
    {
     "name": "stdout",
     "output_type": "stream",
     "text": [
      "<class 'pandas.core.frame.DataFrame'>\n",
      "Index: 227 entries, 0 to 297\n",
      "Data columns (total 9 columns):\n",
      " #   Column                Non-Null Count  Dtype  \n",
      "---  ------                --------------  -----  \n",
      " 0   Name_Edlist_Echa      227 non-null    object \n",
      " 1   Fuente_original       227 non-null    object \n",
      " 2   Appears on lists      182 non-null    object \n",
      " 3   Health effects        182 non-null    float64\n",
      " 4   CAS Number            215 non-null    object \n",
      " 5   EC Number             185 non-null    object \n",
      " 6   Name_Chemical_Cosing  0 non-null      object \n",
      " 7   nombre_etiqueta       0 non-null      object \n",
      " 8   Anexo_cosIng          0 non-null      object \n",
      "dtypes: float64(1), object(8)\n",
      "memory usage: 17.7+ KB\n"
     ]
    }
   ],
   "source": [
    "disruptores_sin_etiqueta = disruptores_provisional[(disruptores_provisional['nombre_etiqueta'].isnull())]\n",
    "disruptores_sin_etiqueta.info()"
   ]
  },
  {
   "cell_type": "code",
   "execution_count": 12,
   "id": "74c25790",
   "metadata": {},
   "outputs": [],
   "source": [
    "# Eliminamos variables que ya no tienen registros.\n",
    "disruptores_sin_etiqueta = disruptores_sin_etiqueta[['CAS Number', 'EC Number', 'Name_Edlist_Echa', 'Fuente_original', 'Appears on lists','Health effects' ]]"
   ]
  },
  {
   "cell_type": "code",
   "execution_count": 13,
   "id": "6028508d",
   "metadata": {},
   "outputs": [
    {
     "data": {
      "text/html": [
       "<div>\n",
       "<style scoped>\n",
       "    .dataframe tbody tr th:only-of-type {\n",
       "        vertical-align: middle;\n",
       "    }\n",
       "\n",
       "    .dataframe tbody tr th {\n",
       "        vertical-align: top;\n",
       "    }\n",
       "\n",
       "    .dataframe thead th {\n",
       "        text-align: right;\n",
       "    }\n",
       "</style>\n",
       "<table border=\"1\" class=\"dataframe\">\n",
       "  <thead>\n",
       "    <tr style=\"text-align: right;\">\n",
       "      <th></th>\n",
       "      <th>CAS Number</th>\n",
       "      <th>EC Number</th>\n",
       "      <th>Name_Edlist_Echa</th>\n",
       "      <th>Fuente_original</th>\n",
       "      <th>Appears on lists</th>\n",
       "      <th>Health effects</th>\n",
       "    </tr>\n",
       "  </thead>\n",
       "  <tbody>\n",
       "    <tr>\n",
       "      <th>0</th>\n",
       "      <td>121-00-6</td>\n",
       "      <td>204-442-7</td>\n",
       "      <td>2-tert-butyl-4-methoxyphenol (BHA)</td>\n",
       "      <td>Edlist_2</td>\n",
       "      <td>List II</td>\n",
       "      <td>1.0</td>\n",
       "    </tr>\n",
       "    <tr>\n",
       "      <th>2</th>\n",
       "      <td>1310-65-2</td>\n",
       "      <td>209-062-5</td>\n",
       "      <td>Lithium salts (lithium chloride, lithium carbo...</td>\n",
       "      <td>Edlist_3</td>\n",
       "      <td>List III</td>\n",
       "      <td>1.0</td>\n",
       "    </tr>\n",
       "    <tr>\n",
       "      <th>5</th>\n",
       "      <td>1506-02-1</td>\n",
       "      <td>216-133-4</td>\n",
       "      <td>1-(5,6,7,8-tetrahydro-3,5,5,6,8,8-hexamethyl-2...</td>\n",
       "      <td>Edlist_2</td>\n",
       "      <td>List II</td>\n",
       "      <td>0.0</td>\n",
       "    </tr>\n",
       "    <tr>\n",
       "      <th>7</th>\n",
       "      <td>540-97-6</td>\n",
       "      <td>208-762-8</td>\n",
       "      <td>Cyclomethicone</td>\n",
       "      <td>Edlist_2</td>\n",
       "      <td>List II</td>\n",
       "      <td>1.0</td>\n",
       "    </tr>\n",
       "    <tr>\n",
       "      <th>22</th>\n",
       "      <td>100532-36-3</td>\n",
       "      <td>None</td>\n",
       "      <td>4-(5-methylhexyl)phenol</td>\n",
       "      <td>Edlist_1</td>\n",
       "      <td>List I</td>\n",
       "      <td>0.0</td>\n",
       "    </tr>\n",
       "  </tbody>\n",
       "</table>\n",
       "</div>"
      ],
      "text/plain": [
       "     CAS Number   EC Number  \\\n",
       "0      121-00-6   204-442-7   \n",
       "2     1310-65-2   209-062-5   \n",
       "5     1506-02-1   216-133-4   \n",
       "7      540-97-6   208-762-8   \n",
       "22  100532-36-3        None   \n",
       "\n",
       "                                     Name_Edlist_Echa Fuente_original  \\\n",
       "0                  2-tert-butyl-4-methoxyphenol (BHA)        Edlist_2   \n",
       "2   Lithium salts (lithium chloride, lithium carbo...        Edlist_3   \n",
       "5   1-(5,6,7,8-tetrahydro-3,5,5,6,8,8-hexamethyl-2...        Edlist_2   \n",
       "7                                      Cyclomethicone        Edlist_2   \n",
       "22                            4-(5-methylhexyl)phenol        Edlist_1   \n",
       "\n",
       "   Appears on lists  Health effects  \n",
       "0           List II             1.0  \n",
       "2          List III             1.0  \n",
       "5           List II             0.0  \n",
       "7           List II             1.0  \n",
       "22           List I             0.0  "
      ]
     },
     "execution_count": 13,
     "metadata": {},
     "output_type": "execute_result"
    }
   ],
   "source": [
    "disruptores_sin_etiqueta.head()"
   ]
  },
  {
   "cell_type": "code",
   "execution_count": 14,
   "id": "4adf015a",
   "metadata": {},
   "outputs": [
    {
     "data": {
      "text/plain": [
       "227"
      ]
     },
     "execution_count": 14,
     "metadata": {},
     "output_type": "execute_result"
    }
   ],
   "source": [
    "disruptores_sin_etiqueta['Name_Edlist_Echa'].nunique(dropna=True)"
   ]
  },
  {
   "cell_type": "markdown",
   "id": "3d71a055",
   "metadata": {},
   "source": [
    "El objetivo es encontrar el nombre INCI a los 227 registros, pero sabemos que pueden haber sustancias que no se corresponden a productos cosméticos."
   ]
  },
  {
   "cell_type": "markdown",
   "id": "e62c2c30",
   "metadata": {},
   "source": [
    "**EXPORTAMOS PARA SU TRATAMIENTO MANUAL**"
   ]
  },
  {
   "cell_type": "code",
   "execution_count": 15,
   "id": "536774fc",
   "metadata": {},
   "outputs": [],
   "source": [
    "# EXCEL\n",
    "disruptores_sin_etiqueta.to_excel(\"../../data/processed/notebooks/disruptores_sin_etiqueta.xlsx\", index=False)"
   ]
  },
  {
   "cell_type": "markdown",
   "id": "5b03b871",
   "metadata": {},
   "source": [
    "## 3. Recuperación de listados con tratemiento manual con nombre INCI"
   ]
  },
  {
   "cell_type": "markdown",
   "id": "f52e1a32",
   "metadata": {},
   "source": [
    "Se han realizado tratamientos manuales de los dos archivos, "
   ]
  },
  {
   "cell_type": "code",
   "execution_count": 16,
   "id": "44246788",
   "metadata": {},
   "outputs": [],
   "source": [
    "# leemos datasets de disrupores_clean\n",
    "inci_manual = pd.read_excel(\"../../data/processed/notebooks/consultas_manuales/disruptores_sin_etiqueta_manual.xlsx\")"
   ]
  },
  {
   "cell_type": "code",
   "execution_count": 17,
   "id": "d3537d50",
   "metadata": {},
   "outputs": [],
   "source": [
    "# leemos datasets de disrupores_clean\n",
    "inci = pd.read_excel(\"../../data/processed/notebooks/consultas_manuales/disruptores_etiqueta_manual.xlsx\")\n"
   ]
  },
  {
   "cell_type": "markdown",
   "id": "1740cb55",
   "metadata": {},
   "source": [
    "## 4. Tratamiento de \"inci_manual\""
   ]
  },
  {
   "cell_type": "markdown",
   "id": "cd4c466d",
   "metadata": {},
   "source": [
    "Este dataframe tiene más variables y más columnas de las iniciales por los siguientes motivos:\n",
    "1. Se han añadido variables como:\n",
    "* \"nombre_etiqueta\" : está es la que está en el otro dataframe en el que si se consiguió el nombre con el merge pero esta variable se ha rellenado de forma manual\n",
    "* \"fuente_manual\", \"productos_cosmeticos\", \"uso\", \"imagen_nombre\", \"imagen_cantidad\" \"texto\", \"repetido\".\n",
    "2. La variable \"imagen_nombre\" hace referencia al nombre de las capturas de pantalla de etiqueta de dicho disruptor, para una evaluación posterior en ocr y nlp.\n",
    "3. La variable \"imagen_cantidad\" hace referencia a la cantidad de imágenes que se han hecho para esa sustancia\n",
    "4. La variable \"texto\" es el texto escrito de una de esas imagenes.\n",
    "5. Se han añadido filas debido a que un producto puede tomar más nombres, por lo que se ha duplicado toda la información, salvo el \"nombre_etiqueta\" que contiene los distintos alias. SEría como un \"explode\" manual.\n",
    "\n",
    "Vamos a obtener el listado disruptores con nombre INCI, para ello:\n",
    "\n",
    "1. Filtramos por `nombre_etiqueta`\n",
    "2. Quitamos los que la variable `repetidos` ==1 identificados en la búsqueda manual porque tenían puesta la formulación distinta pero se trataba de la misma sustancia. Por ejemplo:\n",
    "    * Nonylphenol, ethoxylated (7-EO)\n",
    "    * 23-(nonylphenoxy)-3,6,9,12,15,18,21-heptaoxatricosan-1-ol\n",
    "    * Poly (oxy-1,2-ethanediyl), alpha -(nonylphenyl)-omega-hydroxy-, branched   --> es la forma generica para el mismo y otros terminados en otros números.\n",
    "3. Filtramos por la variable `productos_cosmeticos` == 1, y los que tienen valor \"0\" o nulo es porque o no lo son o se desconoce que se use en productos cosméticos."
   ]
  },
  {
   "cell_type": "code",
   "execution_count": 18,
   "id": "aa22f749",
   "metadata": {},
   "outputs": [
    {
     "name": "stdout",
     "output_type": "stream",
     "text": [
      "<class 'pandas.core.frame.DataFrame'>\n",
      "RangeIndex: 283 entries, 0 to 282\n",
      "Data columns (total 15 columns):\n",
      " #   Column                Non-Null Count  Dtype  \n",
      "---  ------                --------------  -----  \n",
      " 0   Name_Edlist_Echa      283 non-null    object \n",
      " 1   Fuente_original       283 non-null    object \n",
      " 2   Anexo_cosIng          26 non-null     object \n",
      " 3   Appears_on_lists      234 non-null    object \n",
      " 4   Health_effects        234 non-null    float64\n",
      " 5   CAS Number            271 non-null    object \n",
      " 6   EC Number             226 non-null    object \n",
      " 7   nombre_etiqueta       163 non-null    object \n",
      " 8   fuente_manual         163 non-null    object \n",
      " 9   repetido              15 non-null     float64\n",
      " 10  productos_cosmeticos  145 non-null    float64\n",
      " 11  uso                   136 non-null    object \n",
      " 12  imagen_cantidad       126 non-null    float64\n",
      " 13  imagen_nombre         35 non-null     object \n",
      " 14  texto                 35 non-null     object \n",
      "dtypes: float64(4), object(11)\n",
      "memory usage: 33.3+ KB\n"
     ]
    }
   ],
   "source": [
    "inci_manual.info()"
   ]
  },
  {
   "cell_type": "code",
   "execution_count": 19,
   "id": "01a7d83e",
   "metadata": {},
   "outputs": [],
   "source": [
    "# Filtramos por nombre manual\n",
    "inci_manual = inci_manual[inci_manual['nombre_etiqueta'].notnull()]\n",
    "# Quitamos los repetidos\n",
    "inci_manual = inci_manual[inci_manual['repetido'].isnull()]\n"
   ]
  },
  {
   "cell_type": "code",
   "execution_count": 20,
   "id": "3560e568",
   "metadata": {},
   "outputs": [
    {
     "data": {
      "text/html": [
       "<div>\n",
       "<style scoped>\n",
       "    .dataframe tbody tr th:only-of-type {\n",
       "        vertical-align: middle;\n",
       "    }\n",
       "\n",
       "    .dataframe tbody tr th {\n",
       "        vertical-align: top;\n",
       "    }\n",
       "\n",
       "    .dataframe thead th {\n",
       "        text-align: right;\n",
       "    }\n",
       "</style>\n",
       "<table border=\"1\" class=\"dataframe\">\n",
       "  <thead>\n",
       "    <tr style=\"text-align: right;\">\n",
       "      <th></th>\n",
       "      <th>productos_cosmeticos</th>\n",
       "      <th>uso</th>\n",
       "    </tr>\n",
       "  </thead>\n",
       "  <tbody>\n",
       "    <tr>\n",
       "      <th>6</th>\n",
       "      <td>0.0</td>\n",
       "      <td>Materia prima para detergentes, pesticidas, an...</td>\n",
       "    </tr>\n",
       "    <tr>\n",
       "      <th>14</th>\n",
       "      <td>0.0</td>\n",
       "      <td>fungicida  plantas</td>\n",
       "    </tr>\n",
       "    <tr>\n",
       "      <th>23</th>\n",
       "      <td>0.0</td>\n",
       "      <td>fabricar plásticos, fertilizantes y hormigón</td>\n",
       "    </tr>\n",
       "    <tr>\n",
       "      <th>24</th>\n",
       "      <td>0.0</td>\n",
       "      <td>Retardante de llama en epoxi, poliuretano, plá...</td>\n",
       "    </tr>\n",
       "    <tr>\n",
       "      <th>31</th>\n",
       "      <td>0.0</td>\n",
       "      <td>Materia prima para la fabricación de detergent...</td>\n",
       "    </tr>\n",
       "    <tr>\n",
       "      <th>32</th>\n",
       "      <td>0.0</td>\n",
       "      <td>Materia prima para la fabricación de detergent...</td>\n",
       "    </tr>\n",
       "    <tr>\n",
       "      <th>34</th>\n",
       "      <td>0.0</td>\n",
       "      <td>Plastificante ampliamente presente en el medio...</td>\n",
       "    </tr>\n",
       "    <tr>\n",
       "      <th>35</th>\n",
       "      <td>0.0</td>\n",
       "      <td>Fungicida fenilpirrol no sistémico, aplicado e...</td>\n",
       "    </tr>\n",
       "    <tr>\n",
       "      <th>44</th>\n",
       "      <td>0.0</td>\n",
       "      <td>Utilizado en la producción de resinas fenol-fo...</td>\n",
       "    </tr>\n",
       "    <tr>\n",
       "      <th>45</th>\n",
       "      <td>0.0</td>\n",
       "      <td>Herbicida destinado principalmente a la aplica...</td>\n",
       "    </tr>\n",
       "    <tr>\n",
       "      <th>50</th>\n",
       "      <td>0.0</td>\n",
       "      <td>Fabricación de elastómeros con alta resistenci...</td>\n",
       "    </tr>\n",
       "    <tr>\n",
       "      <th>52</th>\n",
       "      <td>0.0</td>\n",
       "      <td>Insecticida sistémico utilizado en agricultura.</td>\n",
       "    </tr>\n",
       "    <tr>\n",
       "      <th>71</th>\n",
       "      <td>0.0</td>\n",
       "      <td>Herbicida selectivo del grupo de las triazinon...</td>\n",
       "    </tr>\n",
       "    <tr>\n",
       "      <th>73</th>\n",
       "      <td>0.0</td>\n",
       "      <td>Producción de materiales poliméricos con propi...</td>\n",
       "    </tr>\n",
       "    <tr>\n",
       "      <th>82</th>\n",
       "      <td>0.0</td>\n",
       "      <td>Materia prima para la fabricación de detergent...</td>\n",
       "    </tr>\n",
       "    <tr>\n",
       "      <th>90</th>\n",
       "      <td>0.0</td>\n",
       "      <td>Fungicida agrígola</td>\n",
       "    </tr>\n",
       "    <tr>\n",
       "      <th>109</th>\n",
       "      <td>0.0</td>\n",
       "      <td>Herbicida utilizado para controlar malezas anu...</td>\n",
       "    </tr>\n",
       "    <tr>\n",
       "      <th>135</th>\n",
       "      <td>0.0</td>\n",
       "      <td>pesticida agrícola</td>\n",
       "    </tr>\n",
       "    <tr>\n",
       "      <th>167</th>\n",
       "      <td>0.0</td>\n",
       "      <td>Fungicida del grupo de los imidazoles, ampliam...</td>\n",
       "    </tr>\n",
       "    <tr>\n",
       "      <th>189</th>\n",
       "      <td>0.0</td>\n",
       "      <td>Análogo del bisfenol A, utilizado en la fabric...</td>\n",
       "    </tr>\n",
       "    <tr>\n",
       "      <th>195</th>\n",
       "      <td>0.0</td>\n",
       "      <td>Derivado de los piretroides utilizado como ins...</td>\n",
       "    </tr>\n",
       "    <tr>\n",
       "      <th>208</th>\n",
       "      <td>0.0</td>\n",
       "      <td>Plastificante utilizado en productos de celulo...</td>\n",
       "    </tr>\n",
       "    <tr>\n",
       "      <th>212</th>\n",
       "      <td>0.0</td>\n",
       "      <td>Plastificante utilizado en productos de celulo...</td>\n",
       "    </tr>\n",
       "    <tr>\n",
       "      <th>213</th>\n",
       "      <td>0.0</td>\n",
       "      <td>Materia prima utilizada en la fabricación de d...</td>\n",
       "    </tr>\n",
       "    <tr>\n",
       "      <th>264</th>\n",
       "      <td>0.0</td>\n",
       "      <td>Compuesto fenólico con propiedades antioxidant...</td>\n",
       "    </tr>\n",
       "    <tr>\n",
       "      <th>267</th>\n",
       "      <td>0.0</td>\n",
       "      <td>Compuesto fenólico presente en la cerveza y pr...</td>\n",
       "    </tr>\n",
       "    <tr>\n",
       "      <th>268</th>\n",
       "      <td>0.0</td>\n",
       "      <td>Herbicida selectivo perteneciente al grupo de ...</td>\n",
       "    </tr>\n",
       "    <tr>\n",
       "      <th>279</th>\n",
       "      <td>0.0</td>\n",
       "      <td>Utilizado en la fabricación de anilina.</td>\n",
       "    </tr>\n",
       "  </tbody>\n",
       "</table>\n",
       "</div>"
      ],
      "text/plain": [
       "     productos_cosmeticos                                                uso\n",
       "6                     0.0  Materia prima para detergentes, pesticidas, an...\n",
       "14                    0.0                                 fungicida  plantas\n",
       "23                    0.0       fabricar plásticos, fertilizantes y hormigón\n",
       "24                    0.0  Retardante de llama en epoxi, poliuretano, plá...\n",
       "31                    0.0  Materia prima para la fabricación de detergent...\n",
       "32                    0.0  Materia prima para la fabricación de detergent...\n",
       "34                    0.0  Plastificante ampliamente presente en el medio...\n",
       "35                    0.0  Fungicida fenilpirrol no sistémico, aplicado e...\n",
       "44                    0.0  Utilizado en la producción de resinas fenol-fo...\n",
       "45                    0.0  Herbicida destinado principalmente a la aplica...\n",
       "50                    0.0  Fabricación de elastómeros con alta resistenci...\n",
       "52                    0.0    Insecticida sistémico utilizado en agricultura.\n",
       "71                    0.0  Herbicida selectivo del grupo de las triazinon...\n",
       "73                    0.0  Producción de materiales poliméricos con propi...\n",
       "82                    0.0  Materia prima para la fabricación de detergent...\n",
       "90                    0.0                                 Fungicida agrígola\n",
       "109                   0.0  Herbicida utilizado para controlar malezas anu...\n",
       "135                   0.0                                 pesticida agrícola\n",
       "167                   0.0  Fungicida del grupo de los imidazoles, ampliam...\n",
       "189                   0.0  Análogo del bisfenol A, utilizado en la fabric...\n",
       "195                   0.0  Derivado de los piretroides utilizado como ins...\n",
       "208                   0.0  Plastificante utilizado en productos de celulo...\n",
       "212                   0.0  Plastificante utilizado en productos de celulo...\n",
       "213                   0.0  Materia prima utilizada en la fabricación de d...\n",
       "264                   0.0  Compuesto fenólico con propiedades antioxidant...\n",
       "267                   0.0  Compuesto fenólico presente en la cerveza y pr...\n",
       "268                   0.0  Herbicida selectivo perteneciente al grupo de ...\n",
       "279                   0.0            Utilizado en la fabricación de anilina."
      ]
     },
     "execution_count": 20,
     "metadata": {},
     "output_type": "execute_result"
    }
   ],
   "source": [
    "# Filtramos 'productos_cosmeticos' que toman valor 0\n",
    "consulta= inci_manual[inci_manual['productos_cosmeticos']==0]\n",
    "consulta[['productos_cosmeticos', \"uso\"]]"
   ]
  },
  {
   "cell_type": "code",
   "execution_count": 21,
   "id": "06bcfff3",
   "metadata": {},
   "outputs": [],
   "source": [
    "inci_manual= inci_manual[inci_manual['productos_cosmeticos']==1]"
   ]
  },
  {
   "cell_type": "code",
   "execution_count": 22,
   "id": "6d8d9051",
   "metadata": {},
   "outputs": [
    {
     "name": "stdout",
     "output_type": "stream",
     "text": [
      "<class 'pandas.core.frame.DataFrame'>\n",
      "Index: 104 entries, 0 to 270\n",
      "Data columns (total 15 columns):\n",
      " #   Column                Non-Null Count  Dtype  \n",
      "---  ------                --------------  -----  \n",
      " 0   Name_Edlist_Echa      104 non-null    object \n",
      " 1   Fuente_original       104 non-null    object \n",
      " 2   Anexo_cosIng          1 non-null      object \n",
      " 3   Appears_on_lists      90 non-null     object \n",
      " 4   Health_effects        90 non-null     float64\n",
      " 5   CAS Number            104 non-null    object \n",
      " 6   EC Number             86 non-null     object \n",
      " 7   nombre_etiqueta       104 non-null    object \n",
      " 8   fuente_manual         104 non-null    object \n",
      " 9   repetido              0 non-null      float64\n",
      " 10  productos_cosmeticos  104 non-null    float64\n",
      " 11  uso                   103 non-null    object \n",
      " 12  imagen_cantidad       104 non-null    float64\n",
      " 13  imagen_nombre         35 non-null     object \n",
      " 14  texto                 35 non-null     object \n",
      "dtypes: float64(4), object(11)\n",
      "memory usage: 13.0+ KB\n"
     ]
    }
   ],
   "source": [
    "inci_manual.info()"
   ]
  },
  {
   "cell_type": "code",
   "execution_count": 23,
   "id": "22d8cda1",
   "metadata": {},
   "outputs": [],
   "source": [
    "# Quitamos la variable 'repetido' porque ya no tiene sentido\n",
    "inci_manual = inci_manual.drop(columns=['repetido'], errors='ignore')"
   ]
  },
  {
   "cell_type": "markdown",
   "id": "11582c89",
   "metadata": {},
   "source": [
    "Vamos a pasar las variables float a numérico pero antes vamos a convertir sus nulos en '0'"
   ]
  },
  {
   "cell_type": "code",
   "execution_count": 24,
   "id": "6391baa9",
   "metadata": {},
   "outputs": [],
   "source": [
    "cols = [\"Health_effects\",\"productos_cosmeticos\", \"imagen_cantidad\"]\n",
    "\n",
    "inci_manual[cols] = inci_manual[cols].fillna(0).astype(int)"
   ]
  },
  {
   "cell_type": "markdown",
   "id": "ce9d5aa7",
   "metadata": {},
   "source": [
    "Ahora vamos a consultar en cuantos de los 227 registros de salida hemos coseguido su nombre INCI.\n",
    "\n",
    "Aunque hayamos encontrado más de uno para alguna sustancia, lo que queremos saber de esos 227 cuales se han rellenado."
   ]
  },
  {
   "cell_type": "code",
   "execution_count": 25,
   "id": "9c2c5a8b",
   "metadata": {},
   "outputs": [
    {
     "data": {
      "text/plain": [
       "104"
      ]
     },
     "execution_count": 25,
     "metadata": {},
     "output_type": "execute_result"
    }
   ],
   "source": [
    "inci_manual['nombre_etiqueta'].nunique(dropna=True)"
   ]
  },
  {
   "cell_type": "code",
   "execution_count": 26,
   "id": "7bc80104",
   "metadata": {},
   "outputs": [
    {
     "data": {
      "text/plain": [
       "47"
      ]
     },
     "execution_count": 26,
     "metadata": {},
     "output_type": "execute_result"
    }
   ],
   "source": [
    "inci_manual['Name_Edlist_Echa'].nunique(dropna=True)"
   ]
  },
  {
   "cell_type": "markdown",
   "id": "fa44fe00",
   "metadata": {},
   "source": [
    "Esto quiere decir que de los 227 hemos conseguido rellenar 47 y que esas 47 sustancias tienen por termino medio 2 nombres, porque tenemos hasta 104 nombres de etiqueta"
   ]
  },
  {
   "cell_type": "markdown",
   "id": "7438ac0a",
   "metadata": {},
   "source": [
    "## 5. Tratamiento de \"inci\" - dataframe inicial: disruptores_etiqueta"
   ]
  },
  {
   "cell_type": "markdown",
   "id": "7146d5a2",
   "metadata": {},
   "source": [
    "Este dataframe tiene más variables y más columnas de las iniciales por los siguientes motivos:\n",
    "1. Se han añadido variables como: \n",
    "* \"uso\",\"productos_cosmeticos\", , \"imagen_nombre\", \"imagen_cantidad\", \"texto\".\n",
    "\n",
    "2. Al igual que con el otro dataframe se han añadido filas debido a que un producto puede tomar más nombres."
   ]
  },
  {
   "cell_type": "code",
   "execution_count": 27,
   "id": "48005fff",
   "metadata": {},
   "outputs": [
    {
     "name": "stdout",
     "output_type": "stream",
     "text": [
      "<class 'pandas.core.frame.DataFrame'>\n",
      "RangeIndex: 52 entries, 0 to 51\n",
      "Data columns (total 14 columns):\n",
      " #   Column                Non-Null Count  Dtype  \n",
      "---  ------                --------------  -----  \n",
      " 0   Name_Edlist_Echa      52 non-null     object \n",
      " 1   Name_Chemical_Cosing  52 non-null     object \n",
      " 2   Fuente_original       52 non-null     object \n",
      " 3   Anexo_cosIng          52 non-null     object \n",
      " 4   Appears_on_lists      37 non-null     object \n",
      " 5   Health_effects        43 non-null     float64\n",
      " 6   CAS Number            52 non-null     object \n",
      " 7   EC Number             52 non-null     object \n",
      " 8   nombre_etiqueta       52 non-null     object \n",
      " 9   uso                   40 non-null     object \n",
      " 10  productos_cosmeticos  52 non-null     int64  \n",
      " 11  imagen_nombre         28 non-null     object \n",
      " 12  imagen_cantidad       50 non-null     float64\n",
      " 13  texto                 28 non-null     object \n",
      "dtypes: float64(2), int64(1), object(11)\n",
      "memory usage: 5.8+ KB\n"
     ]
    }
   ],
   "source": [
    "# Consultamos la información de inci.\n",
    "inci.info()"
   ]
  },
  {
   "cell_type": "markdown",
   "id": "4589d885",
   "metadata": {},
   "source": [
    "Vamos a pasar la variable float a numérico pero antes vamos a convertir sus nulos en '0'"
   ]
  },
  {
   "cell_type": "code",
   "execution_count": 28,
   "id": "ad0d5b60",
   "metadata": {},
   "outputs": [],
   "source": [
    "inci[\"Health_effects\"] = inci[\"Health_effects\"].fillna(0).astype(int)\n",
    "inci[\"Health_effects\"] = (inci[\"Health_effects\"] == 1).astype(int)"
   ]
  },
  {
   "cell_type": "markdown",
   "id": "3543ee9c",
   "metadata": {},
   "source": [
    "## 6. LISTA DEFINITIVA DE DISRUPTORES EN PRODUCTOS COSMÉTICOS"
   ]
  },
  {
   "cell_type": "code",
   "execution_count": 29,
   "id": "9d6992a7",
   "metadata": {},
   "outputs": [
    {
     "name": "stdout",
     "output_type": "stream",
     "text": [
      "<class 'pandas.core.frame.DataFrame'>\n",
      "RangeIndex: 156 entries, 0 to 155\n",
      "Data columns (total 15 columns):\n",
      " #   Column                Non-Null Count  Dtype  \n",
      "---  ------                --------------  -----  \n",
      " 0   Name_Edlist_Echa      156 non-null    object \n",
      " 1   Name_Chemical_Cosing  52 non-null     object \n",
      " 2   Fuente_original       156 non-null    object \n",
      " 3   Anexo_cosIng          53 non-null     object \n",
      " 4   Appears_on_lists      127 non-null    object \n",
      " 5   Health_effects        156 non-null    int64  \n",
      " 6   CAS Number            156 non-null    object \n",
      " 7   EC Number             138 non-null    object \n",
      " 8   nombre_etiqueta       156 non-null    object \n",
      " 9   uso                   143 non-null    object \n",
      " 10  productos_cosmeticos  156 non-null    int64  \n",
      " 11  imagen_nombre         63 non-null     object \n",
      " 12  imagen_cantidad       154 non-null    float64\n",
      " 13  texto                 63 non-null     object \n",
      " 14  fuente_manual         104 non-null    object \n",
      "dtypes: float64(1), int64(2), object(12)\n",
      "memory usage: 18.4+ KB\n"
     ]
    }
   ],
   "source": [
    "# Concatenamos los DataFrames\n",
    "disruptores_final = pd.concat([inci, inci_manual], ignore_index=True)\n",
    "disruptores_final.info()\n"
   ]
  },
  {
   "cell_type": "code",
   "execution_count": 30,
   "id": "a842a968",
   "metadata": {},
   "outputs": [],
   "source": [
    "# es importante que estas columnas sean de tipo string\n",
    "cols = ['CAS Number', 'EC Number']\n",
    "disruptores_final[cols] = (\n",
    "    disruptores_final[cols]\n",
    "      .apply(lambda col: col.astype('string').str.strip())\n",
    ")"
   ]
  },
  {
   "cell_type": "code",
   "execution_count": 31,
   "id": "b2df2e65",
   "metadata": {},
   "outputs": [],
   "source": [
    "# las variables EC Number y Anexo_cosIng tienen valores nulos que vamos a rellenar\n",
    "disruptores_final[\"EC Number\"] = disruptores_final[\"EC Number\"].fillna(\"\")\n",
    "disruptores_final[\"Anexo_cosIng\"] = disruptores_final[\"Anexo_cosIng\"].fillna(\"sin info\")"
   ]
  },
  {
   "cell_type": "markdown",
   "id": "dfaf042c",
   "metadata": {},
   "source": [
    "Vamos a comprobar si el número de imagenes físicas que tenemos coincide con la suma de la unión de ambos dataframes: \n",
    "Si coincide"
   ]
  },
  {
   "cell_type": "code",
   "execution_count": 32,
   "id": "ce040c2f",
   "metadata": {},
   "outputs": [
    {
     "name": "stdout",
     "output_type": "stream",
     "text": [
      "170.0\n"
     ]
    }
   ],
   "source": [
    "total_imagenes = disruptores_final[\"imagen_cantidad\"].sum()\n",
    "print(total_imagenes)"
   ]
  },
  {
   "cell_type": "code",
   "execution_count": 33,
   "id": "6cab452c",
   "metadata": {},
   "outputs": [
    {
     "data": {
      "text/html": [
       "<div>\n",
       "<style scoped>\n",
       "    .dataframe tbody tr th:only-of-type {\n",
       "        vertical-align: middle;\n",
       "    }\n",
       "\n",
       "    .dataframe tbody tr th {\n",
       "        vertical-align: top;\n",
       "    }\n",
       "\n",
       "    .dataframe thead th {\n",
       "        text-align: right;\n",
       "    }\n",
       "</style>\n",
       "<table border=\"1\" class=\"dataframe\">\n",
       "  <thead>\n",
       "    <tr style=\"text-align: right;\">\n",
       "      <th></th>\n",
       "      <th>Name_Edlist_Echa</th>\n",
       "      <th>Name_Chemical_Cosing</th>\n",
       "      <th>Fuente_original</th>\n",
       "      <th>Anexo_cosIng</th>\n",
       "      <th>Appears_on_lists</th>\n",
       "      <th>Health_effects</th>\n",
       "      <th>CAS Number</th>\n",
       "      <th>EC Number</th>\n",
       "      <th>nombre_etiqueta</th>\n",
       "      <th>uso</th>\n",
       "      <th>productos_cosmeticos</th>\n",
       "      <th>imagen_nombre</th>\n",
       "      <th>imagen_cantidad</th>\n",
       "      <th>texto</th>\n",
       "      <th>fuente_manual</th>\n",
       "    </tr>\n",
       "  </thead>\n",
       "  <tbody>\n",
       "    <tr>\n",
       "      <th>67</th>\n",
       "      <td>tert-butyl methyl ether</td>\n",
       "      <td>NaN</td>\n",
       "      <td>ECHA - ED_pendiente</td>\n",
       "      <td>sin info</td>\n",
       "      <td>NaN</td>\n",
       "      <td>0</td>\n",
       "      <td>1634-04-4</td>\n",
       "      <td>216-653-1</td>\n",
       "      <td>methyl tertiary butyl ether / methyl tert-buty...</td>\n",
       "      <td>Agente oxigenante en la gasolina con olor dete...</td>\n",
       "      <td>1</td>\n",
       "      <td>NaN</td>\n",
       "      <td>0.0</td>\n",
       "      <td>NaN</td>\n",
       "      <td>EDCs DataBank/Cosing</td>\n",
       "    </tr>\n",
       "    <tr>\n",
       "      <th>102</th>\n",
       "      <td>Deltamethrin</td>\n",
       "      <td>NaN</td>\n",
       "      <td>Edlist_2</td>\n",
       "      <td>sin info</td>\n",
       "      <td>List II</td>\n",
       "      <td>1</td>\n",
       "      <td>52918-63-5</td>\n",
       "      <td>258-256-6</td>\n",
       "      <td>deltamethrin / decamethrin / deltamethrine/DEL...</td>\n",
       "      <td>Insecticida sintético basado en piretrinas nat...</td>\n",
       "      <td>1</td>\n",
       "      <td>NaN</td>\n",
       "      <td>0.0</td>\n",
       "      <td>NaN</td>\n",
       "      <td>EDCs DataBank/Cosing</td>\n",
       "    </tr>\n",
       "  </tbody>\n",
       "</table>\n",
       "</div>"
      ],
      "text/plain": [
       "            Name_Edlist_Echa Name_Chemical_Cosing      Fuente_original  \\\n",
       "67   tert-butyl methyl ether                  NaN  ECHA - ED_pendiente   \n",
       "102             Deltamethrin                  NaN             Edlist_2   \n",
       "\n",
       "    Anexo_cosIng Appears_on_lists  Health_effects  CAS Number  EC Number  \\\n",
       "67      sin info              NaN               0   1634-04-4  216-653-1   \n",
       "102     sin info          List II               1  52918-63-5  258-256-6   \n",
       "\n",
       "                                       nombre_etiqueta  \\\n",
       "67   methyl tertiary butyl ether / methyl tert-buty...   \n",
       "102  deltamethrin / decamethrin / deltamethrine/DEL...   \n",
       "\n",
       "                                                   uso  productos_cosmeticos  \\\n",
       "67   Agente oxigenante en la gasolina con olor dete...                     1   \n",
       "102  Insecticida sintético basado en piretrinas nat...                     1   \n",
       "\n",
       "    imagen_nombre  imagen_cantidad texto         fuente_manual  \n",
       "67            NaN              0.0   NaN  EDCs DataBank/Cosing  \n",
       "102           NaN              0.0   NaN  EDCs DataBank/Cosing  "
      ]
     },
     "execution_count": 33,
     "metadata": {},
     "output_type": "execute_result"
    }
   ],
   "source": [
    "# Filtramos filas con varios nombres que no se dividió a mano, porque no había foto\n",
    "disruptores_final[disruptores_final['nombre_etiqueta'].str.contains(r'[/;]', regex= True,na=False)]"
   ]
  },
  {
   "cell_type": "code",
   "execution_count": 34,
   "id": "b1b89673",
   "metadata": {},
   "outputs": [],
   "source": [
    "# Separamos por / \n",
    "disruptores_final['nombre_etiqueta']= disruptores_final['nombre_etiqueta'].str.split(r'[/]')"
   ]
  },
  {
   "cell_type": "code",
   "execution_count": 35,
   "id": "cb9ec7ee",
   "metadata": {},
   "outputs": [],
   "source": [
    "# Descomponemos fila por cada nombre\n",
    "disruptores_final = disruptores_final.explode('nombre_etiqueta')"
   ]
  },
  {
   "cell_type": "code",
   "execution_count": 36,
   "id": "0b2ab6a9",
   "metadata": {},
   "outputs": [
    {
     "data": {
      "text/html": [
       "<div>\n",
       "<style scoped>\n",
       "    .dataframe tbody tr th:only-of-type {\n",
       "        vertical-align: middle;\n",
       "    }\n",
       "\n",
       "    .dataframe tbody tr th {\n",
       "        vertical-align: top;\n",
       "    }\n",
       "\n",
       "    .dataframe thead th {\n",
       "        text-align: right;\n",
       "    }\n",
       "</style>\n",
       "<table border=\"1\" class=\"dataframe\">\n",
       "  <thead>\n",
       "    <tr style=\"text-align: right;\">\n",
       "      <th></th>\n",
       "      <th>CAS Number</th>\n",
       "      <th>EC Number</th>\n",
       "      <th>nombre_etiqueta</th>\n",
       "    </tr>\n",
       "  </thead>\n",
       "  <tbody>\n",
       "    <tr>\n",
       "      <th>67</th>\n",
       "      <td>1634-04-4</td>\n",
       "      <td>216-653-1</td>\n",
       "      <td>tert-butyl methyl ether</td>\n",
       "    </tr>\n",
       "    <tr>\n",
       "      <th>67</th>\n",
       "      <td>1634-04-4</td>\n",
       "      <td>216-653-1</td>\n",
       "      <td>methyl t-butyl ether</td>\n",
       "    </tr>\n",
       "    <tr>\n",
       "      <th>67</th>\n",
       "      <td>1634-04-4</td>\n",
       "      <td>216-653-1</td>\n",
       "      <td>MTBE</td>\n",
       "    </tr>\n",
       "    <tr>\n",
       "      <th>67</th>\n",
       "      <td>1634-04-4</td>\n",
       "      <td>216-653-1</td>\n",
       "      <td>T-BUTYL METHYL ETHER</td>\n",
       "    </tr>\n",
       "    <tr>\n",
       "      <th>68</th>\n",
       "      <td>1675-54-3</td>\n",
       "      <td>216-823-5</td>\n",
       "      <td>ISOPROPYLIDENEDIPHENOL DIGLYCIDYL ETHER</td>\n",
       "    </tr>\n",
       "    <tr>\n",
       "      <th>69</th>\n",
       "      <td>121-00-6</td>\n",
       "      <td>204-442-7</td>\n",
       "      <td>2-TERT-BUTYLHYDROQUINONE METHYL ETHER</td>\n",
       "    </tr>\n",
       "  </tbody>\n",
       "</table>\n",
       "</div>"
      ],
      "text/plain": [
       "   CAS Number  EC Number                          nombre_etiqueta\n",
       "67  1634-04-4  216-653-1                 tert-butyl methyl ether \n",
       "67  1634-04-4  216-653-1                    methyl t-butyl ether \n",
       "67  1634-04-4  216-653-1                                    MTBE \n",
       "67  1634-04-4  216-653-1                     T-BUTYL METHYL ETHER\n",
       "68  1675-54-3  216-823-5  ISOPROPYLIDENEDIPHENOL DIGLYCIDYL ETHER\n",
       "69   121-00-6  204-442-7    2-TERT-BUTYLHYDROQUINONE METHYL ETHER"
      ]
     },
     "execution_count": 36,
     "metadata": {},
     "output_type": "execute_result"
    }
   ],
   "source": [
    "disruptores_final.iloc[69:75, 6:9]"
   ]
  },
  {
   "cell_type": "code",
   "execution_count": 37,
   "id": "4ee786d3",
   "metadata": {},
   "outputs": [
    {
     "data": {
      "text/html": [
       "<div>\n",
       "<style scoped>\n",
       "    .dataframe tbody tr th:only-of-type {\n",
       "        vertical-align: middle;\n",
       "    }\n",
       "\n",
       "    .dataframe tbody tr th {\n",
       "        vertical-align: top;\n",
       "    }\n",
       "\n",
       "    .dataframe thead th {\n",
       "        text-align: right;\n",
       "    }\n",
       "</style>\n",
       "<table border=\"1\" class=\"dataframe\">\n",
       "  <thead>\n",
       "    <tr style=\"text-align: right;\">\n",
       "      <th></th>\n",
       "      <th>CAS Number</th>\n",
       "      <th>EC Number</th>\n",
       "      <th>nombre_etiqueta</th>\n",
       "    </tr>\n",
       "  </thead>\n",
       "  <tbody>\n",
       "    <tr>\n",
       "      <th>102</th>\n",
       "      <td>52918-63-5</td>\n",
       "      <td>258-256-6</td>\n",
       "      <td>decamethrin</td>\n",
       "    </tr>\n",
       "    <tr>\n",
       "      <th>102</th>\n",
       "      <td>52918-63-5</td>\n",
       "      <td>258-256-6</td>\n",
       "      <td>deltamethrine</td>\n",
       "    </tr>\n",
       "    <tr>\n",
       "      <th>102</th>\n",
       "      <td>52918-63-5</td>\n",
       "      <td>258-256-6</td>\n",
       "      <td>DELTA-METHRIN</td>\n",
       "    </tr>\n",
       "    <tr>\n",
       "      <th>103</th>\n",
       "      <td>540-97-6</td>\n",
       "      <td>208-762-8</td>\n",
       "      <td>CYCLOHEXASILOXANE</td>\n",
       "    </tr>\n",
       "  </tbody>\n",
       "</table>\n",
       "</div>"
      ],
      "text/plain": [
       "     CAS Number  EC Number    nombre_etiqueta\n",
       "102  52918-63-5  258-256-6       decamethrin \n",
       "102  52918-63-5  258-256-6      deltamethrine\n",
       "102  52918-63-5  258-256-6      DELTA-METHRIN\n",
       "103    540-97-6  208-762-8  CYCLOHEXASILOXANE"
      ]
     },
     "execution_count": 37,
     "metadata": {},
     "output_type": "execute_result"
    }
   ],
   "source": [
    "disruptores_final.iloc[108:112, 6:9]"
   ]
  },
  {
   "cell_type": "markdown",
   "id": "3a06387a",
   "metadata": {},
   "source": [
    "Para análisis posteriores es importante que las variables Fuente_original y Anexo_cosing muestren más información:"
   ]
  },
  {
   "cell_type": "code",
   "execution_count": 38,
   "id": "fd179a60",
   "metadata": {},
   "outputs": [
    {
     "data": {
      "text/plain": [
       "Fuente_original\n",
       "Edlist_1                71\n",
       "Edlist_2                50\n",
       "ECHA - ED_pendiente     32\n",
       "Edlist_3                 9\n",
       "ECHA - ED_Humans&Env     1\n",
       "ECHA - ED_Env            1\n",
       "Name: count, dtype: int64"
      ]
     },
     "execution_count": 38,
     "metadata": {},
     "output_type": "execute_result"
    }
   ],
   "source": [
    "disruptores_final[\"Fuente_original\"].value_counts()"
   ]
  },
  {
   "cell_type": "code",
   "execution_count": 39,
   "id": "7c8a2b75",
   "metadata": {},
   "outputs": [],
   "source": [
    "# Diccionario de mapeo\n",
    "map_fuente = {\n",
    "    \"Edlist_1\": \"EDlist_1 (confirmado UE)\",\n",
    "    \"Edlist_2\": \"EDlist_2 (evaluando)\",\n",
    "    \"Edlist_3\": \"EDlist_3 (confirmado país miembro, pero no UE)\",\n",
    "    \"ECHA - ED_pendiente\": \"ECHA (evaluando o pendiente)\",\n",
    "    \"ECHA - ED_Env\": \"ECHA (efectos ambiente)\",\n",
    "    \"ECHA - ED_Humans&Env\": \"ECHA (efectos salud y ambiente)\"\n",
    "}\n",
    "\n",
    "# Aplicar el mapeo en la columna Fuente_original\n",
    "disruptores_final[\"Fuente_original\"] = disruptores_final[\"Fuente_original\"].replace(map_fuente)"
   ]
  },
  {
   "cell_type": "code",
   "execution_count": 40,
   "id": "5a8d6ce4",
   "metadata": {},
   "outputs": [
    {
     "data": {
      "text/plain": [
       "Anexo_cosIng\n",
       "sin info    111\n",
       "Anexo_2      19\n",
       "Anexo_5      11\n",
       "Anexo_3      10\n",
       "Anexo_6       7\n",
       "Anexo_4       6\n",
       "Name: count, dtype: int64"
      ]
     },
     "execution_count": 40,
     "metadata": {},
     "output_type": "execute_result"
    }
   ],
   "source": [
    "disruptores_final[\"Anexo_cosIng\"].value_counts()"
   ]
  },
  {
   "cell_type": "code",
   "execution_count": 41,
   "id": "7853e7f5",
   "metadata": {},
   "outputs": [],
   "source": [
    "map_cosing = {\n",
    "    \"Anexo_2\": \"Anexo II (Ingrediente Prohibido)\",\n",
    "    \"Anexo_3\": \"Anexo III (Ingrediente Restringido)\",\n",
    "    \"Anexo_4\": \"Anexo IV (Colorante Permitido)\",\n",
    "    \"Anexo_5\": \"Anexo V (Conservante Permitido)\",\n",
    "    \"Anexo_6\": \"Anexo VI (Filtro UV Permitido)\",\n",
    "    \"sin info\": \"Sin información\"\n",
    "}\n",
    "\n",
    "disruptores_final[\"Anexo_cosIng\"] = disruptores_final[\"Anexo_cosIng\"].replace(map_cosing)"
   ]
  },
  {
   "cell_type": "code",
   "execution_count": 42,
   "id": "e5b9f253",
   "metadata": {},
   "outputs": [
    {
     "name": "stdout",
     "output_type": "stream",
     "text": [
      "<class 'pandas.core.frame.DataFrame'>\n",
      "Index: 164 entries, 0 to 155\n",
      "Data columns (total 15 columns):\n",
      " #   Column                Non-Null Count  Dtype  \n",
      "---  ------                --------------  -----  \n",
      " 0   Name_Edlist_Echa      164 non-null    object \n",
      " 1   Name_Chemical_Cosing  52 non-null     object \n",
      " 2   Fuente_original       164 non-null    object \n",
      " 3   Anexo_cosIng          164 non-null    object \n",
      " 4   Appears_on_lists      130 non-null    object \n",
      " 5   Health_effects        164 non-null    int64  \n",
      " 6   CAS Number            164 non-null    string \n",
      " 7   EC Number             164 non-null    string \n",
      " 8   nombre_etiqueta       164 non-null    object \n",
      " 9   uso                   151 non-null    object \n",
      " 10  productos_cosmeticos  164 non-null    int64  \n",
      " 11  imagen_nombre         63 non-null     object \n",
      " 12  imagen_cantidad       162 non-null    float64\n",
      " 13  texto                 63 non-null     object \n",
      " 14  fuente_manual         112 non-null    object \n",
      "dtypes: float64(1), int64(2), object(10), string(2)\n",
      "memory usage: 20.5+ KB\n"
     ]
    }
   ],
   "source": [
    "disruptores_final.info()"
   ]
  },
  {
   "cell_type": "code",
   "execution_count": 43,
   "id": "5233d9b3",
   "metadata": {},
   "outputs": [
    {
     "name": "stdout",
     "output_type": "stream",
     "text": [
      "Número de Disruptores iniciales antes de incluir nombre de etiqueta: 257\n",
      "Alias totales conseguidos (filas de nombre_etiqueta): 164\n",
      "CAS totales (registros CAS Number único): 79\n",
      "EC totales (registros EC Number único): 78\n",
      "Disruptores con nombre INCI (registros Name_Edlist_Echa único): 77\n",
      "Textos totales (registros texto único): 63\n"
     ]
    }
   ],
   "source": [
    "n_dis_inicial=disruptores_provisional.shape[0]\n",
    "n_alias = disruptores_final[\"nombre_etiqueta\"].nunique()\n",
    "n_cas = disruptores_final[\"CAS Number\"].nunique()\n",
    "n_ec = disruptores_final[\"EC Number\"].nunique()\n",
    "n_name_edlist = disruptores_final[\"Name_Edlist_Echa\"].nunique()\n",
    "n_texto = disruptores_final[\"texto\"].nunique()\n",
    "\n",
    "print(f\"Número de Disruptores iniciales antes de incluir nombre de etiqueta: {n_dis_inicial}\")\n",
    "print(f\"Alias totales conseguidos (filas de nombre_etiqueta): {n_alias}\")\n",
    "print(f\"CAS totales (registros CAS Number único): {n_cas}\")\n",
    "print(f\"EC totales (registros EC Number único): {n_ec}\")\n",
    "print(f\"Disruptores con nombre INCI (registros Name_Edlist_Echa único): {n_name_edlist}\")\n",
    "print(f\"Textos totales (registros texto único): {n_texto}\")"
   ]
  },
  {
   "cell_type": "markdown",
   "id": "1a111474",
   "metadata": {},
   "source": [
    "Hay menos **Name_Edlist_Echa** que **CAS y EC** porque hay ingredientes que tiene más de un CAS y EC por ejemplo:"
   ]
  },
  {
   "cell_type": "code",
   "execution_count": 44,
   "id": "9983a0d2",
   "metadata": {},
   "outputs": [
    {
     "data": {
      "text/html": [
       "<div>\n",
       "<style scoped>\n",
       "    .dataframe tbody tr th:only-of-type {\n",
       "        vertical-align: middle;\n",
       "    }\n",
       "\n",
       "    .dataframe tbody tr th {\n",
       "        vertical-align: top;\n",
       "    }\n",
       "\n",
       "    .dataframe thead th {\n",
       "        text-align: right;\n",
       "    }\n",
       "</style>\n",
       "<table border=\"1\" class=\"dataframe\">\n",
       "  <thead>\n",
       "    <tr style=\"text-align: right;\">\n",
       "      <th></th>\n",
       "      <th>Name_Edlist_Echa</th>\n",
       "      <th>Name_Chemical_Cosing</th>\n",
       "      <th>Fuente_original</th>\n",
       "      <th>Anexo_cosIng</th>\n",
       "      <th>Appears_on_lists</th>\n",
       "      <th>Health_effects</th>\n",
       "      <th>CAS Number</th>\n",
       "      <th>EC Number</th>\n",
       "      <th>nombre_etiqueta</th>\n",
       "      <th>uso</th>\n",
       "      <th>productos_cosmeticos</th>\n",
       "      <th>imagen_nombre</th>\n",
       "      <th>imagen_cantidad</th>\n",
       "      <th>texto</th>\n",
       "      <th>fuente_manual</th>\n",
       "    </tr>\n",
       "  </thead>\n",
       "  <tbody>\n",
       "    <tr>\n",
       "      <th>103</th>\n",
       "      <td>Cyclomethicone</td>\n",
       "      <td>NaN</td>\n",
       "      <td>EDlist_2 (evaluando)</td>\n",
       "      <td>Sin información</td>\n",
       "      <td>List II</td>\n",
       "      <td>1</td>\n",
       "      <td>540-97-6</td>\n",
       "      <td>208-762-8</td>\n",
       "      <td>CYCLOHEXASILOXANE</td>\n",
       "      <td>ACONDICIONADOR DE LA PIEL - EMOLIENTE\\nACONDIC...</td>\n",
       "      <td>1</td>\n",
       "      <td>etiqueta_123.jpg/etiqueta_124.jpg</td>\n",
       "      <td>2.0</td>\n",
       "      <td>Cyclohexasiloxane, Water, Titanium Dioxide, Di...</td>\n",
       "      <td>Cosing</td>\n",
       "    </tr>\n",
       "    <tr>\n",
       "      <th>104</th>\n",
       "      <td>Cyclomethicone</td>\n",
       "      <td>NaN</td>\n",
       "      <td>EDlist_2 (evaluando)</td>\n",
       "      <td>Sin información</td>\n",
       "      <td>List II</td>\n",
       "      <td>1</td>\n",
       "      <td>540-97-6</td>\n",
       "      <td>208-762-8</td>\n",
       "      <td>dodecamethylcyclohexasiloxane</td>\n",
       "      <td>ACONDICIONADOR DE LA PIEL - EMOLIENTE\\nACONDIC...</td>\n",
       "      <td>1</td>\n",
       "      <td>NaN</td>\n",
       "      <td>0.0</td>\n",
       "      <td>NaN</td>\n",
       "      <td>Cosing</td>\n",
       "    </tr>\n",
       "    <tr>\n",
       "      <th>105</th>\n",
       "      <td>Cyclomethicone</td>\n",
       "      <td>NaN</td>\n",
       "      <td>EDlist_2 (evaluando)</td>\n",
       "      <td>Sin información</td>\n",
       "      <td>List II</td>\n",
       "      <td>1</td>\n",
       "      <td>540-97-6</td>\n",
       "      <td>208-762-8</td>\n",
       "      <td>Cyclomethicone 6</td>\n",
       "      <td>ACONDICIONADOR DE LA PIEL - EMOLIENTE\\nACONDIC...</td>\n",
       "      <td>1</td>\n",
       "      <td>NaN</td>\n",
       "      <td>0.0</td>\n",
       "      <td>NaN</td>\n",
       "      <td>Cosing</td>\n",
       "    </tr>\n",
       "    <tr>\n",
       "      <th>119</th>\n",
       "      <td>Cyclomethicone</td>\n",
       "      <td>NaN</td>\n",
       "      <td>EDlist_2 (evaluando)</td>\n",
       "      <td>Sin información</td>\n",
       "      <td>List II</td>\n",
       "      <td>1</td>\n",
       "      <td>69430-24-6</td>\n",
       "      <td>209-136-7</td>\n",
       "      <td>CYCLOMETHICONE</td>\n",
       "      <td>ACONDICIONADOR DE LA PIEL - EMOLIENTE\\nACONDIC...</td>\n",
       "      <td>1</td>\n",
       "      <td>etiqueta_084.jpg/etiqueta_085.jpg/etiqueta_086...</td>\n",
       "      <td>3.0</td>\n",
       "      <td>Ingredients overview\\nCyclomethicone, Titanium...</td>\n",
       "      <td>Cosing</td>\n",
       "    </tr>\n",
       "  </tbody>\n",
       "</table>\n",
       "</div>"
      ],
      "text/plain": [
       "    Name_Edlist_Echa Name_Chemical_Cosing       Fuente_original  \\\n",
       "103   Cyclomethicone                  NaN  EDlist_2 (evaluando)   \n",
       "104   Cyclomethicone                  NaN  EDlist_2 (evaluando)   \n",
       "105   Cyclomethicone                  NaN  EDlist_2 (evaluando)   \n",
       "119   Cyclomethicone                  NaN  EDlist_2 (evaluando)   \n",
       "\n",
       "        Anexo_cosIng Appears_on_lists  Health_effects  CAS Number  EC Number  \\\n",
       "103  Sin información          List II               1    540-97-6  208-762-8   \n",
       "104  Sin información          List II               1    540-97-6  208-762-8   \n",
       "105  Sin información          List II               1    540-97-6  208-762-8   \n",
       "119  Sin información          List II               1  69430-24-6  209-136-7   \n",
       "\n",
       "                   nombre_etiqueta  \\\n",
       "103              CYCLOHEXASILOXANE   \n",
       "104  dodecamethylcyclohexasiloxane   \n",
       "105               Cyclomethicone 6   \n",
       "119                 CYCLOMETHICONE   \n",
       "\n",
       "                                                   uso  productos_cosmeticos  \\\n",
       "103  ACONDICIONADOR DE LA PIEL - EMOLIENTE\\nACONDIC...                     1   \n",
       "104  ACONDICIONADOR DE LA PIEL - EMOLIENTE\\nACONDIC...                     1   \n",
       "105  ACONDICIONADOR DE LA PIEL - EMOLIENTE\\nACONDIC...                     1   \n",
       "119  ACONDICIONADOR DE LA PIEL - EMOLIENTE\\nACONDIC...                     1   \n",
       "\n",
       "                                         imagen_nombre  imagen_cantidad  \\\n",
       "103                  etiqueta_123.jpg/etiqueta_124.jpg              2.0   \n",
       "104                                                NaN              0.0   \n",
       "105                                                NaN              0.0   \n",
       "119  etiqueta_084.jpg/etiqueta_085.jpg/etiqueta_086...              3.0   \n",
       "\n",
       "                                                 texto fuente_manual  \n",
       "103  Cyclohexasiloxane, Water, Titanium Dioxide, Di...        Cosing  \n",
       "104                                                NaN        Cosing  \n",
       "105                                                NaN        Cosing  \n",
       "119  Ingredients overview\\nCyclomethicone, Titanium...        Cosing  "
      ]
     },
     "execution_count": 44,
     "metadata": {},
     "output_type": "execute_result"
    }
   ],
   "source": [
    "disruptores_final[disruptores_final[\"Name_Edlist_Echa\"] == \"Cyclomethicone\"]"
   ]
  },
  {
   "cell_type": "markdown",
   "id": "1647e9cb",
   "metadata": {},
   "source": [
    "### 6.1. Conclusión\n",
    "**Hemos obtenido un total de 77 de 257 disruptores con su nombre INCI, es decir un 30% del total de disruptores, el resto, pueden ser sustancias usadas en productos de limpieza, pesticidas, herbicidas, etc.., como se ha podido observar en la importación de la busqueda manual, y de los restantes no sabemos qué tipo de sustancias son.**"
   ]
  },
  {
   "cell_type": "markdown",
   "id": "4ccca634",
   "metadata": {},
   "source": [
    "## 7. Exportamos la lista de diruptores final\n",
    "Se exporta lista para usarla en el nlp. Tenemos en total 161 nombres de etiquetas"
   ]
  },
  {
   "cell_type": "code",
   "execution_count": 45,
   "id": "53347cfc",
   "metadata": {},
   "outputs": [],
   "source": [
    "# Reiniciamos ínfice\n",
    "disruptores_final.reset_index(drop=True, inplace=True)"
   ]
  },
  {
   "cell_type": "code",
   "execution_count": 46,
   "id": "36f79185",
   "metadata": {},
   "outputs": [],
   "source": [
    "disruptores_final.to_parquet(\"../../data/processed/notebooks/disruptores_final.parquet\", index=False)"
   ]
  },
  {
   "cell_type": "code",
   "execution_count": 47,
   "id": "ae091053",
   "metadata": {},
   "outputs": [],
   "source": [
    "disruptores_final.to_excel(\"../../data/processed/notebooks/disruptores_final.xlsx\", index=False)"
   ]
  }
 ],
 "metadata": {
  "kernelspec": {
   "display_name": "tfm_env",
   "language": "python",
   "name": "python3"
  },
  "language_info": {
   "codemirror_mode": {
    "name": "ipython",
    "version": 3
   },
   "file_extension": ".py",
   "mimetype": "text/x-python",
   "name": "python",
   "nbconvert_exporter": "python",
   "pygments_lexer": "ipython3",
   "version": "3.12.10"
  }
 },
 "nbformat": 4,
 "nbformat_minor": 5
}

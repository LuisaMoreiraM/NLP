{
 "cells": [
  {
   "cell_type": "markdown",
   "id": "7ae0f05c",
   "metadata": {},
   "source": [
    "# ETL BBDD ECHA\n",
    "El objetivo de esta ETL es **extraer** el listado de Disruptores Endocrinos de la ECHA (European Chemicals Agency) https://echa.europa.eu/es/ed-assessment **transformar** la BBDD para luego **cargarla** junto con la Edlist y unir ambos dataframes.\n",
    "\n",
    "El motivo de evaluar esta BBDD y no solo quedarnos con la EDlist, en la página de la Edlist se informa:\n",
    "https://edlists.org/ed-relevant-legislations\n",
    "\n",
    "\" Más de 40 legislaciones diferentes intervienen en la regulación de sustancias químicas en la UE. Aquí se ofrece una breve descripción de las jurisdicciones más relevantes para la regulación de sustancias químicas disruptoras endocrinas, así como de los procedimientos correspondientes.\n",
    "- Organismo responsable : ECHA (Agencia Europea de Sustancias y Mezclas Químicas)\n",
    "- Jurisdicción : REACH regula los productos químicos industriales producidos o importados en la UE.\n",
    "\n",
    "Procedimiento : Si un Estado miembro o la ECHA tienen una preocupación debido a las propiedades de alteración endocrina de un compuesto, pueden proponerlo como SVHC (Sustancia Extremadamente Preocupante) de acuerdo con el artículo 57(f) del reglamento REACH. Tras una ronda de comentarios públicos, la propuesta se remite al Comité de los Estados Miembros (MSC) para la búsqueda de un acuerdo. Si el MSC alcanza una decisión unánime, el compuesto se incluye en la Lista de Sustancias Candidatas de Muy Alta Preocupación para su Autorización debido a sus propiedades de alteración endocrina. Si los países del MSC no están de acuerdo, la propuesta se remite a la Comisión Europea para una decisión final.\n",
    "\n",
    "(...)\n",
    "\n",
    "La ECHA evalúa periódicamente las sustancias de la Lista de Candidatos para decidir cuáles deben incluirse en la Lista de Autorización con carácter prioritario. \"\n",
    "\n",
    "Por ese motivo, consideramos que para cubrir un mayor campo, hay que tener en cuenta ambos listados y en el peor de los caso eliminar duplicados.\n",
    "\n",
    "La ECHA explica en su web (enlace anterior) en el apartado \"Explanatory note\":\n",
    "\n",
    "\"La inclusión en la lista significa que se está desarrollando o se ha completado desde febrero de 2013 una evaluación informal de riesgos para las propiedades disruptoras endocrinas.\n",
    "\n",
    "Para cada sustancia, la tabla muestra el Estado miembro evaluador (presentador), el resultado de la evaluación y la fecha de la última actualización de la entrada de la lista.\"\n",
    "\n",
    "Por ese motivo, tendrémos en cuenta las variables \"Status\" y \"Outcome\" en donde en combinación de ambas variables se manifiesta si es disruptor confirmado o en evaluación"
   ]
  },
  {
   "cell_type": "markdown",
   "id": "03145be4",
   "metadata": {},
   "source": [
    "## 1. Importamos librerias"
   ]
  },
  {
   "cell_type": "code",
   "execution_count": 1,
   "id": "ecb448a0",
   "metadata": {},
   "outputs": [],
   "source": [
    "import pandas as pd\n",
    "import numpy as np"
   ]
  },
  {
   "cell_type": "markdown",
   "id": "173d4e87",
   "metadata": {},
   "source": [
    "## 2. Lectura de datos e información de la lista ECHA"
   ]
  },
  {
   "cell_type": "code",
   "execution_count": 2,
   "id": "3d76ccae",
   "metadata": {},
   "outputs": [
    {
     "name": "stderr",
     "output_type": "stream",
     "text": [
      "b:\\IMF\\TFM\\tfm-disruptors\\tfm_env\\Lib\\site-packages\\openpyxl\\styles\\stylesheet.py:237: UserWarning: Workbook contains no default style, apply openpyxl's default\n",
      "  warn(\"Workbook contains no default style, apply openpyxl's default\")\n"
     ]
    }
   ],
   "source": [
    "# leemos los datos de la lista de ECHA\n",
    "echa= pd.read_excel(\"../../data/raw/endocrine-disruptor-assessment-export.xlsx\", skiprows=3)\n"
   ]
  },
  {
   "cell_type": "code",
   "execution_count": 3,
   "id": "91b0e9cf",
   "metadata": {},
   "outputs": [
    {
     "name": "stdout",
     "output_type": "stream",
     "text": [
      "\n",
      "Nº de filas del dataset ECHA: 177\n",
      "Nº de columnas del dataset ECHA: 9\n",
      "Las variables de ECHA son: ['Substance name', 'DISLIST_ED_description', 'EC / List no', 'CAS no', 'Authority', 'Status', 'Outcome', 'Latest update', 'First published']\n",
      "\n"
     ]
    }
   ],
   "source": [
    "print(\"\"\"\n",
    "Nº de filas del dataset ECHA: {}\n",
    "Nº de columnas del dataset ECHA: {}\n",
    "Las variables de ECHA son: {}\n",
    "\"\"\".format(echa.shape[0], echa.shape[1], echa.columns.tolist()))"
   ]
  },
  {
   "cell_type": "code",
   "execution_count": 4,
   "id": "90e834e1",
   "metadata": {},
   "outputs": [
    {
     "name": "stdout",
     "output_type": "stream",
     "text": [
      "<class 'pandas.core.frame.DataFrame'>\n",
      "RangeIndex: 177 entries, 0 to 176\n",
      "Data columns (total 9 columns):\n",
      " #   Column                  Non-Null Count  Dtype \n",
      "---  ------                  --------------  ----- \n",
      " 0   Substance name          177 non-null    object\n",
      " 1   DISLIST_ED_description  9 non-null      object\n",
      " 2   EC / List no            177 non-null    object\n",
      " 3   CAS no                  177 non-null    object\n",
      " 4   Authority               176 non-null    object\n",
      " 5   Status                  177 non-null    object\n",
      " 6   Outcome                 177 non-null    object\n",
      " 7   Latest update           177 non-null    object\n",
      " 8   First published         177 non-null    object\n",
      "dtypes: object(9)\n",
      "memory usage: 12.6+ KB\n"
     ]
    }
   ],
   "source": [
    "echa.info()"
   ]
  },
  {
   "cell_type": "markdown",
   "id": "1084715d",
   "metadata": {},
   "source": [
    "Solo hay 1 nulo en **Authority** y casi todos los de la variable **DISLIST_ED_description** son nulos.\n",
    "\n",
    "El resto de variables parecen estar completas.\n",
    "\n",
    "**Procedemos a su eliminación \"DISLIST_ED_description\"**\n",
    "Porque no contiene apenas información y además aunque en el archivo aparezca en la web no aparece."
   ]
  },
  {
   "cell_type": "code",
   "execution_count": 5,
   "id": "1a7bb1f7",
   "metadata": {},
   "outputs": [],
   "source": [
    "echa.drop(columns='DISLIST_ED_description', inplace=True)"
   ]
  },
  {
   "cell_type": "code",
   "execution_count": 6,
   "id": "8986c3c4",
   "metadata": {},
   "outputs": [],
   "source": [
    "# Renombramos variable para que coincida con la Edllist\n",
    "echa.rename(columns={'CAS no': 'CAS Number', 'EC / List no':'EC Number'}, inplace=True)"
   ]
  },
  {
   "cell_type": "markdown",
   "id": "1b2a7017",
   "metadata": {},
   "source": [
    "## 3. Duplicados"
   ]
  },
  {
   "cell_type": "code",
   "execution_count": 7,
   "id": "464ff4e2",
   "metadata": {},
   "outputs": [
    {
     "data": {
      "text/html": [
       "<div>\n",
       "<style scoped>\n",
       "    .dataframe tbody tr th:only-of-type {\n",
       "        vertical-align: middle;\n",
       "    }\n",
       "\n",
       "    .dataframe tbody tr th {\n",
       "        vertical-align: top;\n",
       "    }\n",
       "\n",
       "    .dataframe thead th {\n",
       "        text-align: right;\n",
       "    }\n",
       "</style>\n",
       "<table border=\"1\" class=\"dataframe\">\n",
       "  <thead>\n",
       "    <tr style=\"text-align: right;\">\n",
       "      <th></th>\n",
       "      <th>Substance name</th>\n",
       "      <th>EC Number</th>\n",
       "      <th>CAS Number</th>\n",
       "      <th>Authority</th>\n",
       "      <th>Status</th>\n",
       "      <th>Outcome</th>\n",
       "      <th>Latest update</th>\n",
       "      <th>First published</th>\n",
       "    </tr>\n",
       "  </thead>\n",
       "  <tbody>\n",
       "    <tr>\n",
       "      <th>16</th>\n",
       "      <td>4,4'-isopropylidenediphenol</td>\n",
       "      <td>201-245-8</td>\n",
       "      <td>80-05-7</td>\n",
       "      <td>Germany</td>\n",
       "      <td>Concluded</td>\n",
       "      <td>ED ENV</td>\n",
       "      <td>03-feb-2021</td>\n",
       "      <td>12-oct-2018</td>\n",
       "    </tr>\n",
       "    <tr>\n",
       "      <th>17</th>\n",
       "      <td>4,4'-isopropylidenediphenol</td>\n",
       "      <td>201-245-8</td>\n",
       "      <td>80-05-7</td>\n",
       "      <td>France</td>\n",
       "      <td>Concluded</td>\n",
       "      <td>ED HH</td>\n",
       "      <td>03-feb-2021</td>\n",
       "      <td>12-oct-2018</td>\n",
       "    </tr>\n",
       "    <tr>\n",
       "      <th>18</th>\n",
       "      <td>4,4'-methylenedi-2,6-xylenol</td>\n",
       "      <td>226-378-9</td>\n",
       "      <td>5384-21-4</td>\n",
       "      <td>France</td>\n",
       "      <td>Under development</td>\n",
       "      <td>Under development (other)</td>\n",
       "      <td>03-feb-2021</td>\n",
       "      <td>12-oct-2018</td>\n",
       "    </tr>\n",
       "    <tr>\n",
       "      <th>52</th>\n",
       "      <td>Dicyclohexyl phthalate</td>\n",
       "      <td>201-545-9</td>\n",
       "      <td>84-61-7</td>\n",
       "      <td>Sweden</td>\n",
       "      <td>Concluded</td>\n",
       "      <td>ED HH</td>\n",
       "      <td>03-feb-2021</td>\n",
       "      <td>04-oct-2018</td>\n",
       "    </tr>\n",
       "    <tr>\n",
       "      <th>57</th>\n",
       "      <td>Phenol, dodecyl-, branched</td>\n",
       "      <td>310-154-3</td>\n",
       "      <td>121158-58-5</td>\n",
       "      <td>Germany</td>\n",
       "      <td>Concluded</td>\n",
       "      <td>ED ENV#ED HH</td>\n",
       "      <td>03-feb-2021</td>\n",
       "      <td>12-oct-2018</td>\n",
       "    </tr>\n",
       "    <tr>\n",
       "      <th>58</th>\n",
       "      <td>resorcinol; 1,3-benzenediol</td>\n",
       "      <td>203-585-2</td>\n",
       "      <td>108-46-3</td>\n",
       "      <td>Finland</td>\n",
       "      <td>Concluded</td>\n",
       "      <td>inconclusive</td>\n",
       "      <td>03-feb-2021</td>\n",
       "      <td>12-oct-2018</td>\n",
       "    </tr>\n",
       "    <tr>\n",
       "      <th>59</th>\n",
       "      <td>resorcinol; 1,3-benzenediol</td>\n",
       "      <td>203-585-2</td>\n",
       "      <td>108-46-3</td>\n",
       "      <td>France</td>\n",
       "      <td>Under development under SEV</td>\n",
       "      <td>Under development (SEV)</td>\n",
       "      <td>03-feb-2021</td>\n",
       "      <td>25-oct-2018</td>\n",
       "    </tr>\n",
       "    <tr>\n",
       "      <th>60</th>\n",
       "      <td>resorcinol; 1,3-benzenediol</td>\n",
       "      <td>203-585-2</td>\n",
       "      <td>108-46-3</td>\n",
       "      <td>France</td>\n",
       "      <td>Under development</td>\n",
       "      <td>Under development (other)</td>\n",
       "      <td>03-feb-2021</td>\n",
       "      <td>06-nov-2019</td>\n",
       "    </tr>\n",
       "    <tr>\n",
       "      <th>81</th>\n",
       "      <td>Phenol, dodecyl-, branched</td>\n",
       "      <td>310-154-3</td>\n",
       "      <td>121158-58-5</td>\n",
       "      <td>Germany</td>\n",
       "      <td>Concluded</td>\n",
       "      <td>ED ENV#ED HH</td>\n",
       "      <td>27-sep-2021</td>\n",
       "      <td>19-oct-2020</td>\n",
       "    </tr>\n",
       "    <tr>\n",
       "      <th>100</th>\n",
       "      <td>(3E)-1,7,7-trimethyl-3-(4-methylbenzylidene)bi...</td>\n",
       "      <td>701-394-3</td>\n",
       "      <td>1782069-81-1</td>\n",
       "      <td>Denmark</td>\n",
       "      <td>Concluded</td>\n",
       "      <td>ED HH</td>\n",
       "      <td>04-ago-2022</td>\n",
       "      <td>20-oct-2020</td>\n",
       "    </tr>\n",
       "    <tr>\n",
       "      <th>107</th>\n",
       "      <td>diuron (ISO); 3-(3,4-dichlorophenyl)-1,1-dimet...</td>\n",
       "      <td>206-354-4</td>\n",
       "      <td>330-54-1</td>\n",
       "      <td>Denmark</td>\n",
       "      <td>Under development</td>\n",
       "      <td>Under development (BPR)</td>\n",
       "      <td>20-oct-2022</td>\n",
       "      <td>20-oct-2022</td>\n",
       "    </tr>\n",
       "    <tr>\n",
       "      <th>120</th>\n",
       "      <td>(3E)-1,7,7-trimethyl-3-(4-methylbenzylidene)bi...</td>\n",
       "      <td>701-394-3</td>\n",
       "      <td>1782069-81-1</td>\n",
       "      <td>Germany</td>\n",
       "      <td>Concluded</td>\n",
       "      <td>inconclusive</td>\n",
       "      <td>12-abr-2023</td>\n",
       "      <td>12-oct-2018</td>\n",
       "    </tr>\n",
       "    <tr>\n",
       "      <th>132</th>\n",
       "      <td>Dicyclohexyl phthalate</td>\n",
       "      <td>201-545-9</td>\n",
       "      <td>84-61-7</td>\n",
       "      <td>Sweden</td>\n",
       "      <td>Concluded</td>\n",
       "      <td>ED ENV</td>\n",
       "      <td>04-oct-2023</td>\n",
       "      <td>03-nov-2020</td>\n",
       "    </tr>\n",
       "    <tr>\n",
       "      <th>133</th>\n",
       "      <td>4,4'-methylenedi-2,6-xylenol</td>\n",
       "      <td>226-378-9</td>\n",
       "      <td>5384-21-4</td>\n",
       "      <td>Germany</td>\n",
       "      <td>Under development</td>\n",
       "      <td>Under development (other)</td>\n",
       "      <td>16-oct-2023</td>\n",
       "      <td>16-oct-2023</td>\n",
       "    </tr>\n",
       "    <tr>\n",
       "      <th>145</th>\n",
       "      <td>diuron (ISO); 3-(3,4-dichlorophenyl)-1,1-dimet...</td>\n",
       "      <td>206-354-4</td>\n",
       "      <td>330-54-1</td>\n",
       "      <td>Finland</td>\n",
       "      <td>Concluded</td>\n",
       "      <td>ED ENV#inconclusive</td>\n",
       "      <td>05-jul-2024</td>\n",
       "      <td>12-oct-2018</td>\n",
       "    </tr>\n",
       "    <tr>\n",
       "      <th>158</th>\n",
       "      <td>Chrysanthemum cinerariaefolium, ext.</td>\n",
       "      <td>289-699-3</td>\n",
       "      <td>89997-63-7</td>\n",
       "      <td>Spain</td>\n",
       "      <td>Concluded</td>\n",
       "      <td>not ED#inconclusive</td>\n",
       "      <td>13-ene-2025</td>\n",
       "      <td>14-may-2019</td>\n",
       "    </tr>\n",
       "    <tr>\n",
       "      <th>159</th>\n",
       "      <td>Chrysanthemum cinerariaefolium, ext.</td>\n",
       "      <td>289-699-3</td>\n",
       "      <td>89997-63-7</td>\n",
       "      <td>Spain</td>\n",
       "      <td>Concluded</td>\n",
       "      <td>not ED#inconclusive</td>\n",
       "      <td>13-ene-2025</td>\n",
       "      <td>31-jul-2019</td>\n",
       "    </tr>\n",
       "  </tbody>\n",
       "</table>\n",
       "</div>"
      ],
      "text/plain": [
       "                                        Substance name  EC Number  \\\n",
       "16                         4,4'-isopropylidenediphenol  201-245-8   \n",
       "17                         4,4'-isopropylidenediphenol  201-245-8   \n",
       "18                        4,4'-methylenedi-2,6-xylenol  226-378-9   \n",
       "52                              Dicyclohexyl phthalate  201-545-9   \n",
       "57                          Phenol, dodecyl-, branched  310-154-3   \n",
       "58                         resorcinol; 1,3-benzenediol  203-585-2   \n",
       "59                         resorcinol; 1,3-benzenediol  203-585-2   \n",
       "60                         resorcinol; 1,3-benzenediol  203-585-2   \n",
       "81                          Phenol, dodecyl-, branched  310-154-3   \n",
       "100  (3E)-1,7,7-trimethyl-3-(4-methylbenzylidene)bi...  701-394-3   \n",
       "107  diuron (ISO); 3-(3,4-dichlorophenyl)-1,1-dimet...  206-354-4   \n",
       "120  (3E)-1,7,7-trimethyl-3-(4-methylbenzylidene)bi...  701-394-3   \n",
       "132                             Dicyclohexyl phthalate  201-545-9   \n",
       "133                       4,4'-methylenedi-2,6-xylenol  226-378-9   \n",
       "145  diuron (ISO); 3-(3,4-dichlorophenyl)-1,1-dimet...  206-354-4   \n",
       "158               Chrysanthemum cinerariaefolium, ext.  289-699-3   \n",
       "159               Chrysanthemum cinerariaefolium, ext.  289-699-3   \n",
       "\n",
       "       CAS Number Authority                       Status  \\\n",
       "16        80-05-7   Germany                    Concluded   \n",
       "17        80-05-7    France                    Concluded   \n",
       "18      5384-21-4    France            Under development   \n",
       "52        84-61-7    Sweden                    Concluded   \n",
       "57    121158-58-5   Germany                    Concluded   \n",
       "58       108-46-3   Finland                    Concluded   \n",
       "59       108-46-3    France  Under development under SEV   \n",
       "60       108-46-3    France            Under development   \n",
       "81    121158-58-5   Germany                    Concluded   \n",
       "100  1782069-81-1   Denmark                    Concluded   \n",
       "107      330-54-1   Denmark            Under development   \n",
       "120  1782069-81-1   Germany                    Concluded   \n",
       "132       84-61-7    Sweden                    Concluded   \n",
       "133     5384-21-4   Germany            Under development   \n",
       "145      330-54-1   Finland                    Concluded   \n",
       "158    89997-63-7     Spain                    Concluded   \n",
       "159    89997-63-7     Spain                    Concluded   \n",
       "\n",
       "                       Outcome Latest update First published  \n",
       "16                      ED ENV   03-feb-2021     12-oct-2018  \n",
       "17                       ED HH   03-feb-2021     12-oct-2018  \n",
       "18   Under development (other)   03-feb-2021     12-oct-2018  \n",
       "52                       ED HH   03-feb-2021     04-oct-2018  \n",
       "57                ED ENV#ED HH   03-feb-2021     12-oct-2018  \n",
       "58                inconclusive   03-feb-2021     12-oct-2018  \n",
       "59     Under development (SEV)   03-feb-2021     25-oct-2018  \n",
       "60   Under development (other)   03-feb-2021     06-nov-2019  \n",
       "81                ED ENV#ED HH   27-sep-2021     19-oct-2020  \n",
       "100                      ED HH   04-ago-2022     20-oct-2020  \n",
       "107    Under development (BPR)   20-oct-2022     20-oct-2022  \n",
       "120               inconclusive   12-abr-2023     12-oct-2018  \n",
       "132                     ED ENV   04-oct-2023     03-nov-2020  \n",
       "133  Under development (other)   16-oct-2023     16-oct-2023  \n",
       "145        ED ENV#inconclusive   05-jul-2024     12-oct-2018  \n",
       "158        not ED#inconclusive   13-ene-2025     14-may-2019  \n",
       "159        not ED#inconclusive   13-ene-2025     31-jul-2019  "
      ]
     },
     "execution_count": 7,
     "metadata": {},
     "output_type": "execute_result"
    }
   ],
   "source": [
    "# Para hacer la comparativa de duplicados vamos a elegir la variable \"Name and abbreviation\" pues es única para cada ingrediente y no tiene nulos.\n",
    "duplicados = echa[echa.duplicated(subset=['Substance name', 'CAS Number', 'EC Number' ], keep=False)]\n",
    "duplicados"
   ]
  },
  {
   "cell_type": "code",
   "execution_count": 8,
   "id": "2a0f3b7f",
   "metadata": {},
   "outputs": [],
   "source": [
    "# Eliminamos los duplicados por las variables más relantes y ordenando por las otras que pierdan información\n",
    "echa = echa.drop_duplicates(subset=['Substance name', 'CAS Number', 'EC Number' ], keep='first').sort_values(by = 'Authority')"
   ]
  },
  {
   "cell_type": "code",
   "execution_count": 9,
   "id": "ad2d1819",
   "metadata": {},
   "outputs": [
    {
     "name": "stdout",
     "output_type": "stream",
     "text": [
      "<class 'pandas.core.frame.DataFrame'>\n",
      "Index: 168 entries, 46 to 170\n",
      "Data columns (total 8 columns):\n",
      " #   Column           Non-Null Count  Dtype \n",
      "---  ------           --------------  ----- \n",
      " 0   Substance name   168 non-null    object\n",
      " 1   EC Number        168 non-null    object\n",
      " 2   CAS Number       168 non-null    object\n",
      " 3   Authority        167 non-null    object\n",
      " 4   Status           168 non-null    object\n",
      " 5   Outcome          168 non-null    object\n",
      " 6   Latest update    168 non-null    object\n",
      " 7   First published  168 non-null    object\n",
      "dtypes: object(8)\n",
      "memory usage: 11.8+ KB\n"
     ]
    }
   ],
   "source": [
    "echa.info()"
   ]
  },
  {
   "cell_type": "markdown",
   "id": "9703b4ae",
   "metadata": {},
   "source": [
    "## 4. Comprobación de \"EC Number\" y \"CAS Number\" - Mismo procedimiento que para EDlist"
   ]
  },
  {
   "cell_type": "markdown",
   "id": "adf7b199",
   "metadata": {},
   "source": [
    "Las dos variables que coinciden en ambos dataframes son \"EC Number\" y \"CAS Number\", por tanto vamos a comprobar el estado de esas variables en el dataframe ECHA:"
   ]
  },
  {
   "cell_type": "markdown",
   "id": "5cfb93d2",
   "metadata": {},
   "source": [
    "Comprobamos si hay más de un \"EC Number\" y \"CAS Number\" en el mismo registro, como pasaba con la Edlist"
   ]
  },
  {
   "cell_type": "code",
   "execution_count": 10,
   "id": "6f147851",
   "metadata": {},
   "outputs": [
    {
     "data": {
      "text/html": [
       "<div>\n",
       "<style scoped>\n",
       "    .dataframe tbody tr th:only-of-type {\n",
       "        vertical-align: middle;\n",
       "    }\n",
       "\n",
       "    .dataframe tbody tr th {\n",
       "        vertical-align: top;\n",
       "    }\n",
       "\n",
       "    .dataframe thead th {\n",
       "        text-align: right;\n",
       "    }\n",
       "</style>\n",
       "<table border=\"1\" class=\"dataframe\">\n",
       "  <thead>\n",
       "    <tr style=\"text-align: right;\">\n",
       "      <th></th>\n",
       "      <th>Substance name</th>\n",
       "      <th>EC Number</th>\n",
       "      <th>CAS Number</th>\n",
       "      <th>Authority</th>\n",
       "      <th>Status</th>\n",
       "      <th>Outcome</th>\n",
       "      <th>Latest update</th>\n",
       "      <th>First published</th>\n",
       "    </tr>\n",
       "  </thead>\n",
       "  <tbody>\n",
       "  </tbody>\n",
       "</table>\n",
       "</div>"
      ],
      "text/plain": [
       "Empty DataFrame\n",
       "Columns: [Substance name, EC Number, CAS Number, Authority, Status, Outcome, Latest update, First published]\n",
       "Index: []"
      ]
     },
     "execution_count": 10,
     "metadata": {},
     "output_type": "execute_result"
    }
   ],
   "source": [
    "# Filtrar filas con más de un CAS no. de ECHA\n",
    "echa[echa['CAS Number'].str.contains(r'[/;,]', regex= True,na=False)]\n",
    "\n",
    "# En este dataframe no hay problemas"
   ]
  },
  {
   "cell_type": "code",
   "execution_count": 11,
   "id": "3862bcd8",
   "metadata": {},
   "outputs": [
    {
     "data": {
      "text/html": [
       "<div>\n",
       "<style scoped>\n",
       "    .dataframe tbody tr th:only-of-type {\n",
       "        vertical-align: middle;\n",
       "    }\n",
       "\n",
       "    .dataframe tbody tr th {\n",
       "        vertical-align: top;\n",
       "    }\n",
       "\n",
       "    .dataframe thead th {\n",
       "        text-align: right;\n",
       "    }\n",
       "</style>\n",
       "<table border=\"1\" class=\"dataframe\">\n",
       "  <thead>\n",
       "    <tr style=\"text-align: right;\">\n",
       "      <th></th>\n",
       "      <th>Substance name</th>\n",
       "      <th>EC Number</th>\n",
       "      <th>CAS Number</th>\n",
       "      <th>Authority</th>\n",
       "      <th>Status</th>\n",
       "      <th>Outcome</th>\n",
       "      <th>Latest update</th>\n",
       "      <th>First published</th>\n",
       "    </tr>\n",
       "  </thead>\n",
       "  <tbody>\n",
       "  </tbody>\n",
       "</table>\n",
       "</div>"
      ],
      "text/plain": [
       "Empty DataFrame\n",
       "Columns: [Substance name, EC Number, CAS Number, Authority, Status, Outcome, Latest update, First published]\n",
       "Index: []"
      ]
     },
     "execution_count": 11,
     "metadata": {},
     "output_type": "execute_result"
    }
   ],
   "source": [
    "# Filtrar filas con más de un CAS no. de ECHA\n",
    "echa[echa['EC Number'].str.contains((r'[,;/]'), na=False)]\n",
    "\n",
    "# En este dataframe no hay problemas"
   ]
  },
  {
   "cell_type": "code",
   "execution_count": 12,
   "id": "f66f6a62",
   "metadata": {},
   "outputs": [
    {
     "data": {
      "text/html": [
       "<div>\n",
       "<style scoped>\n",
       "    .dataframe tbody tr th:only-of-type {\n",
       "        vertical-align: middle;\n",
       "    }\n",
       "\n",
       "    .dataframe tbody tr th {\n",
       "        vertical-align: top;\n",
       "    }\n",
       "\n",
       "    .dataframe thead th {\n",
       "        text-align: right;\n",
       "    }\n",
       "</style>\n",
       "<table border=\"1\" class=\"dataframe\">\n",
       "  <thead>\n",
       "    <tr style=\"text-align: right;\">\n",
       "      <th></th>\n",
       "      <th>Substance name</th>\n",
       "      <th>EC Number</th>\n",
       "      <th>CAS Number</th>\n",
       "      <th>Authority</th>\n",
       "      <th>Status</th>\n",
       "      <th>Outcome</th>\n",
       "      <th>Latest update</th>\n",
       "      <th>First published</th>\n",
       "    </tr>\n",
       "  </thead>\n",
       "  <tbody>\n",
       "    <tr>\n",
       "      <th>165</th>\n",
       "      <td>Reaction products of paraformaldehyde and 2-hy...</td>\n",
       "      <td>-</td>\n",
       "      <td>-</td>\n",
       "      <td>Austria</td>\n",
       "      <td>Concluded</td>\n",
       "      <td>inconclusive</td>\n",
       "      <td>13-ene-2025</td>\n",
       "      <td>02-jun-2021</td>\n",
       "    </tr>\n",
       "    <tr>\n",
       "      <th>166</th>\n",
       "      <td>reaction products of paraformaldehyde with 2-h...</td>\n",
       "      <td>-</td>\n",
       "      <td>-</td>\n",
       "      <td>Austria</td>\n",
       "      <td>Concluded</td>\n",
       "      <td>inconclusive</td>\n",
       "      <td>13-ene-2025</td>\n",
       "      <td>02-jun-2021</td>\n",
       "    </tr>\n",
       "    <tr>\n",
       "      <th>19</th>\n",
       "      <td>4-heptylphenol, branched and linear</td>\n",
       "      <td>-</td>\n",
       "      <td>-</td>\n",
       "      <td>Austria</td>\n",
       "      <td>Concluded</td>\n",
       "      <td>ED ENV</td>\n",
       "      <td>03-feb-2021</td>\n",
       "      <td>04-oct-2018</td>\n",
       "    </tr>\n",
       "    <tr>\n",
       "      <th>98</th>\n",
       "      <td>(±)-1,7,7-trimethyl-3-[(4-methylphenyl)methyle...</td>\n",
       "      <td>-</td>\n",
       "      <td>-</td>\n",
       "      <td>Denmark</td>\n",
       "      <td>Concluded</td>\n",
       "      <td>ED HH</td>\n",
       "      <td>04-ago-2022</td>\n",
       "      <td>20-oct-2020</td>\n",
       "    </tr>\n",
       "    <tr>\n",
       "      <th>142</th>\n",
       "      <td>Oligomerisation and alkylation reaction produc...</td>\n",
       "      <td>700-960-7</td>\n",
       "      <td>-</td>\n",
       "      <td>Denmark</td>\n",
       "      <td>Concluded</td>\n",
       "      <td>ED ENV</td>\n",
       "      <td>04-jun-2024</td>\n",
       "      <td>25-oct-2018</td>\n",
       "    </tr>\n",
       "    <tr>\n",
       "      <th>141</th>\n",
       "      <td>Mono- and di-phthalate esters with linear and/...</td>\n",
       "      <td>-</td>\n",
       "      <td>-</td>\n",
       "      <td>France</td>\n",
       "      <td>Under development</td>\n",
       "      <td>Under development (other)</td>\n",
       "      <td>18-abr-2024</td>\n",
       "      <td>18-abr-2024</td>\n",
       "    </tr>\n",
       "    <tr>\n",
       "      <th>150</th>\n",
       "      <td>Reaction mass of p-t-butylphenyldiphenyl phosp...</td>\n",
       "      <td>939-505-4</td>\n",
       "      <td>-</td>\n",
       "      <td>France</td>\n",
       "      <td>Under development under SEV</td>\n",
       "      <td>Under development (SEV)</td>\n",
       "      <td>16-ago-2024</td>\n",
       "      <td>15-may-2024</td>\n",
       "    </tr>\n",
       "    <tr>\n",
       "      <th>176</th>\n",
       "      <td>Reaction mass of 3-[(diphenoxyphosphoryl)oxy]p...</td>\n",
       "      <td>701-337-2</td>\n",
       "      <td>-</td>\n",
       "      <td>France</td>\n",
       "      <td>Concluded</td>\n",
       "      <td>inconclusive</td>\n",
       "      <td>26-jun-2025</td>\n",
       "      <td>12-oct-2018</td>\n",
       "    </tr>\n",
       "    <tr>\n",
       "      <th>7</th>\n",
       "      <td>1-(5,6,7,8-tetrahydro-3,5,5,6,8,8-hexamethyl-2...</td>\n",
       "      <td>-</td>\n",
       "      <td>-</td>\n",
       "      <td>Germany</td>\n",
       "      <td>Under development under SEV</td>\n",
       "      <td>Under development (SEV)</td>\n",
       "      <td>03-feb-2021</td>\n",
       "      <td>06-nov-2019</td>\n",
       "    </tr>\n",
       "    <tr>\n",
       "      <th>118</th>\n",
       "      <td>Reaction mass of 2,6-bis(1-phenylethyl)phenol ...</td>\n",
       "      <td>701-171-0</td>\n",
       "      <td>-</td>\n",
       "      <td>Germany</td>\n",
       "      <td>Concluded</td>\n",
       "      <td>ED ENV</td>\n",
       "      <td>20-mar-2023</td>\n",
       "      <td>23-mar-2022</td>\n",
       "    </tr>\n",
       "    <tr>\n",
       "      <th>75</th>\n",
       "      <td>Phenol, alkylation products (mainly in para po...</td>\n",
       "      <td>799-972-3</td>\n",
       "      <td>-</td>\n",
       "      <td>Germany</td>\n",
       "      <td>Concluded</td>\n",
       "      <td>ED ENV#ED HH</td>\n",
       "      <td>27-sep-2021</td>\n",
       "      <td>19-oct-2020</td>\n",
       "    </tr>\n",
       "  </tbody>\n",
       "</table>\n",
       "</div>"
      ],
      "text/plain": [
       "                                        Substance name  EC Number CAS Number  \\\n",
       "165  Reaction products of paraformaldehyde and 2-hy...          -          -   \n",
       "166  reaction products of paraformaldehyde with 2-h...          -          -   \n",
       "19                 4-heptylphenol, branched and linear          -          -   \n",
       "98   (±)-1,7,7-trimethyl-3-[(4-methylphenyl)methyle...          -          -   \n",
       "142  Oligomerisation and alkylation reaction produc...  700-960-7          -   \n",
       "141  Mono- and di-phthalate esters with linear and/...          -          -   \n",
       "150  Reaction mass of p-t-butylphenyldiphenyl phosp...  939-505-4          -   \n",
       "176  Reaction mass of 3-[(diphenoxyphosphoryl)oxy]p...  701-337-2          -   \n",
       "7    1-(5,6,7,8-tetrahydro-3,5,5,6,8,8-hexamethyl-2...          -          -   \n",
       "118  Reaction mass of 2,6-bis(1-phenylethyl)phenol ...  701-171-0          -   \n",
       "75   Phenol, alkylation products (mainly in para po...  799-972-3          -   \n",
       "\n",
       "    Authority                       Status                    Outcome  \\\n",
       "165   Austria                    Concluded               inconclusive   \n",
       "166   Austria                    Concluded               inconclusive   \n",
       "19    Austria                    Concluded                     ED ENV   \n",
       "98    Denmark                    Concluded                      ED HH   \n",
       "142   Denmark                    Concluded                     ED ENV   \n",
       "141    France            Under development  Under development (other)   \n",
       "150    France  Under development under SEV    Under development (SEV)   \n",
       "176    France                    Concluded               inconclusive   \n",
       "7     Germany  Under development under SEV    Under development (SEV)   \n",
       "118   Germany                    Concluded                     ED ENV   \n",
       "75    Germany                    Concluded               ED ENV#ED HH   \n",
       "\n",
       "    Latest update First published  \n",
       "165   13-ene-2025     02-jun-2021  \n",
       "166   13-ene-2025     02-jun-2021  \n",
       "19    03-feb-2021     04-oct-2018  \n",
       "98    04-ago-2022     20-oct-2020  \n",
       "142   04-jun-2024     25-oct-2018  \n",
       "141   18-abr-2024     18-abr-2024  \n",
       "150   16-ago-2024     15-may-2024  \n",
       "176   26-jun-2025     12-oct-2018  \n",
       "7     03-feb-2021     06-nov-2019  \n",
       "118   20-mar-2023     23-mar-2022  \n",
       "75    27-sep-2021     19-oct-2020  "
      ]
     },
     "execution_count": 12,
     "metadata": {},
     "output_type": "execute_result"
    }
   ],
   "source": [
    "echa[echa['CAS Number'] == '-']"
   ]
  },
  {
   "cell_type": "markdown",
   "id": "1a800bfe",
   "metadata": {},
   "source": [
    "Vemos que ambas variables \"EC Number\" y \"CAS Number\" contienen valores: \"-\" por lo que los sustituiremos por NAN"
   ]
  },
  {
   "cell_type": "code",
   "execution_count": 13,
   "id": "0abd083b",
   "metadata": {},
   "outputs": [],
   "source": [
    "echa['CAS Number'] = echa['CAS Number'].replace(['-', '', ' '], np.nan)\n",
    "echa['EC Number'] = echa['EC Number'].replace(['-', '', ' '], np.nan)"
   ]
  },
  {
   "cell_type": "code",
   "execution_count": 14,
   "id": "c8058e74",
   "metadata": {},
   "outputs": [
    {
     "name": "stdout",
     "output_type": "stream",
     "text": [
      "<class 'pandas.core.frame.DataFrame'>\n",
      "Index: 168 entries, 46 to 170\n",
      "Data columns (total 8 columns):\n",
      " #   Column           Non-Null Count  Dtype \n",
      "---  ------           --------------  ----- \n",
      " 0   Substance name   168 non-null    object\n",
      " 1   EC Number        134 non-null    object\n",
      " 2   CAS Number       157 non-null    object\n",
      " 3   Authority        167 non-null    object\n",
      " 4   Status           168 non-null    object\n",
      " 5   Outcome          168 non-null    object\n",
      " 6   Latest update    168 non-null    object\n",
      " 7   First published  168 non-null    object\n",
      "dtypes: object(8)\n",
      "memory usage: 11.8+ KB\n"
     ]
    }
   ],
   "source": [
    "echa.info()"
   ]
  },
  {
   "cell_type": "markdown",
   "id": "37cf2c61",
   "metadata": {},
   "source": [
    "Vemos que hemos pasado de no tener nulos en las variables \"EC no.\" y \"CAS no.\" ahora tenemos algunos.\n",
    "Tambien vemos que en la consulta anterior hay dos registros que tienen en nulo en las 2 varibles que por las que vamos a hacer la unión: \"CAS no.\" y \"EC no.\"\n",
    "Hay que eliminar para no crear conflictos en la unión."
   ]
  },
  {
   "cell_type": "code",
   "execution_count": 15,
   "id": "44b80e26",
   "metadata": {},
   "outputs": [],
   "source": [
    "# Filtramos los registros que umplen la condición que \"CAS no.\" y \"EC no.\" sean NO nulos.\n",
    "\n",
    "echa_clean = echa[~(echa['CAS Number'].isna() & echa['EC Number'].isna())]"
   ]
  },
  {
   "cell_type": "code",
   "execution_count": 16,
   "id": "344747a1",
   "metadata": {},
   "outputs": [
    {
     "name": "stdout",
     "output_type": "stream",
     "text": [
      "<class 'pandas.core.frame.DataFrame'>\n",
      "Index: 162 entries, 46 to 170\n",
      "Data columns (total 8 columns):\n",
      " #   Column           Non-Null Count  Dtype \n",
      "---  ------           --------------  ----- \n",
      " 0   Substance name   162 non-null    object\n",
      " 1   EC Number        134 non-null    object\n",
      " 2   CAS Number       157 non-null    object\n",
      " 3   Authority        161 non-null    object\n",
      " 4   Status           162 non-null    object\n",
      " 5   Outcome          162 non-null    object\n",
      " 6   Latest update    162 non-null    object\n",
      " 7   First published  162 non-null    object\n",
      "dtypes: object(8)\n",
      "memory usage: 11.4+ KB\n"
     ]
    }
   ],
   "source": [
    "echa_clean.info()"
   ]
  },
  {
   "cell_type": "markdown",
   "id": "cb4db5af",
   "metadata": {},
   "source": [
    "## 5. Creación variable fuente_original"
   ]
  },
  {
   "cell_type": "markdown",
   "id": "66ead769",
   "metadata": {},
   "source": [
    "Vamos a crear esta variable con la información según el disruptor está en evaluación o está confirmado"
   ]
  },
  {
   "cell_type": "code",
   "execution_count": 17,
   "id": "e2878731",
   "metadata": {},
   "outputs": [
    {
     "data": {
      "text/plain": [
       "Status\n",
       "Concluded                      104\n",
       "Under development under SEV     29\n",
       "Under development               29\n",
       "Name: count, dtype: int64"
      ]
     },
     "execution_count": 17,
     "metadata": {},
     "output_type": "execute_result"
    }
   ],
   "source": [
    "echa_clean['Status'].value_counts()"
   ]
  },
  {
   "cell_type": "code",
   "execution_count": 18,
   "id": "05b7aad6",
   "metadata": {},
   "outputs": [
    {
     "data": {
      "text/plain": [
       "Outcome\n",
       "ED ENV                       40\n",
       "Under development (SEV)      29\n",
       "Under development (BPR)      22\n",
       "postponed                    13\n",
       "ED ENV#ED HH                 13\n",
       "inconclusive                 12\n",
       "ED HH                        11\n",
       "not ED                       10\n",
       "Under development (other)     7\n",
       "ED ENV#inconclusive           2\n",
       "not ED#inconclusive           2\n",
       "ED ENV 1                      1\n",
       "Name: count, dtype: int64"
      ]
     },
     "execution_count": 18,
     "metadata": {},
     "output_type": "execute_result"
    }
   ],
   "source": [
    "echa_clean['Outcome'].value_counts()"
   ]
  },
  {
   "cell_type": "markdown",
   "id": "124fb846",
   "metadata": {},
   "source": [
    "La información de la variable Status se amplia en la variable Outcome, que es en donde se dice cómo se ha concluido la investigación.\n",
    "\n",
    "Por ello, vamos consultar qué valores toma **Outcome** cuando la variable **Status** toma valor concluide y cuando no"
   ]
  },
  {
   "cell_type": "code",
   "execution_count": 19,
   "id": "9bcedba2",
   "metadata": {},
   "outputs": [
    {
     "data": {
      "text/plain": [
       "Outcome\n",
       "ED ENV                 40\n",
       "postponed              13\n",
       "ED ENV#ED HH           13\n",
       "inconclusive           12\n",
       "ED HH                  11\n",
       "not ED                 10\n",
       "ED ENV#inconclusive     2\n",
       "not ED#inconclusive     2\n",
       "ED ENV 1                1\n",
       "Name: count, dtype: int64"
      ]
     },
     "execution_count": 19,
     "metadata": {},
     "output_type": "execute_result"
    }
   ],
   "source": [
    "Status_concluded = echa_clean[echa_clean['Status']== 'Concluded']\n",
    "Status_concluded['Outcome'].value_counts()"
   ]
  },
  {
   "cell_type": "code",
   "execution_count": 20,
   "id": "90563329",
   "metadata": {},
   "outputs": [
    {
     "data": {
      "text/plain": [
       "Outcome\n",
       "Under development (SEV)      29\n",
       "Under development (BPR)      22\n",
       "Under development (other)     7\n",
       "Name: count, dtype: int64"
      ]
     },
     "execution_count": 20,
     "metadata": {},
     "output_type": "execute_result"
    }
   ],
   "source": [
    "Status_no_concluded = echa_clean[echa_clean['Status']!= 'Concluded']\n",
    "Status_no_concluded['Outcome'].value_counts()"
   ]
  },
  {
   "cell_type": "markdown",
   "id": "6985a727",
   "metadata": {},
   "source": [
    "Con esta información vamos a mapear outcome para darle valores: \n",
    "* ED_Env\n",
    "* ED_Humans\n",
    "* ED_Humans&Env\n",
    "* ED_pendiente\n",
    "\n",
    "Tendremos en cuenta como pendiente inconclusive e postponed, porque si bien es cierto que están dentro del grupo de **concluded**, no se ha descartado ni confirmado como disruptor.\n",
    "\n",
    "Pero antes vamos a elimar los que no son ED porque al estar confirmados que no lo son no nos interesa tenerlos"
   ]
  },
  {
   "cell_type": "code",
   "execution_count": 21,
   "id": "8fc2636a",
   "metadata": {},
   "outputs": [
    {
     "data": {
      "text/plain": [
       "Outcome\n",
       "ED ENV                       40\n",
       "Under development (SEV)      29\n",
       "Under development (BPR)      22\n",
       "postponed                    13\n",
       "ED ENV#ED HH                 13\n",
       "inconclusive                 12\n",
       "ED HH                        11\n",
       "Under development (other)     7\n",
       "ED ENV#inconclusive           2\n",
       "ED ENV 1                      1\n",
       "Name: count, dtype: int64"
      ]
     },
     "execution_count": 21,
     "metadata": {},
     "output_type": "execute_result"
    }
   ],
   "source": [
    "echa_clean= echa_clean[~echa_clean['Outcome'].isin(['not ED', 'not ED#inconclusive'])]\n",
    "echa_clean['Outcome'].value_counts()"
   ]
  },
  {
   "cell_type": "code",
   "execution_count": 22,
   "id": "9d402578",
   "metadata": {},
   "outputs": [],
   "source": [
    "# Creamos un diccionario de mapeo\n",
    "mapeo = {\n",
    "    \"ED ENV\": \"ECHA - ED_Env\",\n",
    "    \"ED ENV#ED HH\": \"ECHA - ED_Humans&Env\",\n",
    "    \"ED HH\": \"ECHA - ED_Humans\",\n",
    "    \"ED ENV 1\": \"ECHA - ED_Env\",\n",
    "    \"Under development (SEV)\" : \"ECHA - ED_pendiente\",\n",
    "    \"Under development (BPR)\" : \"ECHA - ED_pendiente\",\n",
    "    \"inconclusive\" : \"ECHA - ED_pendiente\",\n",
    "    \"postponed\" : \"ECHA - ED_pendiente\",\n",
    "    \"Under development (other)\" : \"ECHA - ED_pendiente\",\n",
    "    \"ED ENV#inconclusive\" : \"ECHA - ED_pendiente\"\n",
    "}\n",
    "\n",
    "# Creamos la nueva columna\n",
    "echa_clean['Fuente_original'] = echa_clean['Outcome'].map(mapeo)\n"
   ]
  },
  {
   "cell_type": "code",
   "execution_count": 23,
   "id": "8c97ad2d",
   "metadata": {},
   "outputs": [
    {
     "name": "stdout",
     "output_type": "stream",
     "text": [
      "<class 'pandas.core.frame.DataFrame'>\n",
      "Index: 150 entries, 46 to 170\n",
      "Data columns (total 9 columns):\n",
      " #   Column           Non-Null Count  Dtype \n",
      "---  ------           --------------  ----- \n",
      " 0   Substance name   150 non-null    object\n",
      " 1   EC Number        122 non-null    object\n",
      " 2   CAS Number       145 non-null    object\n",
      " 3   Authority        149 non-null    object\n",
      " 4   Status           150 non-null    object\n",
      " 5   Outcome          150 non-null    object\n",
      " 6   Latest update    150 non-null    object\n",
      " 7   First published  150 non-null    object\n",
      " 8   Fuente_original  150 non-null    object\n",
      "dtypes: object(9)\n",
      "memory usage: 11.7+ KB\n"
     ]
    }
   ],
   "source": [
    "echa_clean.info()"
   ]
  },
  {
   "cell_type": "code",
   "execution_count": 24,
   "id": "f498cbbf",
   "metadata": {},
   "outputs": [
    {
     "data": {
      "text/plain": [
       "Fuente_original\n",
       "ECHA - ED_pendiente     85\n",
       "ECHA - ED_Env           41\n",
       "ECHA - ED_Humans&Env    13\n",
       "ECHA - ED_Humans        11\n",
       "Name: count, dtype: int64"
      ]
     },
     "execution_count": 24,
     "metadata": {},
     "output_type": "execute_result"
    }
   ],
   "source": [
    "echa_clean['Fuente_original'].value_counts()"
   ]
  },
  {
   "cell_type": "markdown",
   "id": "d6eb81e2",
   "metadata": {},
   "source": [
    "## 6. Exportamos base de datos limpia\n",
    "Posteriormente vamos a unir esta tabla con la tabla EDlist y CosIng."
   ]
  },
  {
   "cell_type": "code",
   "execution_count": 25,
   "id": "731168c8",
   "metadata": {},
   "outputs": [],
   "source": [
    "# Reiniciamos ínfice\n",
    "echa_clean.reset_index(drop=True, inplace=True)"
   ]
  },
  {
   "cell_type": "code",
   "execution_count": 26,
   "id": "1afe7b59",
   "metadata": {},
   "outputs": [],
   "source": [
    "# CSV\n",
    "# echa_clean.to_csv(\"../../data/processed/notebooks/echa_clean.csv\", index=False)\n",
    "\n",
    "# Parquet\n",
    "echa_clean.to_parquet(\"../../data/processed/notebooks/echa_clean.parquet\", index=False)"
   ]
  }
 ],
 "metadata": {
  "kernelspec": {
   "display_name": "tfm_env",
   "language": "python",
   "name": "python3"
  },
  "language_info": {
   "codemirror_mode": {
    "name": "ipython",
    "version": 3
   },
   "file_extension": ".py",
   "mimetype": "text/x-python",
   "name": "python",
   "nbconvert_exporter": "python",
   "pygments_lexer": "ipython3",
   "version": "3.12.10"
  }
 },
 "nbformat": 4,
 "nbformat_minor": 5
}

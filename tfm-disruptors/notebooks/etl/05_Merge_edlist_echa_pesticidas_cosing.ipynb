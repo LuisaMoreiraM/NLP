{
 "cells": [
  {
   "cell_type": "markdown",
   "id": "7257cccf",
   "metadata": {},
   "source": [
    "# UNIÓN DE TABLAS EDLIST - ECHA - PESTICIDAS - COSING\n",
    "El objetivo de este archivo es la unión de tablas y la creación de una tabla única con el nombre que aparece en las etiquetas\n",
    "\n",
    "Las tablas que se van a unir son:\n",
    "\n",
    "- **edlist_clean** -> contiene disrupores endocrinos y nombres químicos\n",
    "- **echa_clean** -> contiene disrupores endocrinos y nombres químicos\n",
    "- **pesticidas** -> contiene el listados de las sustancias activas de pesticidas \n",
    "- **cosing_clean** -> contiene ingredientes y sustancias usadas en productos cosméticos y nombres de las etiquetas \n",
    "\n",
    "La primera unión -> **edlist_clean** y **echa_clean** se harán por las claves: CAS no. y EC no. \n",
    "\n",
    "La segunda unión -> **edlist_echa** y **pesticidas** se harán por las claves: CAS no. y EC no.\n",
    "\n",
    "La tercera unión -> **edlist_echa_pesticidas** y **cosing_clean** se harán por las claves: CAS no. y EC no. \n",
    "\n",
    "**IMPORTANTE:** En adelante cuando nos refiramos al **nombre INCI** nos referimos al nombre de la etiqueta de los productos, porque es como se le conoce de manera internacional"
   ]
  },
  {
   "cell_type": "markdown",
   "id": "c66dea70",
   "metadata": {},
   "source": [
    "## 1. Importamos librerias y definimos funciones"
   ]
  },
  {
   "cell_type": "code",
   "execution_count": 1,
   "id": "94c64a9e",
   "metadata": {},
   "outputs": [],
   "source": [
    "import pandas as pd\n",
    "import numpy as np"
   ]
  },
  {
   "cell_type": "markdown",
   "id": "5c64c638",
   "metadata": {},
   "source": [
    "**DEFINIMOS FUNCIONES**"
   ]
  },
  {
   "cell_type": "code",
   "execution_count": 2,
   "id": "6ba245d9",
   "metadata": {},
   "outputs": [],
   "source": [
    "def nombre_mas_informativo_generico(df, col1, col2, nueva_col):\n",
    "    def elegir_mas_informativo(row):\n",
    "        val1 = row[col1]\n",
    "        val2 = row[col2]\n",
    "\n",
    "        if pd.isna(val1):\n",
    "            return val2\n",
    "        if pd.isna(val2):\n",
    "            return val1\n",
    "        if val1 == val2:\n",
    "            return val1\n",
    "        return val1 if len(str(val1)) > len(str(val2)) else val2\n",
    "\n",
    "    df[nueva_col] = df.apply(elegir_mas_informativo, axis=1)\n",
    "    return df"
   ]
  },
  {
   "cell_type": "markdown",
   "id": "2b915d77",
   "metadata": {},
   "source": [
    "## 2. Importamos Edlist_clean"
   ]
  },
  {
   "cell_type": "code",
   "execution_count": 3,
   "id": "a7a88b4e",
   "metadata": {},
   "outputs": [],
   "source": [
    "# leemos los datos de la lista de EDlist_clean\n",
    "edlist_clean= pd.read_parquet(\"../../data/processed/notebooks/edlist_clean.parquet\")"
   ]
  },
  {
   "cell_type": "code",
   "execution_count": 4,
   "id": "4ed80703",
   "metadata": {},
   "outputs": [
    {
     "name": "stdout",
     "output_type": "stream",
     "text": [
      "<class 'pandas.core.frame.DataFrame'>\n",
      "RangeIndex: 239 entries, 0 to 238\n",
      "Data columns (total 11 columns):\n",
      " #   Column                 Non-Null Count  Dtype \n",
      "---  ------                 --------------  ----- \n",
      " 0   ID (for name)          239 non-null    int64 \n",
      " 1   Name and abbreviation  239 non-null    object\n",
      " 2   Health effects         239 non-null    int64 \n",
      " 3   Environmental effects  239 non-null    int64 \n",
      " 4   Status                 239 non-null    object\n",
      " 5   Regulatory Field       225 non-null    object\n",
      " 6   Year                   239 non-null    int64 \n",
      " 7   Appears on lists       239 non-null    object\n",
      " 8   Fuente_original        239 non-null    object\n",
      " 9   CAS Number             230 non-null    object\n",
      " 10  EC Number              195 non-null    object\n",
      "dtypes: int64(4), object(7)\n",
      "memory usage: 20.7+ KB\n"
     ]
    }
   ],
   "source": [
    "edlist_clean.info()"
   ]
  },
  {
   "cell_type": "code",
   "execution_count": 5,
   "id": "60a88051",
   "metadata": {},
   "outputs": [
    {
     "data": {
      "text/plain": [
       "ID (for name)            False\n",
       "Name and abbreviation    False\n",
       "Health effects           False\n",
       "Environmental effects    False\n",
       "Status                   False\n",
       "Regulatory Field          True\n",
       "Year                     False\n",
       "Appears on lists         False\n",
       "Fuente_original          False\n",
       "CAS Number                True\n",
       "EC Number                 True\n",
       "dtype: bool"
      ]
     },
     "execution_count": 5,
     "metadata": {},
     "output_type": "execute_result"
    }
   ],
   "source": [
    "# Consulatamos si hay al menos un None en string en alguna columna\n",
    "edlist_clean.isin([None]).any()"
   ]
  },
  {
   "cell_type": "code",
   "execution_count": 6,
   "id": "89c027c9",
   "metadata": {},
   "outputs": [],
   "source": [
    "# Reemplazamos None por NaN\n",
    "edlist_clean = edlist_clean.replace({None: np.nan})"
   ]
  },
  {
   "cell_type": "code",
   "execution_count": 7,
   "id": "b8a24846",
   "metadata": {},
   "outputs": [
    {
     "data": {
      "text/plain": [
       "209"
      ]
     },
     "execution_count": 7,
     "metadata": {},
     "output_type": "execute_result"
    }
   ],
   "source": [
    "edlist_clean['Name and abbreviation'].nunique(dropna=True)"
   ]
  },
  {
   "cell_type": "markdown",
   "id": "a344a1f0",
   "metadata": {},
   "source": [
    "Hay 209 disruptores en esta lista"
   ]
  },
  {
   "cell_type": "markdown",
   "id": "38f0dc3f",
   "metadata": {},
   "source": [
    "## 3. Importamos ECHA_clean"
   ]
  },
  {
   "cell_type": "code",
   "execution_count": 8,
   "id": "76ac91b4",
   "metadata": {},
   "outputs": [],
   "source": [
    "# leemos los datos de la lista de ECHA_clean\n",
    "echa_clean= pd.read_parquet(\"../../data/processed/notebooks/echa_clean.parquet\")"
   ]
  },
  {
   "cell_type": "code",
   "execution_count": 9,
   "id": "3fd18eef",
   "metadata": {},
   "outputs": [
    {
     "name": "stdout",
     "output_type": "stream",
     "text": [
      "<class 'pandas.core.frame.DataFrame'>\n",
      "RangeIndex: 150 entries, 0 to 149\n",
      "Data columns (total 9 columns):\n",
      " #   Column           Non-Null Count  Dtype \n",
      "---  ------           --------------  ----- \n",
      " 0   Substance name   150 non-null    object\n",
      " 1   EC Number        122 non-null    object\n",
      " 2   CAS Number       145 non-null    object\n",
      " 3   Authority        149 non-null    object\n",
      " 4   Status           150 non-null    object\n",
      " 5   Outcome          150 non-null    object\n",
      " 6   Latest update    150 non-null    object\n",
      " 7   First published  150 non-null    object\n",
      " 8   Fuente_original  150 non-null    object\n",
      "dtypes: object(9)\n",
      "memory usage: 10.7+ KB\n"
     ]
    }
   ],
   "source": [
    "echa_clean.info()"
   ]
  },
  {
   "cell_type": "code",
   "execution_count": 10,
   "id": "9b26a2af",
   "metadata": {},
   "outputs": [
    {
     "data": {
      "text/plain": [
       "Substance name     False\n",
       "EC Number          False\n",
       "CAS Number         False\n",
       "Authority          False\n",
       "Status             False\n",
       "Outcome            False\n",
       "Latest update      False\n",
       "First published    False\n",
       "Fuente_original    False\n",
       "dtype: bool"
      ]
     },
     "execution_count": 10,
     "metadata": {},
     "output_type": "execute_result"
    }
   ],
   "source": [
    "# Consulatamos si hay al menos un None en string en alguna columna\n",
    "echa_clean.isin([\"None\"]).any()"
   ]
  },
  {
   "cell_type": "code",
   "execution_count": 11,
   "id": "75081cc7",
   "metadata": {},
   "outputs": [
    {
     "data": {
      "text/plain": [
       "149"
      ]
     },
     "execution_count": 11,
     "metadata": {},
     "output_type": "execute_result"
    }
   ],
   "source": [
    "echa_clean['Substance name'].nunique(dropna=True)"
   ]
  },
  {
   "cell_type": "markdown",
   "id": "f06d41fb",
   "metadata": {},
   "source": [
    "Hay 149 disruptores en esta lista"
   ]
  },
  {
   "cell_type": "markdown",
   "id": "a5b5755f",
   "metadata": {},
   "source": [
    "## 4. Primera unión de dataframes"
   ]
  },
  {
   "cell_type": "markdown",
   "id": "02ffb90d",
   "metadata": {},
   "source": [
    "La unión que se llevará a cabo es un full outer join, es decir queremos todo de ambas tablas, porque así ganamos registros "
   ]
  },
  {
   "cell_type": "code",
   "execution_count": 12,
   "id": "fdaa08d4",
   "metadata": {},
   "outputs": [],
   "source": [
    "edlist_echa = edlist_clean.merge( echa_clean, on=['CAS Number', 'EC Number'],  how='outer', suffixes=('', '_ECHA'))"
   ]
  },
  {
   "cell_type": "code",
   "execution_count": 13,
   "id": "80632e12",
   "metadata": {},
   "outputs": [
    {
     "name": "stdout",
     "output_type": "stream",
     "text": [
      "<class 'pandas.core.frame.DataFrame'>\n",
      "RangeIndex: 295 entries, 0 to 294\n",
      "Data columns (total 18 columns):\n",
      " #   Column                 Non-Null Count  Dtype  \n",
      "---  ------                 --------------  -----  \n",
      " 0   ID (for name)          239 non-null    float64\n",
      " 1   Name and abbreviation  239 non-null    object \n",
      " 2   Health effects         239 non-null    float64\n",
      " 3   Environmental effects  239 non-null    float64\n",
      " 4   Status                 239 non-null    object \n",
      " 5   Regulatory Field       225 non-null    object \n",
      " 6   Year                   239 non-null    float64\n",
      " 7   Appears on lists       239 non-null    object \n",
      " 8   Fuente_original        239 non-null    object \n",
      " 9   CAS Number             282 non-null    object \n",
      " 10  EC Number              250 non-null    object \n",
      " 11  Substance name         150 non-null    object \n",
      " 12  Authority              149 non-null    object \n",
      " 13  Status_ECHA            150 non-null    object \n",
      " 14  Outcome                150 non-null    object \n",
      " 15  Latest update          150 non-null    object \n",
      " 16  First published        150 non-null    object \n",
      " 17  Fuente_original_ECHA   150 non-null    object \n",
      "dtypes: float64(4), object(14)\n",
      "memory usage: 41.6+ KB\n"
     ]
    }
   ],
   "source": [
    "edlist_echa.info()"
   ]
  },
  {
   "cell_type": "markdown",
   "id": "e403d1b1",
   "metadata": {},
   "source": [
    "Como hay dos columnas que informan de la fuente original pero de las distintas tablas vamos a combinar \"Fuente_original\" y \"Fuente_original_ECHA\" "
   ]
  },
  {
   "cell_type": "code",
   "execution_count": 14,
   "id": "e761d7f1",
   "metadata": {},
   "outputs": [],
   "source": [
    "# Combinamos para que si \"Fuente_original\" está vacío, se rellene con \"Fuente_original_ECHA\"\n",
    "edlist_echa['Fuente_original'] = edlist_echa['Fuente_original'].combine_first(edlist_echa['Fuente_original_ECHA'])\n",
    "\n",
    "# Eliminar la columna sobrante\n",
    "edlist_echa.drop(columns=['Fuente_original_ECHA'], inplace=True)\n"
   ]
  },
  {
   "cell_type": "code",
   "execution_count": 15,
   "id": "0a477117",
   "metadata": {},
   "outputs": [
    {
     "name": "stdout",
     "output_type": "stream",
     "text": [
      "<class 'pandas.core.series.Series'>\n",
      "RangeIndex: 295 entries, 0 to 294\n",
      "Series name: Fuente_original\n",
      "Non-Null Count  Dtype \n",
      "--------------  ----- \n",
      "295 non-null    object\n",
      "dtypes: object(1)\n",
      "memory usage: 2.4+ KB\n",
      "None\n"
     ]
    },
    {
     "data": {
      "text/plain": [
       "Fuente_original\n",
       "Edlist_1                130\n",
       "Edlist_2                 93\n",
       "ECHA - ED_pendiente      46\n",
       "Edlist_3                 16\n",
       "ECHA - ED_Humans&Env      6\n",
       "ECHA - ED_Env             3\n",
       "ECHA - ED_Humans          1\n",
       "Name: count, dtype: int64"
      ]
     },
     "execution_count": 15,
     "metadata": {},
     "output_type": "execute_result"
    }
   ],
   "source": [
    "print(edlist_echa['Fuente_original'].info())\n",
    "edlist_echa['Fuente_original'].value_counts()"
   ]
  },
  {
   "cell_type": "markdown",
   "id": "402a9173",
   "metadata": {},
   "source": [
    "De los 295 registros hay disrupotores que aun no se han confirmado y están en evaluación:\n",
    "\n",
    "* Edlist_2                 93\n",
    "* ECHA - ED_pendiente      46"
   ]
  },
  {
   "cell_type": "markdown",
   "id": "c1ac876d",
   "metadata": {},
   "source": [
    "## 5. Comprobaciones del Merge"
   ]
  },
  {
   "cell_type": "markdown",
   "id": "cb88d375",
   "metadata": {},
   "source": [
    "Consultamos los datos para ver si la unión se ha hecho correctamente.\n",
    "\n",
    "Para ello comprobaresmos los campos \"Name and abbreviation\" proveniente de la EDlist y el \"Substance name\" proveniente de la ECHA, si ambos están rellenos los nombres tienen que coincidir o ser muy similares en los siguientes filtros:\n",
    "\n",
    "1. En los registros que cumplen la condición de que 'CAS no.' y 'EC no.' ambos sean NO NULOS, \n",
    "2. En los registros que cumplen la condición de que 'CAS no.' sea NO NULO y que 'EC no.' sean  NULOS\n",
    "3. En los registros que cumplen la condición de que 'CAS no.' sea NULO y que 'EC no.' sean NO NULOS\n",
    "4. En los registros que cumplen la condición de que 'CAS no.' y 'EC no.' ambos sean NULOS --> no tiene que haber registro con esta condición porque hemos eliminado esta condición de ambas listas en sus respectivos ETLs"
   ]
  },
  {
   "cell_type": "code",
   "execution_count": 16,
   "id": "27e63198",
   "metadata": {},
   "outputs": [
    {
     "data": {
      "text/plain": [
       "CAS Number    237\n",
       "EC Number     237\n",
       "dtype: int64"
      ]
     },
     "execution_count": 16,
     "metadata": {},
     "output_type": "execute_result"
    }
   ],
   "source": [
    "#Consulta del número de registros que cumple la condición 1\n",
    "Num_consulta_1= edlist_echa[(edlist_echa['CAS Number'].notna()) & (edlist_echa['EC Number'].notna())]\n",
    "Num_consulta_1[['CAS Number', 'EC Number']].count()"
   ]
  },
  {
   "cell_type": "code",
   "execution_count": 17,
   "id": "4a29eb0e",
   "metadata": {},
   "outputs": [
    {
     "data": {
      "text/html": [
       "<div>\n",
       "<style scoped>\n",
       "    .dataframe tbody tr th:only-of-type {\n",
       "        vertical-align: middle;\n",
       "    }\n",
       "\n",
       "    .dataframe tbody tr th {\n",
       "        vertical-align: top;\n",
       "    }\n",
       "\n",
       "    .dataframe thead th {\n",
       "        text-align: right;\n",
       "    }\n",
       "</style>\n",
       "<table border=\"1\" class=\"dataframe\">\n",
       "  <thead>\n",
       "    <tr style=\"text-align: right;\">\n",
       "      <th></th>\n",
       "      <th>ID (for name)</th>\n",
       "      <th>Name and abbreviation</th>\n",
       "      <th>Health effects</th>\n",
       "      <th>Environmental effects</th>\n",
       "      <th>Status</th>\n",
       "      <th>Regulatory Field</th>\n",
       "      <th>Year</th>\n",
       "      <th>Appears on lists</th>\n",
       "      <th>Fuente_original</th>\n",
       "      <th>CAS Number</th>\n",
       "      <th>EC Number</th>\n",
       "      <th>Substance name</th>\n",
       "      <th>Authority</th>\n",
       "      <th>Status_ECHA</th>\n",
       "      <th>Outcome</th>\n",
       "      <th>Latest update</th>\n",
       "      <th>First published</th>\n",
       "    </tr>\n",
       "  </thead>\n",
       "  <tbody>\n",
       "    <tr>\n",
       "      <th>279</th>\n",
       "      <td>NaN</td>\n",
       "      <td>NaN</td>\n",
       "      <td>NaN</td>\n",
       "      <td>NaN</td>\n",
       "      <td>NaN</td>\n",
       "      <td>NaN</td>\n",
       "      <td>NaN</td>\n",
       "      <td>NaN</td>\n",
       "      <td>ECHA - ED_pendiente</td>\n",
       "      <td>98-95-3</td>\n",
       "      <td>202-716-0</td>\n",
       "      <td>Nitrobenzene</td>\n",
       "      <td>Austria</td>\n",
       "      <td>Concluded</td>\n",
       "      <td>postponed</td>\n",
       "      <td>05-nov-2021</td>\n",
       "      <td>12-oct-2018</td>\n",
       "    </tr>\n",
       "    <tr>\n",
       "      <th>280</th>\n",
       "      <td>376.0</td>\n",
       "      <td>Butanoic acid, 4-amino-4-oxosulfo-, N-coco alk...</td>\n",
       "      <td>1.0</td>\n",
       "      <td>1.0</td>\n",
       "      <td>Corap List</td>\n",
       "      <td>REACH</td>\n",
       "      <td>2023.0</td>\n",
       "      <td>List II</td>\n",
       "      <td>Edlist_2</td>\n",
       "      <td>98171-53-0</td>\n",
       "      <td>308-662-5</td>\n",
       "      <td>Butanoic acid, 4-amino-4-oxosulfo-, N-coco alk...</td>\n",
       "      <td>France</td>\n",
       "      <td>Under development under SEV</td>\n",
       "      <td>Under development (SEV)</td>\n",
       "      <td>19-jul-2023</td>\n",
       "      <td>19-jul-2023</td>\n",
       "    </tr>\n",
       "    <tr>\n",
       "      <th>281</th>\n",
       "      <td>177.0</td>\n",
       "      <td>Methyl 4-hydroxybenzoate (Methylparaben)</td>\n",
       "      <td>1.0</td>\n",
       "      <td>1.0</td>\n",
       "      <td>Corap List</td>\n",
       "      <td>REACH</td>\n",
       "      <td>2014.0</td>\n",
       "      <td>List II</td>\n",
       "      <td>Edlist_2</td>\n",
       "      <td>99-76-3</td>\n",
       "      <td>202-785-7</td>\n",
       "      <td>Methyl 4-hydroxybenzoate</td>\n",
       "      <td>France</td>\n",
       "      <td>Under development under SEV</td>\n",
       "      <td>Under development (SEV)</td>\n",
       "      <td>03-feb-2021</td>\n",
       "      <td>12-oct-2018</td>\n",
       "    </tr>\n",
       "  </tbody>\n",
       "</table>\n",
       "</div>"
      ],
      "text/plain": [
       "     ID (for name)                              Name and abbreviation  \\\n",
       "279            NaN                                                NaN   \n",
       "280          376.0  Butanoic acid, 4-amino-4-oxosulfo-, N-coco alk...   \n",
       "281          177.0           Methyl 4-hydroxybenzoate (Methylparaben)   \n",
       "\n",
       "     Health effects  Environmental effects      Status Regulatory Field  \\\n",
       "279             NaN                    NaN         NaN              NaN   \n",
       "280             1.0                    1.0  Corap List            REACH   \n",
       "281             1.0                    1.0  Corap List            REACH   \n",
       "\n",
       "       Year Appears on lists      Fuente_original  CAS Number  EC Number  \\\n",
       "279     NaN              NaN  ECHA - ED_pendiente     98-95-3  202-716-0   \n",
       "280  2023.0          List II             Edlist_2  98171-53-0  308-662-5   \n",
       "281  2014.0          List II             Edlist_2     99-76-3  202-785-7   \n",
       "\n",
       "                                        Substance name Authority  \\\n",
       "279                                       Nitrobenzene   Austria   \n",
       "280  Butanoic acid, 4-amino-4-oxosulfo-, N-coco alk...    France   \n",
       "281                           Methyl 4-hydroxybenzoate    France   \n",
       "\n",
       "                     Status_ECHA                  Outcome Latest update  \\\n",
       "279                    Concluded                postponed   05-nov-2021   \n",
       "280  Under development under SEV  Under development (SEV)   19-jul-2023   \n",
       "281  Under development under SEV  Under development (SEV)   03-feb-2021   \n",
       "\n",
       "    First published  \n",
       "279     12-oct-2018  \n",
       "280     19-jul-2023  \n",
       "281     12-oct-2018  "
      ]
     },
     "execution_count": 17,
     "metadata": {},
     "output_type": "execute_result"
    }
   ],
   "source": [
    "# Consulta del listado de algunos de los registros de la condición 1\n",
    "edlist_echa[(edlist_echa['CAS Number'].notna()) & (edlist_echa['EC Number'].notna())].tail(3)"
   ]
  },
  {
   "cell_type": "code",
   "execution_count": 18,
   "id": "b8074095",
   "metadata": {},
   "outputs": [
    {
     "data": {
      "text/plain": [
       "CAS Number    45\n",
       "EC Number      0\n",
       "dtype: int64"
      ]
     },
     "execution_count": 18,
     "metadata": {},
     "output_type": "execute_result"
    }
   ],
   "source": [
    "#Consulta del número de registros que cumple la condición 2\n",
    "Num_consulta_2= edlist_echa[(edlist_echa['CAS Number'].notna()) & (edlist_echa['EC Number'].isna())]\n",
    "Num_consulta_2[['CAS Number', 'EC Number']].count()"
   ]
  },
  {
   "cell_type": "code",
   "execution_count": 19,
   "id": "a97e6988",
   "metadata": {},
   "outputs": [
    {
     "data": {
      "text/html": [
       "<div>\n",
       "<style scoped>\n",
       "    .dataframe tbody tr th:only-of-type {\n",
       "        vertical-align: middle;\n",
       "    }\n",
       "\n",
       "    .dataframe tbody tr th {\n",
       "        vertical-align: top;\n",
       "    }\n",
       "\n",
       "    .dataframe thead th {\n",
       "        text-align: right;\n",
       "    }\n",
       "</style>\n",
       "<table border=\"1\" class=\"dataframe\">\n",
       "  <thead>\n",
       "    <tr style=\"text-align: right;\">\n",
       "      <th></th>\n",
       "      <th>ID (for name)</th>\n",
       "      <th>Name and abbreviation</th>\n",
       "      <th>Health effects</th>\n",
       "      <th>Environmental effects</th>\n",
       "      <th>Status</th>\n",
       "      <th>Regulatory Field</th>\n",
       "      <th>Year</th>\n",
       "      <th>Appears on lists</th>\n",
       "      <th>Fuente_original</th>\n",
       "      <th>CAS Number</th>\n",
       "      <th>EC Number</th>\n",
       "      <th>Substance name</th>\n",
       "      <th>Authority</th>\n",
       "      <th>Status_ECHA</th>\n",
       "      <th>Outcome</th>\n",
       "      <th>Latest update</th>\n",
       "      <th>First published</th>\n",
       "    </tr>\n",
       "  </thead>\n",
       "  <tbody>\n",
       "    <tr>\n",
       "      <th>266</th>\n",
       "      <td>305.0</td>\n",
       "      <td>4-(4,4-dimethylpentan-2-yl)phenol</td>\n",
       "      <td>0.0</td>\n",
       "      <td>1.0</td>\n",
       "      <td>Environmental candidate list</td>\n",
       "      <td>REACH</td>\n",
       "      <td>2017.0</td>\n",
       "      <td>List I</td>\n",
       "      <td>Edlist_1</td>\n",
       "      <td>911371-07-8</td>\n",
       "      <td>NaN</td>\n",
       "      <td>4-(4,4-dimethylpentan-2-yl)phenol</td>\n",
       "      <td>Austria</td>\n",
       "      <td>Concluded</td>\n",
       "      <td>ED ENV</td>\n",
       "      <td>03-feb-2021</td>\n",
       "      <td>04-oct-2018</td>\n",
       "    </tr>\n",
       "    <tr>\n",
       "      <th>274</th>\n",
       "      <td>360.0</td>\n",
       "      <td>(1R,3E,4S)-1,7,7-trimethyl-3-(4- methylbenzyli...</td>\n",
       "      <td>1.0</td>\n",
       "      <td>0.0</td>\n",
       "      <td>Health candidate list</td>\n",
       "      <td>REACH</td>\n",
       "      <td>2022.0</td>\n",
       "      <td>List I</td>\n",
       "      <td>Edlist_1</td>\n",
       "      <td>95342-41-9</td>\n",
       "      <td>NaN</td>\n",
       "      <td>(1R,3E,4S)-1,7,7-trimethyl-3-(4-methylbenzylid...</td>\n",
       "      <td>Denmark</td>\n",
       "      <td>Concluded</td>\n",
       "      <td>ED HH</td>\n",
       "      <td>04-ago-2022</td>\n",
       "      <td>20-oct-2020</td>\n",
       "    </tr>\n",
       "  </tbody>\n",
       "</table>\n",
       "</div>"
      ],
      "text/plain": [
       "     ID (for name)                              Name and abbreviation  \\\n",
       "266          305.0                  4-(4,4-dimethylpentan-2-yl)phenol   \n",
       "274          360.0  (1R,3E,4S)-1,7,7-trimethyl-3-(4- methylbenzyli...   \n",
       "\n",
       "     Health effects  Environmental effects                        Status  \\\n",
       "266             0.0                    1.0  Environmental candidate list   \n",
       "274             1.0                    0.0         Health candidate list   \n",
       "\n",
       "    Regulatory Field    Year Appears on lists Fuente_original   CAS Number  \\\n",
       "266            REACH  2017.0           List I        Edlist_1  911371-07-8   \n",
       "274            REACH  2022.0           List I        Edlist_1   95342-41-9   \n",
       "\n",
       "    EC Number                                     Substance name Authority  \\\n",
       "266       NaN                  4-(4,4-dimethylpentan-2-yl)phenol   Austria   \n",
       "274       NaN  (1R,3E,4S)-1,7,7-trimethyl-3-(4-methylbenzylid...   Denmark   \n",
       "\n",
       "    Status_ECHA Outcome Latest update First published  \n",
       "266   Concluded  ED ENV   03-feb-2021     04-oct-2018  \n",
       "274   Concluded   ED HH   04-ago-2022     20-oct-2020  "
      ]
     },
     "execution_count": 19,
     "metadata": {},
     "output_type": "execute_result"
    }
   ],
   "source": [
    "# Consulta de algunos de los registros de la condición 2\n",
    "edlist_echa[(edlist_echa['CAS Number'].notna()) & (edlist_echa['EC Number'].isna())].tail(2)"
   ]
  },
  {
   "cell_type": "code",
   "execution_count": 20,
   "id": "23118d48",
   "metadata": {},
   "outputs": [
    {
     "data": {
      "text/plain": [
       "CAS Number     0\n",
       "EC Number     13\n",
       "dtype: int64"
      ]
     },
     "execution_count": 20,
     "metadata": {},
     "output_type": "execute_result"
    }
   ],
   "source": [
    "#Consulta del número de registros que cumple la condición 3\n",
    "Num_consulta_3= edlist_echa[(edlist_echa['CAS Number'].isna()) & (edlist_echa['EC Number'].notna())]\n",
    "Num_consulta_3[['CAS Number', 'EC Number']].count()"
   ]
  },
  {
   "cell_type": "code",
   "execution_count": 21,
   "id": "a574c7d8",
   "metadata": {},
   "outputs": [
    {
     "data": {
      "text/html": [
       "<div>\n",
       "<style scoped>\n",
       "    .dataframe tbody tr th:only-of-type {\n",
       "        vertical-align: middle;\n",
       "    }\n",
       "\n",
       "    .dataframe tbody tr th {\n",
       "        vertical-align: top;\n",
       "    }\n",
       "\n",
       "    .dataframe thead th {\n",
       "        text-align: right;\n",
       "    }\n",
       "</style>\n",
       "<table border=\"1\" class=\"dataframe\">\n",
       "  <thead>\n",
       "    <tr style=\"text-align: right;\">\n",
       "      <th></th>\n",
       "      <th>ID (for name)</th>\n",
       "      <th>Name and abbreviation</th>\n",
       "      <th>Health effects</th>\n",
       "      <th>Environmental effects</th>\n",
       "      <th>Status</th>\n",
       "      <th>Regulatory Field</th>\n",
       "      <th>Year</th>\n",
       "      <th>Appears on lists</th>\n",
       "      <th>Fuente_original</th>\n",
       "      <th>CAS Number</th>\n",
       "      <th>EC Number</th>\n",
       "      <th>Substance name</th>\n",
       "      <th>Authority</th>\n",
       "      <th>Status_ECHA</th>\n",
       "      <th>Outcome</th>\n",
       "      <th>Latest update</th>\n",
       "      <th>First published</th>\n",
       "    </tr>\n",
       "  </thead>\n",
       "  <tbody>\n",
       "    <tr>\n",
       "      <th>292</th>\n",
       "      <td>334.0</td>\n",
       "      <td>Nonylphenol, ethoxylated (EO = 4)</td>\n",
       "      <td>0.0</td>\n",
       "      <td>1.0</td>\n",
       "      <td>Environmental authorisation list</td>\n",
       "      <td>REACH</td>\n",
       "      <td>2017.0</td>\n",
       "      <td>List I</td>\n",
       "      <td>Edlist_1</td>\n",
       "      <td>NaN</td>\n",
       "      <td>939-975-0</td>\n",
       "      <td>NaN</td>\n",
       "      <td>NaN</td>\n",
       "      <td>NaN</td>\n",
       "      <td>NaN</td>\n",
       "      <td>NaN</td>\n",
       "      <td>NaN</td>\n",
       "    </tr>\n",
       "    <tr>\n",
       "      <th>293</th>\n",
       "      <td>335.0</td>\n",
       "      <td>Nonylphenol, ethoxylated (EO = 10)</td>\n",
       "      <td>0.0</td>\n",
       "      <td>1.0</td>\n",
       "      <td>Environmental authorisation list</td>\n",
       "      <td>REACH</td>\n",
       "      <td>2017.0</td>\n",
       "      <td>List I</td>\n",
       "      <td>Edlist_1</td>\n",
       "      <td>NaN</td>\n",
       "      <td>939-993-9</td>\n",
       "      <td>NaN</td>\n",
       "      <td>NaN</td>\n",
       "      <td>NaN</td>\n",
       "      <td>NaN</td>\n",
       "      <td>NaN</td>\n",
       "      <td>NaN</td>\n",
       "    </tr>\n",
       "    <tr>\n",
       "      <th>294</th>\n",
       "      <td>246.0</td>\n",
       "      <td>Esterification products of 1,3-dioxo-2-benzofu...</td>\n",
       "      <td>1.0</td>\n",
       "      <td>1.0</td>\n",
       "      <td>Corap List</td>\n",
       "      <td>REACH</td>\n",
       "      <td>2027.0</td>\n",
       "      <td>List II</td>\n",
       "      <td>Edlist_2</td>\n",
       "      <td>NaN</td>\n",
       "      <td>941-303-6</td>\n",
       "      <td>NaN</td>\n",
       "      <td>NaN</td>\n",
       "      <td>NaN</td>\n",
       "      <td>NaN</td>\n",
       "      <td>NaN</td>\n",
       "      <td>NaN</td>\n",
       "    </tr>\n",
       "  </tbody>\n",
       "</table>\n",
       "</div>"
      ],
      "text/plain": [
       "     ID (for name)                              Name and abbreviation  \\\n",
       "292          334.0                  Nonylphenol, ethoxylated (EO = 4)   \n",
       "293          335.0                 Nonylphenol, ethoxylated (EO = 10)   \n",
       "294          246.0  Esterification products of 1,3-dioxo-2-benzofu...   \n",
       "\n",
       "     Health effects  Environmental effects                            Status  \\\n",
       "292             0.0                    1.0  Environmental authorisation list   \n",
       "293             0.0                    1.0  Environmental authorisation list   \n",
       "294             1.0                    1.0                        Corap List   \n",
       "\n",
       "    Regulatory Field    Year Appears on lists Fuente_original CAS Number  \\\n",
       "292            REACH  2017.0           List I        Edlist_1        NaN   \n",
       "293            REACH  2017.0           List I        Edlist_1        NaN   \n",
       "294            REACH  2027.0          List II        Edlist_2        NaN   \n",
       "\n",
       "     EC Number Substance name Authority Status_ECHA Outcome Latest update  \\\n",
       "292  939-975-0            NaN       NaN         NaN     NaN           NaN   \n",
       "293  939-993-9            NaN       NaN         NaN     NaN           NaN   \n",
       "294  941-303-6            NaN       NaN         NaN     NaN           NaN   \n",
       "\n",
       "    First published  \n",
       "292             NaN  \n",
       "293             NaN  \n",
       "294             NaN  "
      ]
     },
     "execution_count": 21,
     "metadata": {},
     "output_type": "execute_result"
    }
   ],
   "source": [
    "# Consulta de algunos de los registros de la condición 3\n",
    "edlist_echa[(edlist_echa['CAS Number'].isna()) & (edlist_echa['EC Number'].notna())].tail(3)"
   ]
  },
  {
   "cell_type": "code",
   "execution_count": 22,
   "id": "07a9773f",
   "metadata": {},
   "outputs": [
    {
     "data": {
      "text/html": [
       "<div>\n",
       "<style scoped>\n",
       "    .dataframe tbody tr th:only-of-type {\n",
       "        vertical-align: middle;\n",
       "    }\n",
       "\n",
       "    .dataframe tbody tr th {\n",
       "        vertical-align: top;\n",
       "    }\n",
       "\n",
       "    .dataframe thead th {\n",
       "        text-align: right;\n",
       "    }\n",
       "</style>\n",
       "<table border=\"1\" class=\"dataframe\">\n",
       "  <thead>\n",
       "    <tr style=\"text-align: right;\">\n",
       "      <th></th>\n",
       "      <th>ID (for name)</th>\n",
       "      <th>Name and abbreviation</th>\n",
       "      <th>Health effects</th>\n",
       "      <th>Environmental effects</th>\n",
       "      <th>Status</th>\n",
       "      <th>Regulatory Field</th>\n",
       "      <th>Year</th>\n",
       "      <th>Appears on lists</th>\n",
       "      <th>Fuente_original</th>\n",
       "      <th>CAS Number</th>\n",
       "      <th>EC Number</th>\n",
       "      <th>Substance name</th>\n",
       "      <th>Authority</th>\n",
       "      <th>Status_ECHA</th>\n",
       "      <th>Outcome</th>\n",
       "      <th>Latest update</th>\n",
       "      <th>First published</th>\n",
       "    </tr>\n",
       "  </thead>\n",
       "  <tbody>\n",
       "  </tbody>\n",
       "</table>\n",
       "</div>"
      ],
      "text/plain": [
       "Empty DataFrame\n",
       "Columns: [ID (for name), Name and abbreviation, Health effects, Environmental effects, Status, Regulatory Field, Year, Appears on lists, Fuente_original, CAS Number, EC Number, Substance name, Authority, Status_ECHA, Outcome, Latest update, First published]\n",
       "Index: []"
      ]
     },
     "execution_count": 22,
     "metadata": {},
     "output_type": "execute_result"
    }
   ],
   "source": [
    "# Consulta de algunos de los registros de la condición 4\n",
    "edlist_echa[(edlist_echa['CAS Number'].isna()) & (edlist_echa['EC Number'].isna())]"
   ]
  },
  {
   "cell_type": "markdown",
   "id": "321cd4f2",
   "metadata": {},
   "source": [
    "Este dataframe tiene 303 registros de disruptores endrocinos. Y las consultas que hemos hecho nos dan el total de esos 303 (245+45+13)"
   ]
  },
  {
   "cell_type": "code",
   "execution_count": 23,
   "id": "e7c3f422",
   "metadata": {},
   "outputs": [
    {
     "data": {
      "text/plain": [
       "CAS Number               34\n",
       "EC Number                29\n",
       "Name and abbreviation    34\n",
       "Substance name           34\n",
       "dtype: int64"
      ]
     },
     "execution_count": 23,
     "metadata": {},
     "output_type": "execute_result"
    }
   ],
   "source": [
    "# Consulta tipo de nombres distintos\n",
    "diferentes_names = edlist_echa[\n",
    "    (edlist_echa['Name and abbreviation'].notna()) &\n",
    "    (edlist_echa['Substance name'].notna()) &\n",
    "    (edlist_echa['Name and abbreviation'] != edlist_echa['Substance name'])\n",
    "]\n",
    "diferentes_names[['CAS Number', 'EC Number', 'Name and abbreviation', 'Substance name']].count()"
   ]
  },
  {
   "cell_type": "code",
   "execution_count": 24,
   "id": "234d75b2",
   "metadata": {},
   "outputs": [
    {
     "data": {
      "text/html": [
       "<div>\n",
       "<style scoped>\n",
       "    .dataframe tbody tr th:only-of-type {\n",
       "        vertical-align: middle;\n",
       "    }\n",
       "\n",
       "    .dataframe tbody tr th {\n",
       "        vertical-align: top;\n",
       "    }\n",
       "\n",
       "    .dataframe thead th {\n",
       "        text-align: right;\n",
       "    }\n",
       "</style>\n",
       "<table border=\"1\" class=\"dataframe\">\n",
       "  <thead>\n",
       "    <tr style=\"text-align: right;\">\n",
       "      <th></th>\n",
       "      <th>Name and abbreviation</th>\n",
       "      <th>Substance name</th>\n",
       "    </tr>\n",
       "  </thead>\n",
       "  <tbody>\n",
       "    <tr>\n",
       "      <th>24</th>\n",
       "      <td>2,2-dibromo-2-cyanoacetamide (DBNPA)</td>\n",
       "      <td>2,2-dibromo-2-cyanoacetamide</td>\n",
       "    </tr>\n",
       "    <tr>\n",
       "      <th>32</th>\n",
       "      <td>Resorcinol</td>\n",
       "      <td>resorcinol; 1,3-benzenediol</td>\n",
       "    </tr>\n",
       "    <tr>\n",
       "      <th>42</th>\n",
       "      <td>Triphenyl phosphate (TPP)</td>\n",
       "      <td>Triphenyl phosphate</td>\n",
       "    </tr>\n",
       "    <tr>\n",
       "      <th>46</th>\n",
       "      <td>2,2′,6,6′-Tetra-tert-butyl-4,4′- methylenediph...</td>\n",
       "      <td>2,2',6,6'-tetra-tert-butyl-4,4'-methylenediphenol</td>\n",
       "    </tr>\n",
       "    <tr>\n",
       "      <th>51</th>\n",
       "      <td>1,3,4,6,7,8- hexahydro-4,6,6,7,8,8- hexamethyl...</td>\n",
       "      <td>1,3,4,6,7,8-hexahydro-4,6,6,7,8,8-hexamethylin...</td>\n",
       "    </tr>\n",
       "    <tr>\n",
       "      <th>53</th>\n",
       "      <td>Reaction products of phosphoryl trichloride an...</td>\n",
       "      <td>Reaction products of phosphoryl trichloride an...</td>\n",
       "    </tr>\n",
       "    <tr>\n",
       "      <th>57</th>\n",
       "      <td>2,6-di-tert-butyl-p-cresol; butylated hydroxyt...</td>\n",
       "      <td>2,6-di-tert-butyl-p-cresol</td>\n",
       "    </tr>\n",
       "    <tr>\n",
       "      <th>63</th>\n",
       "      <td>Oxybenzone (BP-3)</td>\n",
       "      <td>Oxybenzone</td>\n",
       "    </tr>\n",
       "    <tr>\n",
       "      <th>79</th>\n",
       "      <td>1,7,7-trimethyl-3-[(4-methylphenyl)methylene]b...</td>\n",
       "      <td>1,7,7-trimethyl-3-(phenylmethylene)bicyclo[2.2...</td>\n",
       "    </tr>\n",
       "    <tr>\n",
       "      <th>141</th>\n",
       "      <td>Diuron</td>\n",
       "      <td>diuron (ISO); 3-(3,4-dichlorophenyl)-1,1-dimet...</td>\n",
       "    </tr>\n",
       "  </tbody>\n",
       "</table>\n",
       "</div>"
      ],
      "text/plain": [
       "                                 Name and abbreviation  \\\n",
       "24                2,2-dibromo-2-cyanoacetamide (DBNPA)   \n",
       "32                                          Resorcinol   \n",
       "42                           Triphenyl phosphate (TPP)   \n",
       "46   2,2′,6,6′-Tetra-tert-butyl-4,4′- methylenediph...   \n",
       "51   1,3,4,6,7,8- hexahydro-4,6,6,7,8,8- hexamethyl...   \n",
       "53   Reaction products of phosphoryl trichloride an...   \n",
       "57   2,6-di-tert-butyl-p-cresol; butylated hydroxyt...   \n",
       "63                                   Oxybenzone (BP-3)   \n",
       "79   1,7,7-trimethyl-3-[(4-methylphenyl)methylene]b...   \n",
       "141                                             Diuron   \n",
       "\n",
       "                                        Substance name  \n",
       "24                        2,2-dibromo-2-cyanoacetamide  \n",
       "32                         resorcinol; 1,3-benzenediol  \n",
       "42                                 Triphenyl phosphate  \n",
       "46   2,2',6,6'-tetra-tert-butyl-4,4'-methylenediphenol  \n",
       "51   1,3,4,6,7,8-hexahydro-4,6,6,7,8,8-hexamethylin...  \n",
       "53   Reaction products of phosphoryl trichloride an...  \n",
       "57                          2,6-di-tert-butyl-p-cresol  \n",
       "63                                          Oxybenzone  \n",
       "79   1,7,7-trimethyl-3-(phenylmethylene)bicyclo[2.2...  \n",
       "141  diuron (ISO); 3-(3,4-dichlorophenyl)-1,1-dimet...  "
      ]
     },
     "execution_count": 24,
     "metadata": {},
     "output_type": "execute_result"
    }
   ],
   "source": [
    "diferentes_names[['Name and abbreviation', 'Substance name' ]].head(10)"
   ]
  },
  {
   "cell_type": "code",
   "execution_count": 25,
   "id": "8c2d07de",
   "metadata": {},
   "outputs": [
    {
     "data": {
      "text/html": [
       "<div>\n",
       "<style scoped>\n",
       "    .dataframe tbody tr th:only-of-type {\n",
       "        vertical-align: middle;\n",
       "    }\n",
       "\n",
       "    .dataframe tbody tr th {\n",
       "        vertical-align: top;\n",
       "    }\n",
       "\n",
       "    .dataframe thead th {\n",
       "        text-align: right;\n",
       "    }\n",
       "</style>\n",
       "<table border=\"1\" class=\"dataframe\">\n",
       "  <thead>\n",
       "    <tr style=\"text-align: right;\">\n",
       "      <th></th>\n",
       "      <th>Name and abbreviation</th>\n",
       "      <th>Substance name</th>\n",
       "      <th>Name_Edlist_Echa</th>\n",
       "    </tr>\n",
       "  </thead>\n",
       "  <tbody>\n",
       "    <tr>\n",
       "      <th>20</th>\n",
       "      <td>Cyclomethicone</td>\n",
       "      <td>NaN</td>\n",
       "      <td>Cyclomethicone</td>\n",
       "    </tr>\n",
       "    <tr>\n",
       "      <th>21</th>\n",
       "      <td>Cyclomethicone</td>\n",
       "      <td>NaN</td>\n",
       "      <td>Cyclomethicone</td>\n",
       "    </tr>\n",
       "    <tr>\n",
       "      <th>22</th>\n",
       "      <td>4-(5-methylhexyl)phenol</td>\n",
       "      <td>4-(5-methylhexyl)phenol</td>\n",
       "      <td>4-(5-methylhexyl)phenol</td>\n",
       "    </tr>\n",
       "    <tr>\n",
       "      <th>23</th>\n",
       "      <td>Triclocarban</td>\n",
       "      <td>NaN</td>\n",
       "      <td>Triclocarban</td>\n",
       "    </tr>\n",
       "    <tr>\n",
       "      <th>24</th>\n",
       "      <td>2,2-dibromo-2-cyanoacetamide (DBNPA)</td>\n",
       "      <td>2,2-dibromo-2-cyanoacetamide</td>\n",
       "      <td>2,2-dibromo-2-cyanoacetamide (DBNPA)</td>\n",
       "    </tr>\n",
       "    <tr>\n",
       "      <th>25</th>\n",
       "      <td>4-(3-methylhexyl)phenol</td>\n",
       "      <td>4-(3-methylhexyl)phenol</td>\n",
       "      <td>4-(3-methylhexyl)phenol</td>\n",
       "    </tr>\n",
       "    <tr>\n",
       "      <th>26</th>\n",
       "      <td>2-(4-nonylphenoxy)ethanol</td>\n",
       "      <td>NaN</td>\n",
       "      <td>2-(4-nonylphenoxy)ethanol</td>\n",
       "    </tr>\n",
       "    <tr>\n",
       "      <th>27</th>\n",
       "      <td>p-nonylphenol</td>\n",
       "      <td>NaN</td>\n",
       "      <td>p-nonylphenol</td>\n",
       "    </tr>\n",
       "    <tr>\n",
       "      <th>28</th>\n",
       "      <td>3-aminopropyldiethylamine</td>\n",
       "      <td>3-aminopropyldiethylamine</td>\n",
       "      <td>3-aminopropyldiethylamine</td>\n",
       "    </tr>\n",
       "    <tr>\n",
       "      <th>29</th>\n",
       "      <td>NaN</td>\n",
       "      <td>Chloramide</td>\n",
       "      <td>Chloramide</td>\n",
       "    </tr>\n",
       "  </tbody>\n",
       "</table>\n",
       "</div>"
      ],
      "text/plain": [
       "                   Name and abbreviation                Substance name  \\\n",
       "20                        Cyclomethicone                           NaN   \n",
       "21                        Cyclomethicone                           NaN   \n",
       "22               4-(5-methylhexyl)phenol       4-(5-methylhexyl)phenol   \n",
       "23                          Triclocarban                           NaN   \n",
       "24  2,2-dibromo-2-cyanoacetamide (DBNPA)  2,2-dibromo-2-cyanoacetamide   \n",
       "25               4-(3-methylhexyl)phenol       4-(3-methylhexyl)phenol   \n",
       "26             2-(4-nonylphenoxy)ethanol                           NaN   \n",
       "27                         p-nonylphenol                           NaN   \n",
       "28             3-aminopropyldiethylamine     3-aminopropyldiethylamine   \n",
       "29                                   NaN                    Chloramide   \n",
       "\n",
       "                        Name_Edlist_Echa  \n",
       "20                        Cyclomethicone  \n",
       "21                        Cyclomethicone  \n",
       "22               4-(5-methylhexyl)phenol  \n",
       "23                          Triclocarban  \n",
       "24  2,2-dibromo-2-cyanoacetamide (DBNPA)  \n",
       "25               4-(3-methylhexyl)phenol  \n",
       "26             2-(4-nonylphenoxy)ethanol  \n",
       "27                         p-nonylphenol  \n",
       "28             3-aminopropyldiethylamine  \n",
       "29                            Chloramide  "
      ]
     },
     "execution_count": 25,
     "metadata": {},
     "output_type": "execute_result"
    }
   ],
   "source": [
    "# Seleccionamos el nombre más informativo\n",
    "nombre_mas_informativo_generico(edlist_echa, 'Name and abbreviation', 'Substance name', 'Name_Edlist_Echa')\n",
    "\n",
    "edlist_echa [['Name and abbreviation', 'Substance name', 'Name_Edlist_Echa']].iloc[20:30]"
   ]
  },
  {
   "cell_type": "code",
   "execution_count": 26,
   "id": "90e831e7",
   "metadata": {},
   "outputs": [],
   "source": [
    "# Elegimos las variables que queremos conservar en el dataframe final\n",
    "edlist_echa =  edlist_echa[['Name_Edlist_Echa','Fuente_original','Appears on lists', 'Health effects','CAS Number', 'EC Number'  ]]"
   ]
  },
  {
   "cell_type": "code",
   "execution_count": 27,
   "id": "69a2658d",
   "metadata": {},
   "outputs": [
    {
     "name": "stdout",
     "output_type": "stream",
     "text": [
      "<class 'pandas.core.frame.DataFrame'>\n",
      "RangeIndex: 295 entries, 0 to 294\n",
      "Data columns (total 6 columns):\n",
      " #   Column            Non-Null Count  Dtype  \n",
      "---  ------            --------------  -----  \n",
      " 0   Name_Edlist_Echa  295 non-null    object \n",
      " 1   Fuente_original   295 non-null    object \n",
      " 2   Appears on lists  239 non-null    object \n",
      " 3   Health effects    239 non-null    float64\n",
      " 4   CAS Number        282 non-null    object \n",
      " 5   EC Number         250 non-null    object \n",
      "dtypes: float64(1), object(5)\n",
      "memory usage: 14.0+ KB\n"
     ]
    }
   ],
   "source": [
    "edlist_echa.info()"
   ]
  },
  {
   "cell_type": "code",
   "execution_count": 28,
   "id": "7b2ad69b",
   "metadata": {},
   "outputs": [
    {
     "data": {
      "text/plain": [
       "260"
      ]
     },
     "execution_count": 28,
     "metadata": {},
     "output_type": "execute_result"
    }
   ],
   "source": [
    "# Consulatamos valores únicos\n",
    "edlist_echa['Name_Edlist_Echa'].nunique(dropna=True)"
   ]
  },
  {
   "cell_type": "code",
   "execution_count": 29,
   "id": "c563348a",
   "metadata": {},
   "outputs": [
    {
     "data": {
      "text/plain": [
       "247"
      ]
     },
     "execution_count": 29,
     "metadata": {},
     "output_type": "execute_result"
    }
   ],
   "source": [
    "# Consulatamos valores únicos\n",
    "edlist_echa['CAS Number'].nunique(dropna=True)"
   ]
  },
  {
   "cell_type": "code",
   "execution_count": 30,
   "id": "365782e2",
   "metadata": {},
   "outputs": [
    {
     "data": {
      "text/plain": [
       "227"
      ]
     },
     "execution_count": 30,
     "metadata": {},
     "output_type": "execute_result"
    }
   ],
   "source": [
    "# Consulatamos valores únicos\n",
    "edlist_echa['EC Number'].nunique(dropna=True)"
   ]
  },
  {
   "cell_type": "markdown",
   "id": "62351950",
   "metadata": {},
   "source": [
    "Con esto sabemos que el listado máximo que podemos tener de disruptores es de 295.\n",
    "\n",
    "Según los identificadores hay 247 y 227 pero estos pueden estar conbinados."
   ]
  },
  {
   "cell_type": "markdown",
   "id": "77c22e6f",
   "metadata": {},
   "source": [
    "## 6. Segundo Merge"
   ]
  },
  {
   "cell_type": "markdown",
   "id": "0ea4fc74",
   "metadata": {},
   "source": [
    "La unión se realizará con un left join por 'CAS Number'"
   ]
  },
  {
   "cell_type": "code",
   "execution_count": 31,
   "id": "73badc6d",
   "metadata": {},
   "outputs": [
    {
     "name": "stdout",
     "output_type": "stream",
     "text": [
      "<class 'pandas.core.frame.DataFrame'>\n",
      "RangeIndex: 100 entries, 0 to 99\n",
      "Data columns (total 2 columns):\n",
      " #   Column          Non-Null Count  Dtype \n",
      "---  ------          --------------  ----- \n",
      " 0   Name_Pesticida  100 non-null    object\n",
      " 1   CAS Number      100 non-null    object\n",
      "dtypes: object(2)\n",
      "memory usage: 1.7+ KB\n"
     ]
    }
   ],
   "source": [
    "# leemos los datos de la lista de sutanncias activas\n",
    "pesticidas = pd.read_parquet(\"../../data/processed/notebooks/pesticidas.parquet\")\n",
    "pesticidas.info()\n"
   ]
  },
  {
   "cell_type": "code",
   "execution_count": 32,
   "id": "324b90e1",
   "metadata": {},
   "outputs": [
    {
     "name": "stdout",
     "output_type": "stream",
     "text": [
      "<class 'pandas.core.frame.DataFrame'>\n",
      "RangeIndex: 295 entries, 0 to 294\n",
      "Data columns (total 7 columns):\n",
      " #   Column            Non-Null Count  Dtype  \n",
      "---  ------            --------------  -----  \n",
      " 0   Name_Edlist_Echa  295 non-null    object \n",
      " 1   Fuente_original   295 non-null    object \n",
      " 2   Appears on lists  239 non-null    object \n",
      " 3   Health effects    239 non-null    float64\n",
      " 4   CAS Number        282 non-null    object \n",
      " 5   EC Number         250 non-null    object \n",
      " 6   Name_Pesticida    3 non-null      object \n",
      "dtypes: float64(1), object(6)\n",
      "memory usage: 16.3+ KB\n"
     ]
    }
   ],
   "source": [
    "# Realizamos unión con la lista de pesticidas\n",
    "\n",
    "edlist_echa_pesticidas = edlist_echa.merge(pesticidas, on=['CAS Number'], how='left' )\n",
    "edlist_echa_pesticidas.info()"
   ]
  },
  {
   "cell_type": "code",
   "execution_count": 33,
   "id": "50666eb2",
   "metadata": {},
   "outputs": [
    {
     "data": {
      "text/plain": [
       "Name_Edlist_Echa    False\n",
       "Fuente_original     False\n",
       "Appears on lists    False\n",
       "Health effects      False\n",
       "CAS Number          False\n",
       "EC Number           False\n",
       "Name_Pesticida      False\n",
       "dtype: bool"
      ]
     },
     "execution_count": 33,
     "metadata": {},
     "output_type": "execute_result"
    }
   ],
   "source": [
    "# Devuelve True si hay al menos un None en string en esa columna\n",
    "edlist_echa_pesticidas.isin([\"None\"]).any()"
   ]
  },
  {
   "cell_type": "code",
   "execution_count": 34,
   "id": "92bf0523",
   "metadata": {},
   "outputs": [
    {
     "data": {
      "text/html": [
       "<div>\n",
       "<style scoped>\n",
       "    .dataframe tbody tr th:only-of-type {\n",
       "        vertical-align: middle;\n",
       "    }\n",
       "\n",
       "    .dataframe tbody tr th {\n",
       "        vertical-align: top;\n",
       "    }\n",
       "\n",
       "    .dataframe thead th {\n",
       "        text-align: right;\n",
       "    }\n",
       "</style>\n",
       "<table border=\"1\" class=\"dataframe\">\n",
       "  <thead>\n",
       "    <tr style=\"text-align: right;\">\n",
       "      <th></th>\n",
       "      <th>Name_Edlist_Echa</th>\n",
       "      <th>Fuente_original</th>\n",
       "      <th>Appears on lists</th>\n",
       "      <th>Health effects</th>\n",
       "      <th>CAS Number</th>\n",
       "      <th>EC Number</th>\n",
       "      <th>Name_Pesticida</th>\n",
       "    </tr>\n",
       "  </thead>\n",
       "  <tbody>\n",
       "    <tr>\n",
       "      <th>50</th>\n",
       "      <td>Cyprodinil</td>\n",
       "      <td>Edlist_2</td>\n",
       "      <td>List II</td>\n",
       "      <td>1.0</td>\n",
       "      <td>121552-61-2</td>\n",
       "      <td>601-785-8</td>\n",
       "      <td>Cyprodinil</td>\n",
       "    </tr>\n",
       "    <tr>\n",
       "      <th>203</th>\n",
       "      <td>Clofentezine</td>\n",
       "      <td>Edlist_1</td>\n",
       "      <td>List I</td>\n",
       "      <td>1.0</td>\n",
       "      <td>74115-24-5</td>\n",
       "      <td>277-728-2</td>\n",
       "      <td>Clofentezine</td>\n",
       "    </tr>\n",
       "    <tr>\n",
       "      <th>230</th>\n",
       "      <td>p-(1,1-dimethylpropyl)phenol</td>\n",
       "      <td>Edlist_1</td>\n",
       "      <td>List I</td>\n",
       "      <td>0.0</td>\n",
       "      <td>80-46-6</td>\n",
       "      <td>201-280-9</td>\n",
       "      <td>4-t-Pentylphenol</td>\n",
       "    </tr>\n",
       "  </tbody>\n",
       "</table>\n",
       "</div>"
      ],
      "text/plain": [
       "                 Name_Edlist_Echa Fuente_original Appears on lists  \\\n",
       "50                     Cyprodinil        Edlist_2          List II   \n",
       "203                  Clofentezine        Edlist_1           List I   \n",
       "230  p-(1,1-dimethylpropyl)phenol        Edlist_1           List I   \n",
       "\n",
       "     Health effects   CAS Number  EC Number    Name_Pesticida  \n",
       "50              1.0  121552-61-2  601-785-8        Cyprodinil  \n",
       "203             1.0   74115-24-5  277-728-2      Clofentezine  \n",
       "230             0.0      80-46-6  201-280-9  4-t-Pentylphenol  "
      ]
     },
     "execution_count": 34,
     "metadata": {},
     "output_type": "execute_result"
    }
   ],
   "source": [
    "edlist_echa_pesticidas [(edlist_echa_pesticidas['Name_Pesticida'].notna())]"
   ]
  },
  {
   "cell_type": "code",
   "execution_count": 35,
   "id": "dc69e511",
   "metadata": {},
   "outputs": [
    {
     "name": "stdout",
     "output_type": "stream",
     "text": [
      "<class 'pandas.core.frame.DataFrame'>\n",
      "Index: 292 entries, 0 to 294\n",
      "Data columns (total 7 columns):\n",
      " #   Column            Non-Null Count  Dtype  \n",
      "---  ------            --------------  -----  \n",
      " 0   Name_Edlist_Echa  292 non-null    object \n",
      " 1   Fuente_original   292 non-null    object \n",
      " 2   Appears on lists  236 non-null    object \n",
      " 3   Health effects    236 non-null    float64\n",
      " 4   CAS Number        279 non-null    object \n",
      " 5   EC Number         247 non-null    object \n",
      " 6   Name_Pesticida    0 non-null      object \n",
      "dtypes: float64(1), object(6)\n",
      "memory usage: 18.2+ KB\n"
     ]
    }
   ],
   "source": [
    "disruptores_clean = edlist_echa_pesticidas[edlist_echa_pesticidas['Name_Pesticida'].isna()]\n",
    "disruptores_clean.info()"
   ]
  },
  {
   "cell_type": "markdown",
   "id": "33b14bd7",
   "metadata": {},
   "source": [
    "### 6.1. Exportación del Segundo Merge para otras fuentes de búsquedas del nombre INCI."
   ]
  },
  {
   "cell_type": "code",
   "execution_count": 36,
   "id": "7051384e",
   "metadata": {},
   "outputs": [],
   "source": [
    "# Elegimos las variables que queremos conservar en el dataframe final\n",
    "disruptores_clean = disruptores_clean[['Name_Edlist_Echa', 'Fuente_original', 'Appears on lists', 'Health effects', 'CAS Number', 'EC Number']]"
   ]
  },
  {
   "cell_type": "code",
   "execution_count": 37,
   "id": "911308ec",
   "metadata": {},
   "outputs": [],
   "source": [
    "# Exportamos primera unión para otro Merge posterior\n",
    "disruptores_clean.to_parquet(\"../../data/processed/notebooks/disruptores_clean.parquet\", index=False)"
   ]
  },
  {
   "cell_type": "markdown",
   "id": "b8135e37",
   "metadata": {},
   "source": [
    "##  7. Importamos COSING_clean"
   ]
  },
  {
   "cell_type": "code",
   "execution_count": 38,
   "id": "a9e0bf70",
   "metadata": {},
   "outputs": [],
   "source": [
    "# leemos los datos de la lista de CosIng_clean\n",
    "cosing_clean= pd.read_parquet(\"../../data/processed/notebooks/cosing_clean.parquet\")"
   ]
  },
  {
   "cell_type": "code",
   "execution_count": 39,
   "id": "9e9606a0",
   "metadata": {},
   "outputs": [
    {
     "name": "stdout",
     "output_type": "stream",
     "text": [
      "<class 'pandas.core.frame.DataFrame'>\n",
      "RangeIndex: 42540 entries, 0 to 42539\n",
      "Data columns (total 8 columns):\n",
      " #   Column                                     Non-Null Count  Dtype \n",
      "---  ------                                     --------------  ----- \n",
      " 0   Chemical name                              42540 non-null  object\n",
      " 1   Chemical/IUPAC Name                        39874 non-null  object\n",
      " 2   Identified INGREDIENTS or substances e.g.  2768 non-null   object\n",
      " 3   CAS Number                                 42203 non-null  object\n",
      " 4   EC Number                                  42005 non-null  object\n",
      " 5   Name of Common Ingredients Glossary        2121 non-null   object\n",
      " 6   Product Type, body parts                   471 non-null    object\n",
      " 7   Anexo_cosIng                               42540 non-null  object\n",
      "dtypes: object(8)\n",
      "memory usage: 2.6+ MB\n"
     ]
    }
   ],
   "source": [
    "cosing_clean.info()"
   ]
  },
  {
   "cell_type": "code",
   "execution_count": 40,
   "id": "75c72bfb",
   "metadata": {},
   "outputs": [
    {
     "data": {
      "text/plain": [
       "Chemical name                                False\n",
       "Chemical/IUPAC Name                           True\n",
       "Identified INGREDIENTS or substances e.g.     True\n",
       "CAS Number                                    True\n",
       "EC Number                                     True\n",
       "Name of Common Ingredients Glossary           True\n",
       "Product Type, body parts                      True\n",
       "Anexo_cosIng                                 False\n",
       "dtype: bool"
      ]
     },
     "execution_count": 40,
     "metadata": {},
     "output_type": "execute_result"
    }
   ],
   "source": [
    "# Consulatamos si hay al menos un None en string en alguna columna\n",
    "cosing_clean.isin([None]).any()"
   ]
  },
  {
   "cell_type": "code",
   "execution_count": 41,
   "id": "918a88e4",
   "metadata": {},
   "outputs": [],
   "source": [
    "#Reemplazamos None por NaN\n",
    "cosing_clean = cosing_clean.replace({None: np.nan})"
   ]
  },
  {
   "cell_type": "code",
   "execution_count": 42,
   "id": "68b4e3fe",
   "metadata": {},
   "outputs": [
    {
     "data": {
      "text/plain": [
       "541"
      ]
     },
     "execution_count": 42,
     "metadata": {},
     "output_type": "execute_result"
    }
   ],
   "source": [
    "cosing_clean['Name of Common Ingredients Glossary'].nunique(dropna=True)"
   ]
  },
  {
   "cell_type": "markdown",
   "id": "51effb49",
   "metadata": {},
   "source": [
    "Tenemos 541 nombres de la variable que nos da el nombre INCI"
   ]
  },
  {
   "cell_type": "markdown",
   "id": "d20614a5",
   "metadata": {},
   "source": [
    "## 8. Consultas antes de segunda unión de dataframes"
   ]
  },
  {
   "cell_type": "markdown",
   "id": "dcc4fc8a",
   "metadata": {},
   "source": [
    "Vamos a consultar el número de veces que se repite el valor de CAS Number y EC Number en cada tabla antes de unir, para hacernos una idea de lo que puede ocurrir con la unión.\n",
    "\n",
    "En esta segunda unión van a haber muchos duplicados por la condición de CAS Number y EC Number en ambas tablas."
   ]
  },
  {
   "cell_type": "code",
   "execution_count": 43,
   "id": "f7189516",
   "metadata": {},
   "outputs": [
    {
     "data": {
      "text/plain": [
       "CAS Number\n",
       "64742-89-8 [46]     178\n",
       "64742-83-2 [131]    178\n",
       "64742-73-0 [107]    178\n",
       "64742-66-1 [130]    178\n",
       "64742-49-0 [106]    178\n",
       "Name: count, dtype: int64"
      ]
     },
     "execution_count": 43,
     "metadata": {},
     "output_type": "execute_result"
    }
   ],
   "source": [
    "cosing_clean['CAS Number'].value_counts().head()"
   ]
  },
  {
   "cell_type": "code",
   "execution_count": 44,
   "id": "3b27b6ed",
   "metadata": {},
   "outputs": [
    {
     "data": {
      "text/plain": [
       "EC Number\n",
       "232-349-1 [40]    178\n",
       "232-443-2 [41]    178\n",
       "232-453-7 [42]    178\n",
       "265-041-0 [43]    178\n",
       "265-042-6 [44]    178\n",
       "Name: count, dtype: int64"
      ]
     },
     "execution_count": 44,
     "metadata": {},
     "output_type": "execute_result"
    }
   ],
   "source": [
    "cosing_clean['EC Number'].value_counts().head()"
   ]
  },
  {
   "cell_type": "code",
   "execution_count": 45,
   "id": "7e50640b",
   "metadata": {},
   "outputs": [
    {
     "data": {
      "text/plain": [
       "CAS Number\n",
       "9016-45-9     6\n",
       " 541-02-6     4\n",
       " 556-67-2     4\n",
       "69430-24-6    4\n",
       " 540-97-6     4\n",
       "Name: count, dtype: int64"
      ]
     },
     "execution_count": 45,
     "metadata": {},
     "output_type": "execute_result"
    }
   ],
   "source": [
    "edlist_echa['CAS Number'].value_counts().head()"
   ]
  },
  {
   "cell_type": "code",
   "execution_count": 46,
   "id": "ef4bfd2a",
   "metadata": {},
   "outputs": [
    {
     "data": {
      "text/plain": [
       "EC Number\n",
       " 208-764-9    4\n",
       " 209-136-7    4\n",
       "614-966-1     4\n",
       " 208-762-8    4\n",
       "231-212-3     3\n",
       "Name: count, dtype: int64"
      ]
     },
     "execution_count": 46,
     "metadata": {},
     "output_type": "execute_result"
    }
   ],
   "source": [
    "edlist_echa['EC Number'].value_counts().head()"
   ]
  },
  {
   "cell_type": "markdown",
   "id": "0c37b30a",
   "metadata": {},
   "source": [
    "Consultamos tambien cuantos registros que contengan (\"EC Number\" o \"CAS Number\") de la Edlist_Echa están en CosIng_clean y viceversa"
   ]
  },
  {
   "cell_type": "code",
   "execution_count": 47,
   "id": "af48f6fe",
   "metadata": {},
   "outputs": [
    {
     "data": {
      "text/plain": [
       "Name_Edlist_Echa    108\n",
       "Fuente_original     108\n",
       "Appears on lists     90\n",
       "Health effects       90\n",
       "CAS Number           99\n",
       "EC Number            64\n",
       "dtype: int64"
      ]
     },
     "execution_count": 47,
     "metadata": {},
     "output_type": "execute_result"
    }
   ],
   "source": [
    "edlist_echa[\n",
    "    edlist_echa[\"EC Number\"].isin(cosing_clean[\"EC Number\"]) |\n",
    "    edlist_echa[\"CAS Number\"].isin(cosing_clean[\"CAS Number\"])\n",
    "].count()"
   ]
  },
  {
   "cell_type": "code",
   "execution_count": 48,
   "id": "69aadedd",
   "metadata": {},
   "outputs": [
    {
     "data": {
      "text/plain": [
       "Chemical name                                941\n",
       "Chemical/IUPAC Name                          746\n",
       "Identified INGREDIENTS or substances e.g.    215\n",
       "CAS Number                                   604\n",
       "EC Number                                    406\n",
       "Name of Common Ingredients Glossary          158\n",
       "Product Type, body parts                      37\n",
       "Anexo_cosIng                                 941\n",
       "dtype: int64"
      ]
     },
     "execution_count": 48,
     "metadata": {},
     "output_type": "execute_result"
    }
   ],
   "source": [
    "cosing_clean[\n",
    "    cosing_clean[\"CAS Number\" ].isin(edlist_echa[\"CAS Number\"]) |\n",
    "    cosing_clean[\"EC Number\"   ].isin(edlist_echa[\"EC Number\"])\n",
    "    ].count()"
   ]
  },
  {
   "cell_type": "markdown",
   "id": "a23d5d1e",
   "metadata": {},
   "source": [
    "Consultamos nulos, pues esto será un problema a la hora de la unión, pues cuando hay nulos en la clave a unir, esos nulos se emparejan de forma erronea.\n",
    "\n",
    "Aunque la eliminación de los registros que cumplen la condición de 'CAS Number' y 'CAS Number' sean nulos se hizo en los dataframes de origen, lo comprobamos."
   ]
  },
  {
   "cell_type": "code",
   "execution_count": 49,
   "id": "a7a78bf9",
   "metadata": {},
   "outputs": [
    {
     "data": {
      "text/html": [
       "<div>\n",
       "<style scoped>\n",
       "    .dataframe tbody tr th:only-of-type {\n",
       "        vertical-align: middle;\n",
       "    }\n",
       "\n",
       "    .dataframe tbody tr th {\n",
       "        vertical-align: top;\n",
       "    }\n",
       "\n",
       "    .dataframe thead th {\n",
       "        text-align: right;\n",
       "    }\n",
       "</style>\n",
       "<table border=\"1\" class=\"dataframe\">\n",
       "  <thead>\n",
       "    <tr style=\"text-align: right;\">\n",
       "      <th></th>\n",
       "      <th>Name_Edlist_Echa</th>\n",
       "      <th>Fuente_original</th>\n",
       "      <th>Appears on lists</th>\n",
       "      <th>Health effects</th>\n",
       "      <th>CAS Number</th>\n",
       "      <th>EC Number</th>\n",
       "    </tr>\n",
       "  </thead>\n",
       "  <tbody>\n",
       "  </tbody>\n",
       "</table>\n",
       "</div>"
      ],
      "text/plain": [
       "Empty DataFrame\n",
       "Columns: [Name_Edlist_Echa, Fuente_original, Appears on lists, Health effects, CAS Number, EC Number]\n",
       "Index: []"
      ]
     },
     "execution_count": 49,
     "metadata": {},
     "output_type": "execute_result"
    }
   ],
   "source": [
    "edlist_echa[(edlist_echa['CAS Number'].isna() & edlist_echa['EC Number'].isna())]"
   ]
  },
  {
   "cell_type": "code",
   "execution_count": 50,
   "id": "0f85d50e",
   "metadata": {},
   "outputs": [
    {
     "data": {
      "text/html": [
       "<div>\n",
       "<style scoped>\n",
       "    .dataframe tbody tr th:only-of-type {\n",
       "        vertical-align: middle;\n",
       "    }\n",
       "\n",
       "    .dataframe tbody tr th {\n",
       "        vertical-align: top;\n",
       "    }\n",
       "\n",
       "    .dataframe thead th {\n",
       "        text-align: right;\n",
       "    }\n",
       "</style>\n",
       "<table border=\"1\" class=\"dataframe\">\n",
       "  <thead>\n",
       "    <tr style=\"text-align: right;\">\n",
       "      <th></th>\n",
       "      <th>Chemical name</th>\n",
       "      <th>Chemical/IUPAC Name</th>\n",
       "      <th>Identified INGREDIENTS or substances e.g.</th>\n",
       "      <th>CAS Number</th>\n",
       "      <th>EC Number</th>\n",
       "      <th>Name of Common Ingredients Glossary</th>\n",
       "      <th>Product Type, body parts</th>\n",
       "      <th>Anexo_cosIng</th>\n",
       "    </tr>\n",
       "  </thead>\n",
       "  <tbody>\n",
       "  </tbody>\n",
       "</table>\n",
       "</div>"
      ],
      "text/plain": [
       "Empty DataFrame\n",
       "Columns: [Chemical name, Chemical/IUPAC Name, Identified INGREDIENTS or substances e.g., CAS Number, EC Number, Name of Common Ingredients Glossary, Product Type, body parts, Anexo_cosIng]\n",
       "Index: []"
      ]
     },
     "execution_count": 50,
     "metadata": {},
     "output_type": "execute_result"
    }
   ],
   "source": [
    "cosing_clean[(cosing_clean['CAS Number'].isna() & cosing_clean['EC Number'].isna())]"
   ]
  },
  {
   "cell_type": "markdown",
   "id": "42934093",
   "metadata": {},
   "source": [
    "Como la unión que queremos hacer no es como la anterior, es decir un full join , que daba igual si una de las dos claves tenía nulos, mientras la otra no la tuviera.\n",
    "\n",
    "En esta ocasión no podemos eliminar los nulos de cada variable, porque nos quedaríamos con la posibilidad de unir por la otra clave.\n",
    "\n",
    "Consultamos igualmente los nulos de estas variables en cada dataframe"
   ]
  },
  {
   "cell_type": "code",
   "execution_count": 51,
   "id": "6de0c4f6",
   "metadata": {},
   "outputs": [
    {
     "data": {
      "text/plain": [
       "EC Number     45\n",
       "CAS Number    13\n",
       "dtype: int64"
      ]
     },
     "execution_count": 51,
     "metadata": {},
     "output_type": "execute_result"
    }
   ],
   "source": [
    "edlist_echa[[\"EC Number\", \"CAS Number\"]].isnull().sum()\n"
   ]
  },
  {
   "cell_type": "code",
   "execution_count": 52,
   "id": "6569343e",
   "metadata": {},
   "outputs": [
    {
     "data": {
      "text/plain": [
       "EC Number     535\n",
       "CAS Number    337\n",
       "dtype: int64"
      ]
     },
     "execution_count": 52,
     "metadata": {},
     "output_type": "execute_result"
    }
   ],
   "source": [
    "cosing_clean[[\"EC Number\", \"CAS Number\"]].isnull().sum()\n"
   ]
  },
  {
   "cell_type": "markdown",
   "id": "fa12e468",
   "metadata": {},
   "source": [
    "## 9. Tercer Merge - Unión final"
   ]
  },
  {
   "cell_type": "markdown",
   "id": "c80e2f00",
   "metadata": {},
   "source": [
    "**La unión se realizará de la siguiente manera:**\n",
    "\n",
    "1. Inner join por 'CAS Number', solo nos quedamos ocn los registros coincidentes en ambas tablas. El problema es que hay CAS Number nulos que no podemos eliminar, que haran emparejamientos erroneos.\n",
    "2. Eliminación de 'CAS Number' nulos.\n",
    "3. Inner join por 'EC Number' pasa lo mismo que con la unión anterior.\n",
    "4. Eliminación de 'EC Number' nulos.\n",
    "5. Concatenación de ambas tablas."
   ]
  },
  {
   "cell_type": "markdown",
   "id": "f8990ffd",
   "metadata": {},
   "source": [
    "### 9.1. Unión por CAS Number"
   ]
  },
  {
   "cell_type": "code",
   "execution_count": 53,
   "id": "1c7d085c",
   "metadata": {},
   "outputs": [
    {
     "name": "stdout",
     "output_type": "stream",
     "text": [
      "<class 'pandas.core.frame.DataFrame'>\n",
      "RangeIndex: 4444 entries, 0 to 4443\n",
      "Data columns (total 13 columns):\n",
      " #   Column                                     Non-Null Count  Dtype  \n",
      "---  ------                                     --------------  -----  \n",
      " 0   Name_Edlist_Echa                           4444 non-null   object \n",
      " 1   Fuente_original                            4444 non-null   object \n",
      " 2   Appears on lists                           3078 non-null   object \n",
      " 3   Health effects                             3078 non-null   float64\n",
      " 4   CAS Number                                 63 non-null     object \n",
      " 5   EC Number                                  4443 non-null   object \n",
      " 6   Chemical name                              4444 non-null   object \n",
      " 7   Chemical/IUPAC Name                        4094 non-null   object \n",
      " 8   Identified INGREDIENTS or substances e.g.  231 non-null    object \n",
      " 9   EC Number_cosing                           4443 non-null   object \n",
      " 10  Name of Common Ingredients Glossary        241 non-null    object \n",
      " 11  Product Type, body parts                   49 non-null     object \n",
      " 12  Anexo_cosIng                               4444 non-null   object \n",
      "dtypes: float64(1), object(12)\n",
      "memory usage: 451.5+ KB\n"
     ]
    }
   ],
   "source": [
    "union_inner_cas= disruptores_clean.merge( cosing_clean, on=['CAS Number'],  how='inner', suffixes=('', '_cosing'))\n",
    "union_inner_cas.info()"
   ]
  },
  {
   "cell_type": "code",
   "execution_count": 54,
   "id": "afe60846",
   "metadata": {},
   "outputs": [
    {
     "data": {
      "text/plain": [
       "Name_Edlist_Echa                             False\n",
       "Fuente_original                              False\n",
       "Appears on lists                             False\n",
       "Health effects                               False\n",
       "CAS Number                                    True\n",
       "EC Number                                    False\n",
       "Chemical name                                False\n",
       "Chemical/IUPAC Name                          False\n",
       "Identified INGREDIENTS or substances e.g.    False\n",
       "EC Number_cosing                             False\n",
       "Name of Common Ingredients Glossary          False\n",
       "Product Type, body parts                     False\n",
       "Anexo_cosIng                                 False\n",
       "dtype: bool"
      ]
     },
     "execution_count": 54,
     "metadata": {},
     "output_type": "execute_result"
    }
   ],
   "source": [
    "# Devuelve True si hay al menos un None en string en esa columna\n",
    "union_inner_cas.isin([None]).any()"
   ]
  },
  {
   "cell_type": "code",
   "execution_count": 55,
   "id": "31cf5631",
   "metadata": {},
   "outputs": [],
   "source": [
    "union_inner_cas = union_inner_cas.replace({None: np.nan})"
   ]
  },
  {
   "cell_type": "markdown",
   "id": "65b277d3",
   "metadata": {},
   "source": [
    "Como esperabamos, se han creado registros con CAS Number vacios.\n",
    "\n",
    "Solo se ha realizado la unión correcta de 69 registros.\n",
    "\n",
    "Vemos que cuando no CAS Number es no nulo, el emparejamiento es correcto, pues EC Number y EC Number_cosing coinciden y las variables relativas a nombres de ambas tablas tambien."
   ]
  },
  {
   "cell_type": "code",
   "execution_count": 56,
   "id": "84576783",
   "metadata": {},
   "outputs": [
    {
     "data": {
      "text/html": [
       "<div>\n",
       "<style scoped>\n",
       "    .dataframe tbody tr th:only-of-type {\n",
       "        vertical-align: middle;\n",
       "    }\n",
       "\n",
       "    .dataframe tbody tr th {\n",
       "        vertical-align: top;\n",
       "    }\n",
       "\n",
       "    .dataframe thead th {\n",
       "        text-align: right;\n",
       "    }\n",
       "</style>\n",
       "<table border=\"1\" class=\"dataframe\">\n",
       "  <thead>\n",
       "    <tr style=\"text-align: right;\">\n",
       "      <th></th>\n",
       "      <th>Name_Edlist_Echa</th>\n",
       "      <th>Fuente_original</th>\n",
       "      <th>Appears on lists</th>\n",
       "      <th>Health effects</th>\n",
       "      <th>CAS Number</th>\n",
       "      <th>EC Number</th>\n",
       "      <th>Chemical name</th>\n",
       "      <th>Chemical/IUPAC Name</th>\n",
       "      <th>Identified INGREDIENTS or substances e.g.</th>\n",
       "      <th>EC Number_cosing</th>\n",
       "      <th>Name of Common Ingredients Glossary</th>\n",
       "      <th>Product Type, body parts</th>\n",
       "      <th>Anexo_cosIng</th>\n",
       "    </tr>\n",
       "  </thead>\n",
       "  <tbody>\n",
       "    <tr>\n",
       "      <th>0</th>\n",
       "      <td>Triclocarban</td>\n",
       "      <td>Edlist_3</td>\n",
       "      <td>List III</td>\n",
       "      <td>1.0</td>\n",
       "      <td>101-20-2</td>\n",
       "      <td>202-924-1</td>\n",
       "      <td>1-(4-Chlorophenyl)-3-(3,4-dichlorophenyl)urea</td>\n",
       "      <td>NaN</td>\n",
       "      <td>1-(4-CHLOROPHENYL)-3-(3,4-DICHLOROPHENYL)UREA ...</td>\n",
       "      <td>202-924-1</td>\n",
       "      <td>Triclocarban</td>\n",
       "      <td>All cosmetic products, with the exception of m...</td>\n",
       "      <td>Anexo_5</td>\n",
       "    </tr>\n",
       "    <tr>\n",
       "      <th>1</th>\n",
       "      <td>Triclocarban</td>\n",
       "      <td>Edlist_3</td>\n",
       "      <td>List III</td>\n",
       "      <td>1.0</td>\n",
       "      <td>101-20-2</td>\n",
       "      <td>202-924-1</td>\n",
       "      <td>1-(4-Chlorophenyl)-3-(3,4-dichlorophenyl)urea ...</td>\n",
       "      <td>NaN</td>\n",
       "      <td>1-(4-CHLOROPHENYL)-3-(3,4-DICHLOROPHENYL)UREA\\...</td>\n",
       "      <td>202-924-1</td>\n",
       "      <td>TRICLOCARBAN</td>\n",
       "      <td>Rinse-off products</td>\n",
       "      <td>Anexo_3</td>\n",
       "    </tr>\n",
       "    <tr>\n",
       "      <th>2</th>\n",
       "      <td>Geraniol</td>\n",
       "      <td>ECHA - ED_pendiente</td>\n",
       "      <td>NaN</td>\n",
       "      <td>NaN</td>\n",
       "      <td>106-24-1</td>\n",
       "      <td>203-377-1</td>\n",
       "      <td>2,6-Octadien-1-ol, 3,7-dimethyl-, (2E)- \\n\\n</td>\n",
       "      <td>NaN</td>\n",
       "      <td>GERANIOL</td>\n",
       "      <td>203-377-1</td>\n",
       "      <td>Geraniol</td>\n",
       "      <td>NaN</td>\n",
       "      <td>Anexo_3</td>\n",
       "    </tr>\n",
       "    <tr>\n",
       "      <th>3</th>\n",
       "      <td>resorcinol; 1,3-benzenediol</td>\n",
       "      <td>Edlist_2</td>\n",
       "      <td>List II</td>\n",
       "      <td>1.0</td>\n",
       "      <td>108-46-3</td>\n",
       "      <td>203-585-2</td>\n",
       "      <td>1,3-benzenediol</td>\n",
       "      <td>1,3-benzenediol</td>\n",
       "      <td>RESORCINOL</td>\n",
       "      <td>203-585-2</td>\n",
       "      <td>RESORCINOL</td>\n",
       "      <td>(a) Hair dye substance in oxidative hair dye p...</td>\n",
       "      <td>Anexo_3</td>\n",
       "    </tr>\n",
       "    <tr>\n",
       "      <th>4</th>\n",
       "      <td>Melamine</td>\n",
       "      <td>ECHA - ED_pendiente</td>\n",
       "      <td>NaN</td>\n",
       "      <td>NaN</td>\n",
       "      <td>108-78-1</td>\n",
       "      <td>203-615-4</td>\n",
       "      <td>1,3,5-triazine-2,4,6-triamine; melamine</td>\n",
       "      <td>NaN</td>\n",
       "      <td>NaN</td>\n",
       "      <td>203-615-4</td>\n",
       "      <td>NaN</td>\n",
       "      <td>NaN</td>\n",
       "      <td>Anexo_2</td>\n",
       "    </tr>\n",
       "  </tbody>\n",
       "</table>\n",
       "</div>"
      ],
      "text/plain": [
       "              Name_Edlist_Echa      Fuente_original Appears on lists  \\\n",
       "0                 Triclocarban             Edlist_3         List III   \n",
       "1                 Triclocarban             Edlist_3         List III   \n",
       "2                     Geraniol  ECHA - ED_pendiente              NaN   \n",
       "3  resorcinol; 1,3-benzenediol             Edlist_2          List II   \n",
       "4                     Melamine  ECHA - ED_pendiente              NaN   \n",
       "\n",
       "   Health effects CAS Number  EC Number  \\\n",
       "0             1.0   101-20-2  202-924-1   \n",
       "1             1.0   101-20-2  202-924-1   \n",
       "2             NaN   106-24-1  203-377-1   \n",
       "3             1.0   108-46-3  203-585-2   \n",
       "4             NaN   108-78-1  203-615-4   \n",
       "\n",
       "                                       Chemical name Chemical/IUPAC Name  \\\n",
       "0      1-(4-Chlorophenyl)-3-(3,4-dichlorophenyl)urea                 NaN   \n",
       "1  1-(4-Chlorophenyl)-3-(3,4-dichlorophenyl)urea ...                 NaN   \n",
       "2       2,6-Octadien-1-ol, 3,7-dimethyl-, (2E)- \\n\\n                 NaN   \n",
       "3                                    1,3-benzenediol     1,3-benzenediol   \n",
       "4            1,3,5-triazine-2,4,6-triamine; melamine                 NaN   \n",
       "\n",
       "           Identified INGREDIENTS or substances e.g. EC Number_cosing  \\\n",
       "0  1-(4-CHLOROPHENYL)-3-(3,4-DICHLOROPHENYL)UREA ...        202-924-1   \n",
       "1  1-(4-CHLOROPHENYL)-3-(3,4-DICHLOROPHENYL)UREA\\...        202-924-1   \n",
       "2                                           GERANIOL        203-377-1   \n",
       "3                                         RESORCINOL        203-585-2   \n",
       "4                                                NaN        203-615-4   \n",
       "\n",
       "  Name of Common Ingredients Glossary  \\\n",
       "0                        Triclocarban   \n",
       "1                        TRICLOCARBAN   \n",
       "2                            Geraniol   \n",
       "3                          RESORCINOL   \n",
       "4                                 NaN   \n",
       "\n",
       "                            Product Type, body parts Anexo_cosIng  \n",
       "0  All cosmetic products, with the exception of m...      Anexo_5  \n",
       "1                                 Rinse-off products      Anexo_3  \n",
       "2                                                NaN      Anexo_3  \n",
       "3  (a) Hair dye substance in oxidative hair dye p...      Anexo_3  \n",
       "4                                                NaN      Anexo_2  "
      ]
     },
     "execution_count": 56,
     "metadata": {},
     "output_type": "execute_result"
    }
   ],
   "source": [
    "union_inner_cas[(union_inner_cas['CAS Number'].notna())].head()"
   ]
  },
  {
   "cell_type": "markdown",
   "id": "f98c972b",
   "metadata": {},
   "source": [
    "Sin embargo cuando es CAS Number es NULO, el emparejamiento es errático, pues EC Number y EC Number_cosing NO coinciden y las variables relativas a nombres TAMPOCO"
   ]
  },
  {
   "cell_type": "code",
   "execution_count": 57,
   "id": "d3bc69ee",
   "metadata": {},
   "outputs": [
    {
     "data": {
      "text/html": [
       "<div>\n",
       "<style scoped>\n",
       "    .dataframe tbody tr th:only-of-type {\n",
       "        vertical-align: middle;\n",
       "    }\n",
       "\n",
       "    .dataframe tbody tr th {\n",
       "        vertical-align: top;\n",
       "    }\n",
       "\n",
       "    .dataframe thead th {\n",
       "        text-align: right;\n",
       "    }\n",
       "</style>\n",
       "<table border=\"1\" class=\"dataframe\">\n",
       "  <thead>\n",
       "    <tr style=\"text-align: right;\">\n",
       "      <th></th>\n",
       "      <th>Name_Edlist_Echa</th>\n",
       "      <th>Fuente_original</th>\n",
       "      <th>Appears on lists</th>\n",
       "      <th>Health effects</th>\n",
       "      <th>CAS Number</th>\n",
       "      <th>EC Number</th>\n",
       "      <th>Chemical name</th>\n",
       "      <th>Chemical/IUPAC Name</th>\n",
       "      <th>Identified INGREDIENTS or substances e.g.</th>\n",
       "      <th>EC Number_cosing</th>\n",
       "      <th>Name of Common Ingredients Glossary</th>\n",
       "      <th>Product Type, body parts</th>\n",
       "      <th>Anexo_cosIng</th>\n",
       "    </tr>\n",
       "  </thead>\n",
       "  <tbody>\n",
       "    <tr>\n",
       "      <th>63</th>\n",
       "      <td>Oligomerisation and alkylation reaction produc...</td>\n",
       "      <td>ECHA - ED_Env</td>\n",
       "      <td>NaN</td>\n",
       "      <td>NaN</td>\n",
       "      <td>NaN</td>\n",
       "      <td>700-960-7</td>\n",
       "      <td>(Methylenebis(4,1-phenylenazo(1-(3-(dimethylam...</td>\n",
       "      <td>NaN</td>\n",
       "      <td>NaN</td>\n",
       "      <td>401-500-5</td>\n",
       "      <td>NaN</td>\n",
       "      <td>NaN</td>\n",
       "      <td>Anexo_2</td>\n",
       "    </tr>\n",
       "    <tr>\n",
       "      <th>64</th>\n",
       "      <td>Oligomerisation and alkylation reaction produc...</td>\n",
       "      <td>ECHA - ED_Env</td>\n",
       "      <td>NaN</td>\n",
       "      <td>NaN</td>\n",
       "      <td>NaN</td>\n",
       "      <td>700-960-7</td>\n",
       "      <td>1-(1,2,3,4,5,6,7,8-octahydro-2,3,8,8-tetrameth...</td>\n",
       "      <td>NaN</td>\n",
       "      <td>TETRAMETHYL ACETYLOCTAHYDRONAPHTHALENES</td>\n",
       "      <td>259-175-9</td>\n",
       "      <td>Tetramethyl acetyloctahydronaphthalenes</td>\n",
       "      <td>NaN</td>\n",
       "      <td>Anexo_3</td>\n",
       "    </tr>\n",
       "    <tr>\n",
       "      <th>65</th>\n",
       "      <td>Oligomerisation and alkylation reaction produc...</td>\n",
       "      <td>ECHA - ED_Env</td>\n",
       "      <td>NaN</td>\n",
       "      <td>NaN</td>\n",
       "      <td>NaN</td>\n",
       "      <td>700-960-7</td>\n",
       "      <td>1-(1,2,3,4,5,6,7,8-octahydro-2,3,8,8-tetrameth...</td>\n",
       "      <td>NaN</td>\n",
       "      <td>TETRAMETHYL ACETYLOCTAHYDRONAPHTHALENES</td>\n",
       "      <td>268-978-3</td>\n",
       "      <td>Tetramethyl acetyloctahydronaphthalenes</td>\n",
       "      <td>NaN</td>\n",
       "      <td>Anexo_3</td>\n",
       "    </tr>\n",
       "  </tbody>\n",
       "</table>\n",
       "</div>"
      ],
      "text/plain": [
       "                                     Name_Edlist_Echa Fuente_original  \\\n",
       "63  Oligomerisation and alkylation reaction produc...   ECHA - ED_Env   \n",
       "64  Oligomerisation and alkylation reaction produc...   ECHA - ED_Env   \n",
       "65  Oligomerisation and alkylation reaction produc...   ECHA - ED_Env   \n",
       "\n",
       "   Appears on lists  Health effects CAS Number  EC Number  \\\n",
       "63              NaN             NaN        NaN  700-960-7   \n",
       "64              NaN             NaN        NaN  700-960-7   \n",
       "65              NaN             NaN        NaN  700-960-7   \n",
       "\n",
       "                                        Chemical name Chemical/IUPAC Name  \\\n",
       "63  (Methylenebis(4,1-phenylenazo(1-(3-(dimethylam...                 NaN   \n",
       "64  1-(1,2,3,4,5,6,7,8-octahydro-2,3,8,8-tetrameth...                 NaN   \n",
       "65  1-(1,2,3,4,5,6,7,8-octahydro-2,3,8,8-tetrameth...                 NaN   \n",
       "\n",
       "   Identified INGREDIENTS or substances e.g. EC Number_cosing  \\\n",
       "63                                       NaN        401-500-5   \n",
       "64   TETRAMETHYL ACETYLOCTAHYDRONAPHTHALENES        259-175-9   \n",
       "65   TETRAMETHYL ACETYLOCTAHYDRONAPHTHALENES        268-978-3   \n",
       "\n",
       "        Name of Common Ingredients Glossary Product Type, body parts  \\\n",
       "63                                      NaN                      NaN   \n",
       "64  Tetramethyl acetyloctahydronaphthalenes                      NaN   \n",
       "65  Tetramethyl acetyloctahydronaphthalenes                      NaN   \n",
       "\n",
       "   Anexo_cosIng  \n",
       "63      Anexo_2  \n",
       "64      Anexo_3  \n",
       "65      Anexo_3  "
      ]
     },
     "execution_count": 57,
     "metadata": {},
     "output_type": "execute_result"
    }
   ],
   "source": [
    "union_inner_cas[(union_inner_cas['CAS Number'].isna())].head(3)"
   ]
  },
  {
   "cell_type": "markdown",
   "id": "10201fae",
   "metadata": {},
   "source": [
    "Procedemos a eliminar las variables donde CAS Number es nulo"
   ]
  },
  {
   "cell_type": "code",
   "execution_count": 58,
   "id": "7681e7dc",
   "metadata": {},
   "outputs": [],
   "source": [
    "union_inner_cas= union_inner_cas[~(union_inner_cas['CAS Number'].isna())]"
   ]
  },
  {
   "cell_type": "markdown",
   "id": "5860c874",
   "metadata": {},
   "source": [
    "### 9.2. Unión por EC Number"
   ]
  },
  {
   "cell_type": "code",
   "execution_count": 59,
   "id": "303030fa",
   "metadata": {},
   "outputs": [
    {
     "name": "stdout",
     "output_type": "stream",
     "text": [
      "<class 'pandas.core.frame.DataFrame'>\n",
      "RangeIndex: 24138 entries, 0 to 24137\n",
      "Data columns (total 13 columns):\n",
      " #   Column                                     Non-Null Count  Dtype  \n",
      "---  ------                                     --------------  -----  \n",
      " 0   Name_Edlist_Echa                           24138 non-null  object \n",
      " 1   Fuente_original                            24138 non-null  object \n",
      " 2   Appears on lists                           23583 non-null  object \n",
      " 3   Health effects                             23583 non-null  float64\n",
      " 4   CAS Number                                 24138 non-null  object \n",
      " 5   EC Number                                  63 non-null     object \n",
      " 6   Chemical name                              24138 non-null  object \n",
      " 7   Chemical/IUPAC Name                        17587 non-null  object \n",
      " 8   Identified INGREDIENTS or substances e.g.  7148 non-null   object \n",
      " 9   CAS Number_cosing                          24137 non-null  object \n",
      " 10  Name of Common Ingredients Glossary        5197 non-null   object \n",
      " 11  Product Type, body parts                   1090 non-null   object \n",
      " 12  Anexo_cosIng                               24138 non-null  object \n",
      "dtypes: float64(1), object(12)\n",
      "memory usage: 2.4+ MB\n"
     ]
    }
   ],
   "source": [
    "union_inner_ec= edlist_echa.merge( cosing_clean, on=['EC Number'],  how='inner', suffixes=('', '_cosing'))\n",
    "union_inner_ec.info()"
   ]
  },
  {
   "cell_type": "markdown",
   "id": "85ba8aa9",
   "metadata": {},
   "source": [
    "De la misma manera, se han creado 24.138 registros pero solo son válidos 63 EC Number"
   ]
  },
  {
   "cell_type": "code",
   "execution_count": 60,
   "id": "1a4721d3",
   "metadata": {},
   "outputs": [
    {
     "data": {
      "text/html": [
       "<div>\n",
       "<style scoped>\n",
       "    .dataframe tbody tr th:only-of-type {\n",
       "        vertical-align: middle;\n",
       "    }\n",
       "\n",
       "    .dataframe tbody tr th {\n",
       "        vertical-align: top;\n",
       "    }\n",
       "\n",
       "    .dataframe thead th {\n",
       "        text-align: right;\n",
       "    }\n",
       "</style>\n",
       "<table border=\"1\" class=\"dataframe\">\n",
       "  <thead>\n",
       "    <tr style=\"text-align: right;\">\n",
       "      <th></th>\n",
       "      <th>Name_Edlist_Echa</th>\n",
       "      <th>Fuente_original</th>\n",
       "      <th>Appears on lists</th>\n",
       "      <th>Health effects</th>\n",
       "      <th>CAS Number</th>\n",
       "      <th>EC Number</th>\n",
       "      <th>Chemical name</th>\n",
       "      <th>Chemical/IUPAC Name</th>\n",
       "      <th>Identified INGREDIENTS or substances e.g.</th>\n",
       "      <th>CAS Number_cosing</th>\n",
       "      <th>Name of Common Ingredients Glossary</th>\n",
       "      <th>Product Type, body parts</th>\n",
       "      <th>Anexo_cosIng</th>\n",
       "    </tr>\n",
       "  </thead>\n",
       "  <tbody>\n",
       "    <tr>\n",
       "      <th>0</th>\n",
       "      <td>4-(5-methylhexyl)phenol</td>\n",
       "      <td>Edlist_1</td>\n",
       "      <td>List I</td>\n",
       "      <td>0.0</td>\n",
       "      <td>100532-36-3</td>\n",
       "      <td>NaN</td>\n",
       "      <td>(3R)-beta-4-Caroten-3-ol</td>\n",
       "      <td>(3R)-beta-4-Caroten-3-ol</td>\n",
       "      <td>CI 75135</td>\n",
       "      <td>3763-55-1</td>\n",
       "      <td>CI 75135</td>\n",
       "      <td>NaN</td>\n",
       "      <td>Anexo_4</td>\n",
       "    </tr>\n",
       "    <tr>\n",
       "      <th>1</th>\n",
       "      <td>4-(5-methylhexyl)phenol</td>\n",
       "      <td>Edlist_1</td>\n",
       "      <td>List I</td>\n",
       "      <td>0.0</td>\n",
       "      <td>100532-36-3</td>\n",
       "      <td>NaN</td>\n",
       "      <td>1,3,5-Triazine, 2,4,6-tris(1,1'-biphenyl)-4-yl...</td>\n",
       "      <td>1,3,5-Triazine, 2,4,6-tris(1,1'-biphenyl)-4-yl-</td>\n",
       "      <td>NaN</td>\n",
       "      <td>31274-51-8</td>\n",
       "      <td>TRIS-BIPHENYL TRIAZINE / TRIS-BIPHENYL TRIAZIN...</td>\n",
       "      <td>NaN</td>\n",
       "      <td>Anexo_6</td>\n",
       "    </tr>\n",
       "    <tr>\n",
       "      <th>2</th>\n",
       "      <td>4-(5-methylhexyl)phenol</td>\n",
       "      <td>Edlist_1</td>\n",
       "      <td>List I</td>\n",
       "      <td>0.0</td>\n",
       "      <td>100532-36-3</td>\n",
       "      <td>NaN</td>\n",
       "      <td>1-(1,2,3,4,5,6,7,8-octahydro-2,3,8,8-tetrameth...</td>\n",
       "      <td>NaN</td>\n",
       "      <td>TETRAMETHYL ACETYLOCTAHYDRONAPHTHALENES</td>\n",
       "      <td>54464-59-4</td>\n",
       "      <td>Tetramethyl acetyloctahydronaphthalenes</td>\n",
       "      <td>NaN</td>\n",
       "      <td>Anexo_3</td>\n",
       "    </tr>\n",
       "    <tr>\n",
       "      <th>3</th>\n",
       "      <td>4-(5-methylhexyl)phenol</td>\n",
       "      <td>Edlist_1</td>\n",
       "      <td>List I</td>\n",
       "      <td>0.0</td>\n",
       "      <td>100532-36-3</td>\n",
       "      <td>NaN</td>\n",
       "      <td>1-(1,2,3,4,5,6,7,8-octahydro-2,3,8,8-tetrameth...</td>\n",
       "      <td>NaN</td>\n",
       "      <td>TETRAMETHYL ACETYLOCTAHYDRONAPHTHALENES</td>\n",
       "      <td>68155-66-8</td>\n",
       "      <td>Tetramethyl acetyloctahydronaphthalenes</td>\n",
       "      <td>NaN</td>\n",
       "      <td>Anexo_3</td>\n",
       "    </tr>\n",
       "  </tbody>\n",
       "</table>\n",
       "</div>"
      ],
      "text/plain": [
       "          Name_Edlist_Echa Fuente_original Appears on lists  Health effects  \\\n",
       "0  4-(5-methylhexyl)phenol        Edlist_1           List I             0.0   \n",
       "1  4-(5-methylhexyl)phenol        Edlist_1           List I             0.0   \n",
       "2  4-(5-methylhexyl)phenol        Edlist_1           List I             0.0   \n",
       "3  4-(5-methylhexyl)phenol        Edlist_1           List I             0.0   \n",
       "\n",
       "    CAS Number EC Number                                      Chemical name  \\\n",
       "0  100532-36-3       NaN                           (3R)-beta-4-Caroten-3-ol   \n",
       "1  100532-36-3       NaN  1,3,5-Triazine, 2,4,6-tris(1,1'-biphenyl)-4-yl...   \n",
       "2  100532-36-3       NaN  1-(1,2,3,4,5,6,7,8-octahydro-2,3,8,8-tetrameth...   \n",
       "3  100532-36-3       NaN  1-(1,2,3,4,5,6,7,8-octahydro-2,3,8,8-tetrameth...   \n",
       "\n",
       "                               Chemical/IUPAC Name  \\\n",
       "0                         (3R)-beta-4-Caroten-3-ol   \n",
       "1  1,3,5-Triazine, 2,4,6-tris(1,1'-biphenyl)-4-yl-   \n",
       "2                                              NaN   \n",
       "3                                              NaN   \n",
       "\n",
       "  Identified INGREDIENTS or substances e.g. CAS Number_cosing  \\\n",
       "0                                  CI 75135        3763-55-1    \n",
       "1                                       NaN        31274-51-8   \n",
       "2   TETRAMETHYL ACETYLOCTAHYDRONAPHTHALENES        54464-59-4   \n",
       "3   TETRAMETHYL ACETYLOCTAHYDRONAPHTHALENES        68155-66-8   \n",
       "\n",
       "                 Name of Common Ingredients Glossary Product Type, body parts  \\\n",
       "0                                           CI 75135                      NaN   \n",
       "1  TRIS-BIPHENYL TRIAZINE / TRIS-BIPHENYL TRIAZIN...                      NaN   \n",
       "2            Tetramethyl acetyloctahydronaphthalenes                      NaN   \n",
       "3            Tetramethyl acetyloctahydronaphthalenes                      NaN   \n",
       "\n",
       "  Anexo_cosIng  \n",
       "0      Anexo_4  \n",
       "1      Anexo_6  \n",
       "2      Anexo_3  \n",
       "3      Anexo_3  "
      ]
     },
     "execution_count": 60,
     "metadata": {},
     "output_type": "execute_result"
    }
   ],
   "source": [
    "union_inner_ec[(union_inner_ec['EC Number'].isna())].head(4)"
   ]
  },
  {
   "cell_type": "code",
   "execution_count": 61,
   "id": "ed383063",
   "metadata": {},
   "outputs": [],
   "source": [
    "union_inner_ec= union_inner_ec[~(union_inner_ec['EC Number'].isna())]"
   ]
  },
  {
   "cell_type": "code",
   "execution_count": 62,
   "id": "24241084",
   "metadata": {},
   "outputs": [
    {
     "name": "stdout",
     "output_type": "stream",
     "text": [
      "<class 'pandas.core.frame.DataFrame'>\n",
      "Index: 63 entries, 535 to 24137\n",
      "Data columns (total 13 columns):\n",
      " #   Column                                     Non-Null Count  Dtype  \n",
      "---  ------                                     --------------  -----  \n",
      " 0   Name_Edlist_Echa                           63 non-null     object \n",
      " 1   Fuente_original                            63 non-null     object \n",
      " 2   Appears on lists                           43 non-null     object \n",
      " 3   Health effects                             43 non-null     float64\n",
      " 4   CAS Number                                 63 non-null     object \n",
      " 5   EC Number                                  63 non-null     object \n",
      " 6   Chemical name                              63 non-null     object \n",
      " 7   Chemical/IUPAC Name                        37 non-null     object \n",
      " 8   Identified INGREDIENTS or substances e.g.  38 non-null     object \n",
      " 9   CAS Number_cosing                          62 non-null     object \n",
      " 10  Name of Common Ingredients Glossary        22 non-null     object \n",
      " 11  Product Type, body parts                   10 non-null     object \n",
      " 12  Anexo_cosIng                               63 non-null     object \n",
      "dtypes: float64(1), object(12)\n",
      "memory usage: 6.9+ KB\n"
     ]
    }
   ],
   "source": [
    "union_inner_ec.info()"
   ]
  },
  {
   "cell_type": "markdown",
   "id": "2bdd2767",
   "metadata": {},
   "source": [
    "### 9.3. Unión de ambas tablas"
   ]
  },
  {
   "cell_type": "code",
   "execution_count": 63,
   "id": "49024277",
   "metadata": {},
   "outputs": [],
   "source": [
    "# Concatenamos\n",
    "union_completa = pd.concat([union_inner_cas,union_inner_ec], ignore_index=True)"
   ]
  },
  {
   "cell_type": "code",
   "execution_count": 64,
   "id": "c34974bf",
   "metadata": {},
   "outputs": [
    {
     "name": "stdout",
     "output_type": "stream",
     "text": [
      "<class 'pandas.core.frame.DataFrame'>\n",
      "RangeIndex: 126 entries, 0 to 125\n",
      "Data columns (total 14 columns):\n",
      " #   Column                                     Non-Null Count  Dtype  \n",
      "---  ------                                     --------------  -----  \n",
      " 0   Name_Edlist_Echa                           126 non-null    object \n",
      " 1   Fuente_original                            126 non-null    object \n",
      " 2   Appears on lists                           88 non-null     object \n",
      " 3   Health effects                             88 non-null     float64\n",
      " 4   CAS Number                                 126 non-null    object \n",
      " 5   EC Number                                  125 non-null    object \n",
      " 6   Chemical name                              126 non-null    object \n",
      " 7   Chemical/IUPAC Name                        75 non-null     object \n",
      " 8   Identified INGREDIENTS or substances e.g.  74 non-null     object \n",
      " 9   EC Number_cosing                           62 non-null     object \n",
      " 10  Name of Common Ingredients Glossary        42 non-null     object \n",
      " 11  Product Type, body parts                   20 non-null     object \n",
      " 12  Anexo_cosIng                               126 non-null    object \n",
      " 13  CAS Number_cosing                          62 non-null     object \n",
      "dtypes: float64(1), object(13)\n",
      "memory usage: 13.9+ KB\n"
     ]
    }
   ],
   "source": [
    "union_completa.info()"
   ]
  },
  {
   "cell_type": "code",
   "execution_count": 65,
   "id": "3bd41f99",
   "metadata": {},
   "outputs": [
    {
     "data": {
      "text/plain": [
       "56"
      ]
     },
     "execution_count": 65,
     "metadata": {},
     "output_type": "execute_result"
    }
   ],
   "source": [
    "union_completa['Name_Edlist_Echa'].nunique(dropna=True)"
   ]
  },
  {
   "cell_type": "code",
   "execution_count": 66,
   "id": "8420e6e9",
   "metadata": {},
   "outputs": [
    {
     "data": {
      "text/plain": [
       "17"
      ]
     },
     "execution_count": 66,
     "metadata": {},
     "output_type": "execute_result"
    }
   ],
   "source": [
    "union_completa['Name of Common Ingredients Glossary'].nunique(dropna=True)"
   ]
  },
  {
   "cell_type": "markdown",
   "id": "3e8283d1",
   "metadata": {},
   "source": [
    "De los 126 registros hay 56 registros únicos, de los cuales 17 registros son de la variable que nos interesa 'Name of Common Ingredients Glossary'.\n",
    "\n",
    "El resto son duplicados"
   ]
  },
  {
   "cell_type": "markdown",
   "id": "6036595e",
   "metadata": {},
   "source": [
    "## 10. Comprobaciones del 3º Merge"
   ]
  },
  {
   "cell_type": "markdown",
   "id": "4561ba05",
   "metadata": {},
   "source": [
    "Para verificar que la unión se ha realizado correctamente, vamos a comprobar que los CAS Number y EC Number originales coindidan con los creados en la unión CAS Number_cosing y EC Number_cosing"
   ]
  },
  {
   "cell_type": "code",
   "execution_count": 67,
   "id": "13988f4a",
   "metadata": {},
   "outputs": [
    {
     "data": {
      "text/html": [
       "<div>\n",
       "<style scoped>\n",
       "    .dataframe tbody tr th:only-of-type {\n",
       "        vertical-align: middle;\n",
       "    }\n",
       "\n",
       "    .dataframe tbody tr th {\n",
       "        vertical-align: top;\n",
       "    }\n",
       "\n",
       "    .dataframe thead th {\n",
       "        text-align: right;\n",
       "    }\n",
       "</style>\n",
       "<table border=\"1\" class=\"dataframe\">\n",
       "  <thead>\n",
       "    <tr style=\"text-align: right;\">\n",
       "      <th></th>\n",
       "      <th>EC Number</th>\n",
       "      <th>EC Number_cosing</th>\n",
       "    </tr>\n",
       "  </thead>\n",
       "  <tbody>\n",
       "    <tr>\n",
       "      <th>0</th>\n",
       "      <td>202-924-1</td>\n",
       "      <td>202-924-1</td>\n",
       "    </tr>\n",
       "    <tr>\n",
       "      <th>1</th>\n",
       "      <td>202-924-1</td>\n",
       "      <td>202-924-1</td>\n",
       "    </tr>\n",
       "    <tr>\n",
       "      <th>2</th>\n",
       "      <td>203-377-1</td>\n",
       "      <td>203-377-1</td>\n",
       "    </tr>\n",
       "    <tr>\n",
       "      <th>3</th>\n",
       "      <td>203-585-2</td>\n",
       "      <td>203-585-2</td>\n",
       "    </tr>\n",
       "    <tr>\n",
       "      <th>4</th>\n",
       "      <td>203-615-4</td>\n",
       "      <td>203-615-4</td>\n",
       "    </tr>\n",
       "  </tbody>\n",
       "</table>\n",
       "</div>"
      ],
      "text/plain": [
       "   EC Number EC Number_cosing\n",
       "0  202-924-1        202-924-1\n",
       "1  202-924-1        202-924-1\n",
       "2  203-377-1        203-377-1\n",
       "3  203-585-2        203-585-2\n",
       "4  203-615-4        203-615-4"
      ]
     },
     "execution_count": 67,
     "metadata": {},
     "output_type": "execute_result"
    }
   ],
   "source": [
    "Consulta_1 = union_completa[(union_completa['EC Number'].notna() & union_completa['EC Number_cosing'].notna())]\n",
    "Consulta_1[['EC Number', 'EC Number_cosing']].head()"
   ]
  },
  {
   "cell_type": "code",
   "execution_count": 68,
   "id": "377649b4",
   "metadata": {},
   "outputs": [
    {
     "data": {
      "text/html": [
       "<div>\n",
       "<style scoped>\n",
       "    .dataframe tbody tr th:only-of-type {\n",
       "        vertical-align: middle;\n",
       "    }\n",
       "\n",
       "    .dataframe tbody tr th {\n",
       "        vertical-align: top;\n",
       "    }\n",
       "\n",
       "    .dataframe thead th {\n",
       "        text-align: right;\n",
       "    }\n",
       "</style>\n",
       "<table border=\"1\" class=\"dataframe\">\n",
       "  <thead>\n",
       "    <tr style=\"text-align: right;\">\n",
       "      <th></th>\n",
       "      <th>CAS Number</th>\n",
       "      <th>CAS Number_cosing</th>\n",
       "    </tr>\n",
       "  </thead>\n",
       "  <tbody>\n",
       "    <tr>\n",
       "      <th>63</th>\n",
       "      <td>101-20-2</td>\n",
       "      <td>101-20-2</td>\n",
       "    </tr>\n",
       "    <tr>\n",
       "      <th>64</th>\n",
       "      <td>101-20-2</td>\n",
       "      <td>101-20-2</td>\n",
       "    </tr>\n",
       "    <tr>\n",
       "      <th>65</th>\n",
       "      <td>106-24-1</td>\n",
       "      <td>106-24-1</td>\n",
       "    </tr>\n",
       "    <tr>\n",
       "      <th>66</th>\n",
       "      <td>108-46-3</td>\n",
       "      <td>108-46-3</td>\n",
       "    </tr>\n",
       "    <tr>\n",
       "      <th>67</th>\n",
       "      <td>108-78-1</td>\n",
       "      <td>108-78-1</td>\n",
       "    </tr>\n",
       "  </tbody>\n",
       "</table>\n",
       "</div>"
      ],
      "text/plain": [
       "   CAS Number CAS Number_cosing\n",
       "63   101-20-2          101-20-2\n",
       "64   101-20-2          101-20-2\n",
       "65   106-24-1          106-24-1\n",
       "66   108-46-3          108-46-3\n",
       "67   108-78-1          108-78-1"
      ]
     },
     "execution_count": 68,
     "metadata": {},
     "output_type": "execute_result"
    }
   ],
   "source": [
    "Consulta_2 = union_completa[(union_completa['CAS Number'].notna() & union_completa['CAS Number_cosing'].notna())]\n",
    "Consulta_2[['CAS Number', 'CAS Number_cosing',]].head()"
   ]
  },
  {
   "cell_type": "markdown",
   "id": "07ab1f06",
   "metadata": {},
   "source": [
    "A simple vista parece que coinciden las variables en origen con las variables creadas.\n",
    "\n",
    "Ahora vamos a comprobar si hay valores distintos y cuál es su comportamiento.\n",
    "\n",
    "Para ello, vamos a filtrar por CAS/EC Number distinto pero vamos a ver las variables nombre, tanto las que proceden de la tabla anterior edlist_echa como de cosing. De esta forma podemos ver si tienen el mismo nombre aunque tengan distintos CAS/EC Number"
   ]
  },
  {
   "cell_type": "code",
   "execution_count": 69,
   "id": "e926983a",
   "metadata": {},
   "outputs": [
    {
     "data": {
      "text/html": [
       "<div>\n",
       "<style scoped>\n",
       "    .dataframe tbody tr th:only-of-type {\n",
       "        vertical-align: middle;\n",
       "    }\n",
       "\n",
       "    .dataframe tbody tr th {\n",
       "        vertical-align: top;\n",
       "    }\n",
       "\n",
       "    .dataframe thead th {\n",
       "        text-align: right;\n",
       "    }\n",
       "</style>\n",
       "<table border=\"1\" class=\"dataframe\">\n",
       "  <thead>\n",
       "    <tr style=\"text-align: right;\">\n",
       "      <th></th>\n",
       "      <th>CAS Number</th>\n",
       "      <th>CAS Number_cosing</th>\n",
       "      <th>EC Number</th>\n",
       "      <th>EC Number_cosing</th>\n",
       "      <th>Name_Edlist_Echa</th>\n",
       "      <th>Chemical name</th>\n",
       "      <th>Chemical/IUPAC Name</th>\n",
       "      <th>Name of Common Ingredients Glossary</th>\n",
       "      <th>Identified INGREDIENTS or substances e.g.</th>\n",
       "    </tr>\n",
       "  </thead>\n",
       "  <tbody>\n",
       "    <tr>\n",
       "      <th>91</th>\n",
       "      <td>36861-47-9</td>\n",
       "      <td>38102-62-4</td>\n",
       "      <td>253-242-6</td>\n",
       "      <td>NaN</td>\n",
       "      <td>(±)-1,7,7-trimethyl-3-[(4-methylphenyl)methyle...</td>\n",
       "      <td>3-(4'-methylbenzylidene)-camphor; [INCI: 4-Met...</td>\n",
       "      <td>NaN</td>\n",
       "      <td>NaN</td>\n",
       "      <td>4-METHYLBENZYLIDENE CAMPHOR</td>\n",
       "    </tr>\n",
       "    <tr>\n",
       "      <th>104</th>\n",
       "      <td>7440-50-8</td>\n",
       "      <td>7440-50-8</td>\n",
       "      <td>231-159-6</td>\n",
       "      <td>NaN</td>\n",
       "      <td>Copper</td>\n",
       "      <td>Copper</td>\n",
       "      <td>Copper</td>\n",
       "      <td>CI 77400</td>\n",
       "      <td>CI 77400</td>\n",
       "    </tr>\n",
       "    <tr>\n",
       "      <th>118</th>\n",
       "      <td>94-26-8</td>\n",
       "      <td>35285-69-9</td>\n",
       "      <td>202-318-7</td>\n",
       "      <td>NaN</td>\n",
       "      <td>Butyl 4-hydroxybenzoate; Butylparaben</td>\n",
       "      <td>Butyl 4-hydroxy­benzoate and its salts Propyl ...</td>\n",
       "      <td>Butyl 4-hydroxy­benzoate and its salts Propyl ...</td>\n",
       "      <td>BUTYLPARABEN/PROPYLPARABEN/SODIUM PROPOYLPARAB...</td>\n",
       "      <td>BUTYLPARABEN\\nPOTASSIUM BUTYLPARABEN\\nPOTASSIU...</td>\n",
       "    </tr>\n",
       "  </tbody>\n",
       "</table>\n",
       "</div>"
      ],
      "text/plain": [
       "     CAS Number CAS Number_cosing  EC Number EC Number_cosing  \\\n",
       "91   36861-47-9        38102-62-4  253-242-6              NaN   \n",
       "104   7440-50-8        7440-50-8   231-159-6              NaN   \n",
       "118     94-26-8        35285-69-9  202-318-7              NaN   \n",
       "\n",
       "                                      Name_Edlist_Echa  \\\n",
       "91   (±)-1,7,7-trimethyl-3-[(4-methylphenyl)methyle...   \n",
       "104                                             Copper   \n",
       "118              Butyl 4-hydroxybenzoate; Butylparaben   \n",
       "\n",
       "                                         Chemical name  \\\n",
       "91   3-(4'-methylbenzylidene)-camphor; [INCI: 4-Met...   \n",
       "104                                             Copper   \n",
       "118  Butyl 4-hydroxy­benzoate and its salts Propyl ...   \n",
       "\n",
       "                                   Chemical/IUPAC Name  \\\n",
       "91                                                 NaN   \n",
       "104                                             Copper   \n",
       "118  Butyl 4-hydroxy­benzoate and its salts Propyl ...   \n",
       "\n",
       "                   Name of Common Ingredients Glossary  \\\n",
       "91                                                 NaN   \n",
       "104                                           CI 77400   \n",
       "118  BUTYLPARABEN/PROPYLPARABEN/SODIUM PROPOYLPARAB...   \n",
       "\n",
       "             Identified INGREDIENTS or substances e.g.  \n",
       "91                         4-METHYLBENZYLIDENE CAMPHOR  \n",
       "104                                           CI 77400  \n",
       "118  BUTYLPARABEN\\nPOTASSIUM BUTYLPARABEN\\nPOTASSIU...  "
      ]
     },
     "execution_count": 69,
     "metadata": {},
     "output_type": "execute_result"
    }
   ],
   "source": [
    "# Consulta para CAS Number distintos\n",
    "diferentes_cas = union_completa[\n",
    "    (union_completa['CAS Number'].notna()) &\n",
    "    (union_completa['CAS Number_cosing'].notna()) &\n",
    "    (union_completa['CAS Number'] != union_completa['CAS Number_cosing'])\n",
    "]\n",
    "\n",
    "diferentes_cas[['CAS Number', 'CAS Number_cosing','EC Number', 'EC Number_cosing', 'Name_Edlist_Echa', 'Chemical name', \n",
    "'Chemical/IUPAC Name', 'Name of Common Ingredients Glossary', 'Identified INGREDIENTS or substances e.g.' ]].head(3)"
   ]
  },
  {
   "cell_type": "markdown",
   "id": "32663f19",
   "metadata": {},
   "source": [
    "Parece que el primer registro de la consulta no se ha realizado bien la unión. \n",
    "\n",
    "Las 4 variables que hacen referencia al nombre no coinciden \n",
    "\n",
    "Consultamos los nombres de las 2 tablas."
   ]
  },
  {
   "cell_type": "markdown",
   "id": "26985d35",
   "metadata": {},
   "source": [
    "A simple vista parece que no, pero consultando el EC Number por el que se ha unido parece que se trata de la misma sustancia si consultamos la fuente de origen cosing_clean.\n",
    "\n",
    "Se trata del mismo producto, que tiene mismo EC Number y distinto CAS Number, esto es debido al método explode utilizado para poder tener un solo número por fila."
   ]
  },
  {
   "cell_type": "code",
   "execution_count": 70,
   "id": "fe08487a",
   "metadata": {},
   "outputs": [
    {
     "data": {
      "text/html": [
       "<div>\n",
       "<style scoped>\n",
       "    .dataframe tbody tr th:only-of-type {\n",
       "        vertical-align: middle;\n",
       "    }\n",
       "\n",
       "    .dataframe tbody tr th {\n",
       "        vertical-align: top;\n",
       "    }\n",
       "\n",
       "    .dataframe thead th {\n",
       "        text-align: right;\n",
       "    }\n",
       "</style>\n",
       "<table border=\"1\" class=\"dataframe\">\n",
       "  <thead>\n",
       "    <tr style=\"text-align: right;\">\n",
       "      <th></th>\n",
       "      <th>CAS Number</th>\n",
       "      <th>Chemical name</th>\n",
       "    </tr>\n",
       "  </thead>\n",
       "  <tbody>\n",
       "    <tr>\n",
       "      <th>675</th>\n",
       "      <td>36861-47-9</td>\n",
       "      <td>3-(4'-methylbenzylidene)-camphor; [INCI: 4-Met...</td>\n",
       "    </tr>\n",
       "    <tr>\n",
       "      <th>677</th>\n",
       "      <td>38102-62-4</td>\n",
       "      <td>3-(4'-methylbenzylidene)-camphor; [INCI: 4-Met...</td>\n",
       "    </tr>\n",
       "  </tbody>\n",
       "</table>\n",
       "</div>"
      ],
      "text/plain": [
       "     CAS Number                                      Chemical name\n",
       "675  36861-47-9  3-(4'-methylbenzylidene)-camphor; [INCI: 4-Met...\n",
       "677  38102-62-4  3-(4'-methylbenzylidene)-camphor; [INCI: 4-Met..."
      ]
     },
     "execution_count": 70,
     "metadata": {},
     "output_type": "execute_result"
    }
   ],
   "source": [
    "cosing_clean.loc[cosing_clean[\"EC Number\"] == \"253-242-6\", \n",
    "                 ['CAS Number','Chemical name']]\n"
   ]
  },
  {
   "cell_type": "code",
   "execution_count": 71,
   "id": "218365d9",
   "metadata": {},
   "outputs": [
    {
     "data": {
      "text/html": [
       "<div>\n",
       "<style scoped>\n",
       "    .dataframe tbody tr th:only-of-type {\n",
       "        vertical-align: middle;\n",
       "    }\n",
       "\n",
       "    .dataframe tbody tr th {\n",
       "        vertical-align: top;\n",
       "    }\n",
       "\n",
       "    .dataframe thead th {\n",
       "        text-align: right;\n",
       "    }\n",
       "</style>\n",
       "<table border=\"1\" class=\"dataframe\">\n",
       "  <thead>\n",
       "    <tr style=\"text-align: right;\">\n",
       "      <th></th>\n",
       "      <th>CAS Number</th>\n",
       "      <th>CAS Number_cosing</th>\n",
       "      <th>EC Number</th>\n",
       "      <th>EC Number_cosing</th>\n",
       "      <th>Name_Edlist_Echa</th>\n",
       "      <th>Chemical name</th>\n",
       "      <th>Chemical/IUPAC Name</th>\n",
       "      <th>Name of Common Ingredients Glossary</th>\n",
       "      <th>Identified INGREDIENTS or substances e.g.</th>\n",
       "    </tr>\n",
       "  </thead>\n",
       "  <tbody>\n",
       "    <tr>\n",
       "      <th>5</th>\n",
       "      <td>110235-47-7</td>\n",
       "      <td>NaN</td>\n",
       "      <td>432-140-7</td>\n",
       "      <td>600-951-7</td>\n",
       "      <td>Mepanipyrim</td>\n",
       "      <td>Mepanipyrim; 4-methyl-N-phenyl-6-(1-propynyl)-...</td>\n",
       "      <td>Mepanipyrim; 4-methyl-N-phenyl-6-(1-propynyl)-...</td>\n",
       "      <td>NaN</td>\n",
       "      <td>NaN</td>\n",
       "    </tr>\n",
       "    <tr>\n",
       "      <th>55</th>\n",
       "      <td>94-26-8</td>\n",
       "      <td>NaN</td>\n",
       "      <td>202-318-7</td>\n",
       "      <td>202-307-7</td>\n",
       "      <td>Butyl 4-hydroxybenzoate; Butylparaben</td>\n",
       "      <td>Butyl 4-hydroxy­benzoate and its salts Propyl ...</td>\n",
       "      <td>Butyl 4-hydroxy­benzoate and its salts Propyl ...</td>\n",
       "      <td>BUTYLPARABEN/PROPYLPARABEN/SODIUM PROPOYLPARAB...</td>\n",
       "      <td>BUTYLPARABEN\\nPOTASSIUM BUTYLPARABEN\\nPOTASSIU...</td>\n",
       "    </tr>\n",
       "    <tr>\n",
       "      <th>56</th>\n",
       "      <td>94-26-8</td>\n",
       "      <td>NaN</td>\n",
       "      <td>202-318-7</td>\n",
       "      <td>252-488-1</td>\n",
       "      <td>Butyl 4-hydroxybenzoate; Butylparaben</td>\n",
       "      <td>Butyl 4-hydroxy­benzoate and its salts Propyl ...</td>\n",
       "      <td>Butyl 4-hydroxy­benzoate and its salts Propyl ...</td>\n",
       "      <td>BUTYLPARABEN/PROPYLPARABEN/SODIUM PROPOYLPARAB...</td>\n",
       "      <td>BUTYLPARABEN\\nPOTASSIUM BUTYLPARABEN\\nPOTASSIU...</td>\n",
       "    </tr>\n",
       "    <tr>\n",
       "      <th>57</th>\n",
       "      <td>94-26-8</td>\n",
       "      <td>NaN</td>\n",
       "      <td>202-318-7</td>\n",
       "      <td>253-049-7</td>\n",
       "      <td>Butyl 4-hydroxybenzoate; Butylparaben</td>\n",
       "      <td>Butyl 4-hydroxy­benzoate and its salts Propyl ...</td>\n",
       "      <td>Butyl 4-hydroxy­benzoate and its salts Propyl ...</td>\n",
       "      <td>BUTYLPARABEN/PROPYLPARABEN/SODIUM PROPOYLPARAB...</td>\n",
       "      <td>BUTYLPARABEN\\nPOTASSIUM BUTYLPARABEN\\nPOTASSIU...</td>\n",
       "    </tr>\n",
       "    <tr>\n",
       "      <th>58</th>\n",
       "      <td>94-26-8</td>\n",
       "      <td>NaN</td>\n",
       "      <td>202-318-7</td>\n",
       "      <td>254-009-1</td>\n",
       "      <td>Butyl 4-hydroxybenzoate; Butylparaben</td>\n",
       "      <td>Butyl 4-hydroxy­benzoate and its salts Propyl ...</td>\n",
       "      <td>Butyl 4-hydroxy­benzoate and its salts Propyl ...</td>\n",
       "      <td>BUTYLPARABEN/PROPYLPARABEN/SODIUM PROPOYLPARAB...</td>\n",
       "      <td>BUTYLPARABEN\\nPOTASSIUM BUTYLPARABEN\\nPOTASSIU...</td>\n",
       "    </tr>\n",
       "    <tr>\n",
       "      <th>59</th>\n",
       "      <td>94-26-8</td>\n",
       "      <td>NaN</td>\n",
       "      <td>202-318-7</td>\n",
       "      <td>284-597-5</td>\n",
       "      <td>Butyl 4-hydroxybenzoate; Butylparaben</td>\n",
       "      <td>Butyl 4-hydroxy­benzoate and its salts Propyl ...</td>\n",
       "      <td>Butyl 4-hydroxy­benzoate and its salts Propyl ...</td>\n",
       "      <td>BUTYLPARABEN/PROPYLPARABEN/SODIUM PROPOYLPARAB...</td>\n",
       "      <td>BUTYLPARABEN\\nPOTASSIUM BUTYLPARABEN\\nPOTASSIU...</td>\n",
       "    </tr>\n",
       "  </tbody>\n",
       "</table>\n",
       "</div>"
      ],
      "text/plain": [
       "     CAS Number CAS Number_cosing  EC Number EC Number_cosing  \\\n",
       "5   110235-47-7               NaN  432-140-7        600-951-7   \n",
       "55      94-26-8               NaN  202-318-7        202-307-7   \n",
       "56      94-26-8               NaN  202-318-7        252-488-1   \n",
       "57      94-26-8               NaN  202-318-7        253-049-7   \n",
       "58      94-26-8               NaN  202-318-7        254-009-1   \n",
       "59      94-26-8               NaN  202-318-7        284-597-5   \n",
       "\n",
       "                         Name_Edlist_Echa  \\\n",
       "5                             Mepanipyrim   \n",
       "55  Butyl 4-hydroxybenzoate; Butylparaben   \n",
       "56  Butyl 4-hydroxybenzoate; Butylparaben   \n",
       "57  Butyl 4-hydroxybenzoate; Butylparaben   \n",
       "58  Butyl 4-hydroxybenzoate; Butylparaben   \n",
       "59  Butyl 4-hydroxybenzoate; Butylparaben   \n",
       "\n",
       "                                        Chemical name  \\\n",
       "5   Mepanipyrim; 4-methyl-N-phenyl-6-(1-propynyl)-...   \n",
       "55  Butyl 4-hydroxy­benzoate and its salts Propyl ...   \n",
       "56  Butyl 4-hydroxy­benzoate and its salts Propyl ...   \n",
       "57  Butyl 4-hydroxy­benzoate and its salts Propyl ...   \n",
       "58  Butyl 4-hydroxy­benzoate and its salts Propyl ...   \n",
       "59  Butyl 4-hydroxy­benzoate and its salts Propyl ...   \n",
       "\n",
       "                                  Chemical/IUPAC Name  \\\n",
       "5   Mepanipyrim; 4-methyl-N-phenyl-6-(1-propynyl)-...   \n",
       "55  Butyl 4-hydroxy­benzoate and its salts Propyl ...   \n",
       "56  Butyl 4-hydroxy­benzoate and its salts Propyl ...   \n",
       "57  Butyl 4-hydroxy­benzoate and its salts Propyl ...   \n",
       "58  Butyl 4-hydroxy­benzoate and its salts Propyl ...   \n",
       "59  Butyl 4-hydroxy­benzoate and its salts Propyl ...   \n",
       "\n",
       "                  Name of Common Ingredients Glossary  \\\n",
       "5                                                 NaN   \n",
       "55  BUTYLPARABEN/PROPYLPARABEN/SODIUM PROPOYLPARAB...   \n",
       "56  BUTYLPARABEN/PROPYLPARABEN/SODIUM PROPOYLPARAB...   \n",
       "57  BUTYLPARABEN/PROPYLPARABEN/SODIUM PROPOYLPARAB...   \n",
       "58  BUTYLPARABEN/PROPYLPARABEN/SODIUM PROPOYLPARAB...   \n",
       "59  BUTYLPARABEN/PROPYLPARABEN/SODIUM PROPOYLPARAB...   \n",
       "\n",
       "            Identified INGREDIENTS or substances e.g.  \n",
       "5                                                 NaN  \n",
       "55  BUTYLPARABEN\\nPOTASSIUM BUTYLPARABEN\\nPOTASSIU...  \n",
       "56  BUTYLPARABEN\\nPOTASSIUM BUTYLPARABEN\\nPOTASSIU...  \n",
       "57  BUTYLPARABEN\\nPOTASSIUM BUTYLPARABEN\\nPOTASSIU...  \n",
       "58  BUTYLPARABEN\\nPOTASSIUM BUTYLPARABEN\\nPOTASSIU...  \n",
       "59  BUTYLPARABEN\\nPOTASSIUM BUTYLPARABEN\\nPOTASSIU...  "
      ]
     },
     "execution_count": 71,
     "metadata": {},
     "output_type": "execute_result"
    }
   ],
   "source": [
    "# Consulta para EC Number distintos\n",
    "diferentes_ec = union_completa[\n",
    "    (union_completa['EC Number'].notna()) &\n",
    "    (union_completa['EC Number_cosing'].notna()) &\n",
    "    (union_completa['EC Number'] != union_completa['EC Number_cosing'])\n",
    "]\n",
    "\n",
    "diferentes_ec[['CAS Number', 'CAS Number_cosing','EC Number', 'EC Number_cosing', 'Name_Edlist_Echa', 'Chemical name','Chemical/IUPAC Name', 'Name of Common Ingredients Glossary', 'Identified INGREDIENTS or substances e.g.' ]]"
   ]
  },
  {
   "cell_type": "markdown",
   "id": "1b0cda4f",
   "metadata": {},
   "source": [
    "En este caso, parece todo en orden."
   ]
  },
  {
   "cell_type": "code",
   "execution_count": 72,
   "id": "d7d5be35",
   "metadata": {},
   "outputs": [
    {
     "data": {
      "text/html": [
       "<div>\n",
       "<style scoped>\n",
       "    .dataframe tbody tr th:only-of-type {\n",
       "        vertical-align: middle;\n",
       "    }\n",
       "\n",
       "    .dataframe tbody tr th {\n",
       "        vertical-align: top;\n",
       "    }\n",
       "\n",
       "    .dataframe thead th {\n",
       "        text-align: right;\n",
       "    }\n",
       "</style>\n",
       "<table border=\"1\" class=\"dataframe\">\n",
       "  <thead>\n",
       "    <tr style=\"text-align: right;\">\n",
       "      <th></th>\n",
       "      <th>Chemical name</th>\n",
       "      <th>Chemical/IUPAC Name</th>\n",
       "      <th>Name_Chemical_Cosing</th>\n",
       "    </tr>\n",
       "  </thead>\n",
       "  <tbody>\n",
       "    <tr>\n",
       "      <th>17</th>\n",
       "      <td>Tris[2-chloro-1-(chloromethyl)ethyl] phosphate</td>\n",
       "      <td>Tris[2-chloro-1-(chloromethyl)ethyl] phosphate</td>\n",
       "      <td>Tris[2-chloro-1-(chloromethyl)ethyl] phosphate</td>\n",
       "    </tr>\n",
       "    <tr>\n",
       "      <th>18</th>\n",
       "      <td>Ziram</td>\n",
       "      <td>NaN</td>\n",
       "      <td>Ziram</td>\n",
       "    </tr>\n",
       "    <tr>\n",
       "      <th>19</th>\n",
       "      <td>3-methylpyrazole</td>\n",
       "      <td>3-methylpyrazole</td>\n",
       "      <td>3-methylpyrazole</td>\n",
       "    </tr>\n",
       "    <tr>\n",
       "      <th>20</th>\n",
       "      <td>4,4'-[2,2,2-trifluoro-1-(trifluoromethyl)ethyl...</td>\n",
       "      <td>NaN</td>\n",
       "      <td>4,4'-[2,2,2-trifluoro-1-(trifluoromethyl)ethyl...</td>\n",
       "    </tr>\n",
       "    <tr>\n",
       "      <th>21</th>\n",
       "      <td>3-Benzylidene camphor</td>\n",
       "      <td>NaN</td>\n",
       "      <td>3-Benzylidene camphor</td>\n",
       "    </tr>\n",
       "    <tr>\n",
       "      <th>22</th>\n",
       "      <td>Propargite (ISO)</td>\n",
       "      <td>2-(-tert-butylphenoxy)cyclohexyl prop-2-ynyl s...</td>\n",
       "      <td>2-(-tert-butylphenoxy)cyclohexyl prop-2-ynyl s...</td>\n",
       "    </tr>\n",
       "    <tr>\n",
       "      <th>23</th>\n",
       "      <td>Thiophanate-methyl</td>\n",
       "      <td>1,2-di-(3-methoxycarbonyl-2-thioureido)benzene</td>\n",
       "      <td>1,2-di-(3-methoxycarbonyl-2-thioureido)benzene</td>\n",
       "    </tr>\n",
       "    <tr>\n",
       "      <th>24</th>\n",
       "      <td>1,2,4-Triazole</td>\n",
       "      <td>NaN</td>\n",
       "      <td>1,2,4-Triazole</td>\n",
       "    </tr>\n",
       "    <tr>\n",
       "      <th>25</th>\n",
       "      <td>Diuron (ISO)</td>\n",
       "      <td>3-(3,4-dichlorophenyl)-1,1-dimethylurea</td>\n",
       "      <td>3-(3,4-dichlorophenyl)-1,1-dimethylurea</td>\n",
       "    </tr>\n",
       "  </tbody>\n",
       "</table>\n",
       "</div>"
      ],
      "text/plain": [
       "                                        Chemical name  \\\n",
       "17     Tris[2-chloro-1-(chloromethyl)ethyl] phosphate   \n",
       "18                                              Ziram   \n",
       "19                                   3-methylpyrazole   \n",
       "20  4,4'-[2,2,2-trifluoro-1-(trifluoromethyl)ethyl...   \n",
       "21                              3-Benzylidene camphor   \n",
       "22                                   Propargite (ISO)   \n",
       "23                                 Thiophanate-methyl   \n",
       "24                                     1,2,4-Triazole   \n",
       "25                                       Diuron (ISO)   \n",
       "\n",
       "                                  Chemical/IUPAC Name  \\\n",
       "17     Tris[2-chloro-1-(chloromethyl)ethyl] phosphate   \n",
       "18                                                NaN   \n",
       "19                                   3-methylpyrazole   \n",
       "20                                                NaN   \n",
       "21                                                NaN   \n",
       "22  2-(-tert-butylphenoxy)cyclohexyl prop-2-ynyl s...   \n",
       "23     1,2-di-(3-methoxycarbonyl-2-thioureido)benzene   \n",
       "24                                                NaN   \n",
       "25            3-(3,4-dichlorophenyl)-1,1-dimethylurea   \n",
       "\n",
       "                                 Name_Chemical_Cosing  \n",
       "17     Tris[2-chloro-1-(chloromethyl)ethyl] phosphate  \n",
       "18                                              Ziram  \n",
       "19                                   3-methylpyrazole  \n",
       "20  4,4'-[2,2,2-trifluoro-1-(trifluoromethyl)ethyl...  \n",
       "21                              3-Benzylidene camphor  \n",
       "22  2-(-tert-butylphenoxy)cyclohexyl prop-2-ynyl s...  \n",
       "23     1,2-di-(3-methoxycarbonyl-2-thioureido)benzene  \n",
       "24                                     1,2,4-Triazole  \n",
       "25            3-(3,4-dichlorophenyl)-1,1-dimethylurea  "
      ]
     },
     "execution_count": 72,
     "metadata": {},
     "output_type": "execute_result"
    }
   ],
   "source": [
    "nombre_mas_informativo_generico(union_completa, 'Chemical name', 'Chemical/IUPAC Name', 'Name_Chemical_Cosing')\n",
    "union_completa[['Chemical name', 'Chemical/IUPAC Name', 'Name_Chemical_Cosing']].iloc[17:26]"
   ]
  },
  {
   "cell_type": "markdown",
   "id": "143c4d89",
   "metadata": {},
   "source": [
    "He consultado manualmente en la web de COSING y cuando no hay nombre \"Name of Common Ingredients Glossary\" su nombre INCI es el de la variable \"Identified INGREDIENTS or substances e.g.\""
   ]
  },
  {
   "cell_type": "code",
   "execution_count": 73,
   "id": "f3398477",
   "metadata": {},
   "outputs": [],
   "source": [
    "# Combinamos las vatiables de nombre \n",
    "union_completa[\"nombre_etiqueta\"] = union_completa[\"Name of Common Ingredients Glossary\"].combine_first(\n",
    "    union_completa[\"Identified INGREDIENTS or substances e.g.\"]\n",
    ")"
   ]
  },
  {
   "cell_type": "code",
   "execution_count": 74,
   "id": "2208cbe8",
   "metadata": {},
   "outputs": [],
   "source": [
    "# Elegimos las variables que hacen referencia a nombres y las que nos van a servir más adelante para otros fines.\n",
    "\n",
    "union_completa =  union_completa[['Name_Edlist_Echa', 'Fuente_original', 'Appears on lists', 'Health effects','CAS Number', 'EC Number', \n",
    "'Name_Chemical_Cosing', 'nombre_etiqueta', 'Product Type, body parts','Anexo_cosIng' ]]"
   ]
  },
  {
   "cell_type": "code",
   "execution_count": 75,
   "id": "e3a767a5",
   "metadata": {},
   "outputs": [
    {
     "name": "stdout",
     "output_type": "stream",
     "text": [
      "<class 'pandas.core.frame.DataFrame'>\n",
      "RangeIndex: 126 entries, 0 to 125\n",
      "Data columns (total 10 columns):\n",
      " #   Column                    Non-Null Count  Dtype  \n",
      "---  ------                    --------------  -----  \n",
      " 0   Name_Edlist_Echa          126 non-null    object \n",
      " 1   Fuente_original           126 non-null    object \n",
      " 2   Appears on lists          88 non-null     object \n",
      " 3   Health effects            88 non-null     float64\n",
      " 4   CAS Number                126 non-null    object \n",
      " 5   EC Number                 125 non-null    object \n",
      " 6   Name_Chemical_Cosing      126 non-null    object \n",
      " 7   nombre_etiqueta           74 non-null     object \n",
      " 8   Product Type, body parts  20 non-null     object \n",
      " 9   Anexo_cosIng              126 non-null    object \n",
      "dtypes: float64(1), object(9)\n",
      "memory usage: 10.0+ KB\n"
     ]
    }
   ],
   "source": [
    "union_completa.info()"
   ]
  },
  {
   "cell_type": "code",
   "execution_count": 76,
   "id": "3abfdc79",
   "metadata": {},
   "outputs": [
    {
     "data": {
      "text/plain": [
       "Name_Edlist_Echa            False\n",
       "Fuente_original             False\n",
       "Appears on lists            False\n",
       "Health effects              False\n",
       "CAS Number                  False\n",
       "EC Number                   False\n",
       "Name_Chemical_Cosing        False\n",
       "nombre_etiqueta             False\n",
       "Product Type, body parts    False\n",
       "Anexo_cosIng                False\n",
       "dtype: bool"
      ]
     },
     "execution_count": 76,
     "metadata": {},
     "output_type": "execute_result"
    }
   ],
   "source": [
    "# Devuelve True si hay al menos un None en string en esa columna\n",
    "union_completa.isin([\"None\"]).any()"
   ]
  },
  {
   "cell_type": "markdown",
   "id": "65a83c0b",
   "metadata": {},
   "source": [
    "## 11. Variable \"nombre_etiqueta\": tratamiento de símbolos y duplicados\n",
    "\n",
    "Ahora vamos a comprobar la varible 'nombre_etiqueta', porque es la variable objetivo, pues es de la que obtendremos el nombre de la etiqueta.\n",
    "\n",
    "Vamos a ver si esta variable tiene más de un nombre en un registro separado por comas, barras o punto y coma.\n",
    "\n",
    "Los guiones y las comas no podemos tenerlos en cuenta porque claramente forman parte del nombre, y aunque parece más un nombre químico se encuentra en esta variable."
   ]
  },
  {
   "cell_type": "code",
   "execution_count": 77,
   "id": "4d9ecd98",
   "metadata": {},
   "outputs": [
    {
     "data": {
      "text/plain": [
       "nombre_etiqueta\n",
       "BUTYLPARABEN/PROPYLPARABEN/SODIUM PROPOYLPARABEN/SODIUM BUTYLPARABEN/POTASSIUM BUTYLPARABEN/POTASSIUM PROPYLPARABEN    12\n",
       "4-METHYLBENZYLIDENE CAMPHOR                                                                                             4\n",
       "Geraniol                                                                                                                2\n",
       "Triclocarban                                                                                                            2\n",
       "DIETHYLHEXYL PHTHALATE                                                                                                  2\n",
       "METHYL SALICYLATE                                                                                                       2\n",
       "Hexamethylindanopyran                                                                                                   2\n",
       "TRICLOCARBAN                                                                                                            2\n",
       "Butylated Hydroxytoluene                                                                                                2\n",
       "AMMONIUM SILVER ZINC ALUMINUM SILICATE                                                                                  2\n",
       "TRICRESYL PHOSPHATE                                                                                                     2\n",
       "BENZOPHENONE-3                                                                                                          2\n",
       "3-BENZYLIDENE CAMPHOR                                                                                                   2\n",
       "Triclosan                                                                                                               2\n",
       "2-BROMO-2-NITROPROPANE-1,3-DIOL                                                                                         2\n",
       "RESORCINOL                                                                                                              2\n",
       "IODOPROPYNYL BUTYLCARBAMATE                                                                                             2\n",
       "CYCLOMETHICONE                                                                                                          2\n",
       "Butyl Methoxydibenzoylmethane                                                                                           2\n",
       "SALICYLIC ACID                                                                                                          2\n",
       "METHYLTHIOPHENYL MORPHOLINO ISOBUTANONE                                                                                 2\n",
       "COLLOIDAL SILVER                                                                                                        2\n",
       "DICHLOROMETHANE\\n4,6-DIMETHYL-PYRAN-2-ONE                                                                               2\n",
       "Isoamyl p-Methoxycinnamate                                                                                              2\n",
       "SODIUM FLUORIDE                                                                                                         2\n",
       "TETRAMETHRIN                                                                                                            2\n",
       "BUTYLPHENYL METHYLPROPIONAL                                                                                             2\n",
       "4,4'-ISOPROPYLIDENEDIPHENOL                                                                                             2\n",
       "DIBUTYL PHTHALATE                                                                                                       2\n",
       "BUTYL BENZYL PHTHALATE                                                                                                  2\n",
       "CI 77820                                                                                                                1\n",
       "CI 77400                                                                                                                1\n",
       "Name: count, dtype: int64"
      ]
     },
     "execution_count": 77,
     "metadata": {},
     "output_type": "execute_result"
    }
   ],
   "source": [
    "union_completa['nombre_etiqueta'].value_counts()"
   ]
  },
  {
   "cell_type": "markdown",
   "id": "4eff3628",
   "metadata": {},
   "source": [
    "A simple vista vemos que hay ingredientes en **nombre_etiqueta* que contienen más de un ingrediente pero están separados por el símbolo /\n",
    "\n",
    "Vamos a dividir y explotar la variable"
   ]
  },
  {
   "cell_type": "code",
   "execution_count": 78,
   "id": "c6ee9de6",
   "metadata": {},
   "outputs": [],
   "source": [
    "# Separamos nombre_etiqueta por /\n",
    "union_completa['nombre_etiqueta'] = union_completa['nombre_etiqueta'].str.split(r'[/]')"
   ]
  },
  {
   "cell_type": "code",
   "execution_count": 79,
   "id": "534591ff",
   "metadata": {},
   "outputs": [],
   "source": [
    "# Descomponemos fila por nombre_etiqueta\n",
    "union_completa = union_completa.explode('nombre_etiqueta')"
   ]
  },
  {
   "cell_type": "code",
   "execution_count": 80,
   "id": "a2533ff8",
   "metadata": {},
   "outputs": [
    {
     "data": {
      "text/plain": [
       "nombre_etiqueta\n",
       "SODIUM PROPOYLPARABEN                        12\n",
       "PROPYLPARABEN                                12\n",
       "BUTYLPARABEN                                 12\n",
       "POTASSIUM PROPYLPARABEN                      12\n",
       "POTASSIUM BUTYLPARABEN                       12\n",
       "SODIUM BUTYLPARABEN                          12\n",
       "4-METHYLBENZYLIDENE CAMPHOR                   4\n",
       "DIETHYLHEXYL PHTHALATE                        2\n",
       "TRICLOCARBAN                                  2\n",
       "Triclocarban                                  2\n",
       "RESORCINOL                                    2\n",
       "Geraniol                                      2\n",
       "METHYL SALICYLATE                             2\n",
       "Triclosan                                     2\n",
       "2-BROMO-2-NITROPROPANE-1,3-DIOL               2\n",
       "Butylated Hydroxytoluene                      2\n",
       "Hexamethylindanopyran                         2\n",
       "BENZOPHENONE-3                                2\n",
       "TRICRESYL PHOSPHATE                           2\n",
       "3-BENZYLIDENE CAMPHOR                         2\n",
       "AMMONIUM SILVER ZINC ALUMINUM SILICATE        2\n",
       "METHYLTHIOPHENYL MORPHOLINO ISOBUTANONE       2\n",
       "Isoamyl p-Methoxycinnamate                    2\n",
       "Butyl Methoxydibenzoylmethane                 2\n",
       "SALICYLIC ACID                                2\n",
       "CYCLOMETHICONE                                2\n",
       "IODOPROPYNYL BUTYLCARBAMATE                   2\n",
       "COLLOIDAL SILVER                              2\n",
       "DICHLOROMETHANE\\n4,6-DIMETHYL-PYRAN-2-ONE     2\n",
       "BUTYL BENZYL PHTHALATE                        2\n",
       "DIBUTYL PHTHALATE                             2\n",
       "BUTYLPHENYL METHYLPROPIONAL                   2\n",
       "4,4'-ISOPROPYLIDENEDIPHENOL                   2\n",
       "TETRAMETHRIN                                  2\n",
       "SODIUM FLUORIDE                               2\n",
       "CI 77820                                      1\n",
       "CI 77400                                      1\n",
       "Name: count, dtype: int64"
      ]
     },
     "execution_count": 80,
     "metadata": {},
     "output_type": "execute_result"
    }
   ],
   "source": [
    "union_completa['nombre_etiqueta'].value_counts()"
   ]
  },
  {
   "cell_type": "code",
   "execution_count": 81,
   "id": "9e9001f7",
   "metadata": {},
   "outputs": [
    {
     "data": {
      "text/plain": [
       "Name_Edlist_Echa              0\n",
       "Fuente_original               0\n",
       "Appears on lists             38\n",
       "Health effects               38\n",
       "CAS Number                    0\n",
       "EC Number                     1\n",
       "Name_Chemical_Cosing          0\n",
       "nombre_etiqueta              52\n",
       "Product Type, body parts    166\n",
       "Anexo_cosIng                  0\n",
       "dtype: int64"
      ]
     },
     "execution_count": 81,
     "metadata": {},
     "output_type": "execute_result"
    }
   ],
   "source": [
    "union_completa.isnull().sum()"
   ]
  },
  {
   "cell_type": "code",
   "execution_count": 82,
   "id": "ec1f9955",
   "metadata": {},
   "outputs": [],
   "source": [
    "# pasamos a minusculas la variable nombre_etiqueta\n",
    "union_completa['nombre_etiqueta'] = union_completa['nombre_etiqueta'].str.lower()\n"
   ]
  },
  {
   "cell_type": "code",
   "execution_count": 83,
   "id": "09822b4e",
   "metadata": {},
   "outputs": [],
   "source": [
    "union_completa = union_completa.drop_duplicates(subset='nombre_etiqueta', keep='first')"
   ]
  },
  {
   "cell_type": "markdown",
   "id": "f2b2347d",
   "metadata": {},
   "source": [
    "## 12. Lista de disruptores con nombre de etiqueta de este proceso de ETL"
   ]
  },
  {
   "cell_type": "code",
   "execution_count": 84,
   "id": "09eb615f",
   "metadata": {},
   "outputs": [
    {
     "name": "stdout",
     "output_type": "stream",
     "text": [
      "<class 'pandas.core.frame.DataFrame'>\n",
      "Index: 37 entries, 0 to 104\n",
      "Data columns (total 10 columns):\n",
      " #   Column                    Non-Null Count  Dtype  \n",
      "---  ------                    --------------  -----  \n",
      " 0   Name_Edlist_Echa          37 non-null     object \n",
      " 1   Fuente_original           37 non-null     object \n",
      " 2   Appears on lists          26 non-null     object \n",
      " 3   Health effects            26 non-null     float64\n",
      " 4   CAS Number                37 non-null     object \n",
      " 5   EC Number                 37 non-null     object \n",
      " 6   Name_Chemical_Cosing      37 non-null     object \n",
      " 7   nombre_etiqueta           36 non-null     object \n",
      " 8   Product Type, body parts  9 non-null      object \n",
      " 9   Anexo_cosIng              37 non-null     object \n",
      "dtypes: float64(1), object(9)\n",
      "memory usage: 3.2+ KB\n"
     ]
    }
   ],
   "source": [
    "union_completa.info()"
   ]
  },
  {
   "cell_type": "markdown",
   "id": "71157899",
   "metadata": {},
   "source": [
    "**LISTA DEFINITIVA DE ESTE ETL**"
   ]
  },
  {
   "cell_type": "code",
   "execution_count": 85,
   "id": "9f681d8e",
   "metadata": {},
   "outputs": [
    {
     "name": "stdout",
     "output_type": "stream",
     "text": [
      "<class 'pandas.core.frame.DataFrame'>\n",
      "Index: 36 entries, 0 to 104\n",
      "Data columns (total 9 columns):\n",
      " #   Column                Non-Null Count  Dtype  \n",
      "---  ------                --------------  -----  \n",
      " 0   Name_Edlist_Echa      36 non-null     object \n",
      " 1   Name_Chemical_Cosing  36 non-null     object \n",
      " 2   Fuente_original       36 non-null     object \n",
      " 3   Anexo_cosIng          36 non-null     object \n",
      " 4   Appears on lists      26 non-null     object \n",
      " 5   Health effects        26 non-null     float64\n",
      " 6   CAS Number            36 non-null     object \n",
      " 7   EC Number             36 non-null     object \n",
      " 8   nombre_etiqueta       36 non-null     object \n",
      "dtypes: float64(1), object(8)\n",
      "memory usage: 2.8+ KB\n"
     ]
    }
   ],
   "source": [
    "disruptores_etiqueta = union_completa[(union_completa['nombre_etiqueta'].notnull())]\n",
    "\n",
    "# Dejamos las variables que necesitamos\n",
    "disruptores_etiqueta = disruptores_etiqueta[['Name_Edlist_Echa', 'Name_Chemical_Cosing','Fuente_original','Anexo_cosIng','Appears on lists', 'Health effects','CAS Number','EC Number','nombre_etiqueta']]\n",
    "disruptores_etiqueta.info()"
   ]
  },
  {
   "cell_type": "code",
   "execution_count": 86,
   "id": "fe10c1fa",
   "metadata": {},
   "outputs": [],
   "source": [
    "# Exportamos \n",
    "disruptores_etiqueta.to_excel(\"../../data/processed/notebooks/disruptores_etiqueta.xlsx\", index=False)\n",
    "disruptores_etiqueta.to_parquet(\"../../data/processed/notebooks/disruptores_etiqueta.parquet\", index=False)"
   ]
  }
 ],
 "metadata": {
  "kernelspec": {
   "display_name": "tfm_env",
   "language": "python",
   "name": "python3"
  },
  "language_info": {
   "codemirror_mode": {
    "name": "ipython",
    "version": 3
   },
   "file_extension": ".py",
   "mimetype": "text/x-python",
   "name": "python",
   "nbconvert_exporter": "python",
   "pygments_lexer": "ipython3",
   "version": "3.12.10"
  }
 },
 "nbformat": 4,
 "nbformat_minor": 5
}

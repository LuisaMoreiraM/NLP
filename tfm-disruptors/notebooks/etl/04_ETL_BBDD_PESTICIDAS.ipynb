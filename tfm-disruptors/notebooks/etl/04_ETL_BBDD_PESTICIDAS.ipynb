{
 "cells": [
  {
   "cell_type": "markdown",
   "id": "ac364c24",
   "metadata": {},
   "source": [
    "# ETL BBDD PETICIDAS_UE\n",
    "El objetivo de esta ETL es **extraer** de la api que dispone la Unión Europea  https://data.europa.eu/data/datasets/pesticides?locale=en para **transformar** la BBDD para luego **cargar** y usar este dataset transformado para la unión de tablas"
   ]
  },
  {
   "cell_type": "markdown",
   "id": "b427d92a",
   "metadata": {},
   "source": [
    "## 1. Importamos librerias "
   ]
  },
  {
   "cell_type": "code",
   "execution_count": 1,
   "id": "6218b790",
   "metadata": {},
   "outputs": [],
   "source": [
    "import requests\n",
    "import pandas as pd\n",
    "import ast"
   ]
  },
  {
   "cell_type": "markdown",
   "id": "49c233ef",
   "metadata": {},
   "source": [
    "## 2. Lectura de datos y estructuras de dataframes"
   ]
  },
  {
   "cell_type": "code",
   "execution_count": 2,
   "id": "7feead30",
   "metadata": {},
   "outputs": [],
   "source": [
    "# Extrción de datos de la API de la Unión Europea sobre pesticidas\n",
    "headers = {\n",
    "    'User-Agent': 'Mozilla/5.0 (Windows NT 10.0; Win64; x64)',\n",
    "    'Accept': 'application/json',\n",
    "    'Referer': 'https://api.datalake.sante.service.ec.europa.eu'\n",
    "}\n",
    "\n",
    "url = \"https://api.datalake.sante.service.ec.europa.eu/sante/pesticides/active_substances?format=json&api-version=v2.0\"\n",
    "\n",
    "response = requests.get(url, headers=headers)\n",
    "\n",
    "if response.status_code == 200:\n",
    "    data = response.json()\n",
    "    pesticidas = pd.json_normalize(data['value'])\n",
    "else:\n",
    "    print(\"Error:\", response.status_code, response.text[:200])\n"
   ]
  },
  {
   "cell_type": "code",
   "execution_count": 3,
   "id": "4e860076",
   "metadata": {},
   "outputs": [
    {
     "name": "stdout",
     "output_type": "stream",
     "text": [
      "<class 'pandas.core.frame.DataFrame'>\n",
      "RangeIndex: 100 entries, 0 to 99\n",
      "Data columns (total 46 columns):\n",
      " #   Column                             Non-Null Count  Dtype  \n",
      "---  ------                             --------------  -----  \n",
      " 0   substance_id                       100 non-null    int64  \n",
      " 1   substance_name                     100 non-null    object \n",
      " 2   as_cas_number                      100 non-null    object \n",
      " 3   substance_status                   100 non-null    object \n",
      " 4   approval_date                      64 non-null     object \n",
      " 5   expiry_date                        64 non-null     object \n",
      " 6   risk_assessment                    63 non-null     object \n",
      " 7   substance_category                 72 non-null     object \n",
      " 8   as_is_group                        100 non-null    object \n",
      " 9   as_micro_org                       100 non-null    object \n",
      " 10  rms                                59 non-null     object \n",
      " 11  corms                              39 non-null     object \n",
      " 12  remark                             48 non-null     object \n",
      " 13  legislations_old                   52 non-null     object \n",
      " 14  legislations_actives               90 non-null     object \n",
      " 15  tox_value_adi                      58 non-null     object \n",
      " 16  tox_source_adi                     63 non-null     object \n",
      " 17  tox_remark_adi                     6 non-null      object \n",
      " 18  tox_value_arfd                     57 non-null     object \n",
      " 19  tox_sourc_earfd                    60 non-null     object \n",
      " 20  tox_source_earfd                   60 non-null     object \n",
      " 21  tox_remark_arfd                    8 non-null      object \n",
      " 22  tox_value_aoel                     54 non-null     object \n",
      " 23  tox_source_aoel                    59 non-null     object \n",
      " 24  tox_remark_aoel                    5 non-null      object \n",
      " 25  tox_value_aaoel                    6 non-null      object \n",
      " 26  tox_source_aaoel                   4 non-null      object \n",
      " 27  tox_remark_aaoel                   2 non-null      object \n",
      " 28  tox_value_other                    0 non-null      object \n",
      " 29  tox_source_other                   0 non-null      object \n",
      " 30  tox_remark_other                   0 non-null      object \n",
      " 31  authorisations_at_nat_level        49 non-null     object \n",
      " 32  ac_type                            27 non-null     float64\n",
      " 33  basic_substance                    100 non-null    object \n",
      " 34  low_risk_active_substance          100 non-null    object \n",
      " 35  candidate_for_substitution         100 non-null    object \n",
      " 36  candidate_for_substitution_type    9 non-null      object \n",
      " 37  active_substance_part_of_group     20 non-null     object \n",
      " 38  active_substance_part_of_group_id  20 non-null     float64\n",
      " 39  as_member_id                       20 non-null     float64\n",
      " 40  as_member_name                     20 non-null     object \n",
      " 41  pesticide_residue_linked           100 non-null    object \n",
      " 42  pest_res_linked_annex              80 non-null     object \n",
      " 43  pest_res_linked_legislation        80 non-null     object \n",
      " 44  pest_res_linked_legislation_url    80 non-null     object \n",
      " 45  pest_res_mrl_webpage               80 non-null     object \n",
      "dtypes: float64(3), int64(1), object(42)\n",
      "memory usage: 36.1+ KB\n"
     ]
    }
   ],
   "source": [
    "pesticidas.info()"
   ]
  },
  {
   "cell_type": "markdown",
   "id": "a2c428d8",
   "metadata": {},
   "source": [
    "## 3. ETL"
   ]
  },
  {
   "cell_type": "code",
   "execution_count": 4,
   "id": "450b079d",
   "metadata": {},
   "outputs": [
    {
     "data": {
      "text/html": [
       "<div>\n",
       "<style scoped>\n",
       "    .dataframe tbody tr th:only-of-type {\n",
       "        vertical-align: middle;\n",
       "    }\n",
       "\n",
       "    .dataframe tbody tr th {\n",
       "        vertical-align: top;\n",
       "    }\n",
       "\n",
       "    .dataframe thead th {\n",
       "        text-align: right;\n",
       "    }\n",
       "</style>\n",
       "<table border=\"1\" class=\"dataframe\">\n",
       "  <thead>\n",
       "    <tr style=\"text-align: right;\">\n",
       "      <th></th>\n",
       "      <th>substance_name</th>\n",
       "      <th>as_cas_number</th>\n",
       "    </tr>\n",
       "  </thead>\n",
       "  <tbody>\n",
       "    <tr>\n",
       "      <th>0</th>\n",
       "      <td>(E)-11-Tetradecen-1-yl acetate (SCLP Acetates)</td>\n",
       "      <td>33189-72-9</td>\n",
       "    </tr>\n",
       "    <tr>\n",
       "      <th>1</th>\n",
       "      <td>Iminoctadine</td>\n",
       "      <td>13516-27-3</td>\n",
       "    </tr>\n",
       "    <tr>\n",
       "      <th>2</th>\n",
       "      <td>Silthiofam</td>\n",
       "      <td>175217-20-6</td>\n",
       "    </tr>\n",
       "    <tr>\n",
       "      <th>3</th>\n",
       "      <td>Endosulfan</td>\n",
       "      <td>115-29-7</td>\n",
       "    </tr>\n",
       "    <tr>\n",
       "      <th>4</th>\n",
       "      <td>(E,Z)-7,9-Dodecadien-1-yl acetate (SCLP Acetates)</td>\n",
       "      <td>54364-62-4</td>\n",
       "    </tr>\n",
       "  </tbody>\n",
       "</table>\n",
       "</div>"
      ],
      "text/plain": [
       "                                      substance_name as_cas_number\n",
       "0     (E)-11-Tetradecen-1-yl acetate (SCLP Acetates)    33189-72-9\n",
       "1                                       Iminoctadine    13516-27-3\n",
       "2                                         Silthiofam   175217-20-6\n",
       "3                                         Endosulfan      115-29-7\n",
       "4  (E,Z)-7,9-Dodecadien-1-yl acetate (SCLP Acetates)    54364-62-4"
      ]
     },
     "execution_count": 4,
     "metadata": {},
     "output_type": "execute_result"
    }
   ],
   "source": [
    "# Consultamos las columnas que nos interesan\n",
    "pesticidas =pesticidas [['substance_name', 'as_cas_number']]\n",
    "pesticidas.head()"
   ]
  },
  {
   "cell_type": "markdown",
   "id": "87ed3ea8",
   "metadata": {},
   "source": [
    "Consultamos los valores únicos de ambas variables"
   ]
  },
  {
   "cell_type": "code",
   "execution_count": 5,
   "id": "69c476c2",
   "metadata": {},
   "outputs": [
    {
     "data": {
      "text/plain": [
       "80"
      ]
     },
     "execution_count": 5,
     "metadata": {},
     "output_type": "execute_result"
    }
   ],
   "source": [
    "pesticidas['as_cas_number'].nunique(dropna=True)"
   ]
  },
  {
   "cell_type": "code",
   "execution_count": 6,
   "id": "faf93b00",
   "metadata": {},
   "outputs": [
    {
     "data": {
      "text/plain": [
       "substance_name    0\n",
       "as_cas_number     0\n",
       "dtype: int64"
      ]
     },
     "execution_count": 6,
     "metadata": {},
     "output_type": "execute_result"
    }
   ],
   "source": [
    "pesticidas[pesticidas['as_cas_number'].str.contains(r'[,;/]', regex= True, na=False)].count()"
   ]
  },
  {
   "cell_type": "code",
   "execution_count": 7,
   "id": "fcbb06fd",
   "metadata": {},
   "outputs": [],
   "source": [
    "# Nos quedamos con las variables que nos interesan\n",
    "pesticidas = pesticidas[['substance_name', 'as_cas_number']]\n",
    "\n",
    "# Renombramos las columnas\n",
    "pesticidas.rename(columns={'substance_name': 'Name_Pesticida', 'as_cas_number': 'CAS Number'}, inplace=True)"
   ]
  },
  {
   "cell_type": "code",
   "execution_count": 8,
   "id": "930ec935",
   "metadata": {},
   "outputs": [],
   "source": [
    "# Exportamos el DataFrame \n",
    "pesticidas.to_parquet(\"../../data/processed/notebooks/pesticidas.parquet\", index=False)"
   ]
  }
 ],
 "metadata": {
  "kernelspec": {
   "display_name": "tfm_env",
   "language": "python",
   "name": "python3"
  },
  "language_info": {
   "codemirror_mode": {
    "name": "ipython",
    "version": 3
   },
   "file_extension": ".py",
   "mimetype": "text/x-python",
   "name": "python",
   "nbconvert_exporter": "python",
   "pygments_lexer": "ipython3",
   "version": "3.12.10"
  }
 },
 "nbformat": 4,
 "nbformat_minor": 5
}
